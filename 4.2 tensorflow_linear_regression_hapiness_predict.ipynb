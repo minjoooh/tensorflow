{
 "cells": [
  {
   "cell_type": "markdown",
   "metadata": {},
   "source": [
    "# 세계 행복 지수를 이용해 그 나라의 GDP 예측하기"
   ]
  },
  {
   "cell_type": "code",
   "execution_count": 3,
   "metadata": {},
   "outputs": [],
   "source": [
    "import tensorflow as tf\n",
    "import numpy as np\n",
    "import pandas as pd"
   ]
  },
  {
   "cell_type": "markdown",
   "metadata": {},
   "source": [
    "## 데이터 읽어오기"
   ]
  },
  {
   "cell_type": "code",
   "execution_count": 25,
   "metadata": {},
   "outputs": [
    {
     "data": {
      "text/plain": [
       "(155, 12)"
      ]
     },
     "execution_count": 25,
     "metadata": {},
     "output_type": "execute_result"
    }
   ],
   "source": [
    "df = pd.read_csv('./datasets/world-happiness-report/2017.csv')\n",
    "df.shape"
   ]
  },
  {
   "cell_type": "code",
   "execution_count": 26,
   "metadata": {},
   "outputs": [
    {
     "data": {
      "text/html": [
       "<div>\n",
       "<style scoped>\n",
       "    .dataframe tbody tr th:only-of-type {\n",
       "        vertical-align: middle;\n",
       "    }\n",
       "\n",
       "    .dataframe tbody tr th {\n",
       "        vertical-align: top;\n",
       "    }\n",
       "\n",
       "    .dataframe thead th {\n",
       "        text-align: right;\n",
       "    }\n",
       "</style>\n",
       "<table border=\"1\" class=\"dataframe\">\n",
       "  <thead>\n",
       "    <tr style=\"text-align: right;\">\n",
       "      <th></th>\n",
       "      <th>Country</th>\n",
       "      <th>Happiness.Rank</th>\n",
       "      <th>Happiness.Score</th>\n",
       "      <th>Whisker.high</th>\n",
       "      <th>Whisker.low</th>\n",
       "      <th>Economy..GDP.per.Capita.</th>\n",
       "      <th>Family</th>\n",
       "      <th>Health..Life.Expectancy.</th>\n",
       "      <th>Freedom</th>\n",
       "      <th>Generosity</th>\n",
       "      <th>Trust..Government.Corruption.</th>\n",
       "      <th>Dystopia.Residual</th>\n",
       "    </tr>\n",
       "  </thead>\n",
       "  <tbody>\n",
       "    <tr>\n",
       "      <th>0</th>\n",
       "      <td>Norway</td>\n",
       "      <td>1</td>\n",
       "      <td>7.537</td>\n",
       "      <td>7.594445</td>\n",
       "      <td>7.479556</td>\n",
       "      <td>1.616463</td>\n",
       "      <td>1.533524</td>\n",
       "      <td>0.796667</td>\n",
       "      <td>0.635423</td>\n",
       "      <td>0.362012</td>\n",
       "      <td>0.315964</td>\n",
       "      <td>2.277027</td>\n",
       "    </tr>\n",
       "    <tr>\n",
       "      <th>1</th>\n",
       "      <td>Denmark</td>\n",
       "      <td>2</td>\n",
       "      <td>7.522</td>\n",
       "      <td>7.581728</td>\n",
       "      <td>7.462272</td>\n",
       "      <td>1.482383</td>\n",
       "      <td>1.551122</td>\n",
       "      <td>0.792566</td>\n",
       "      <td>0.626007</td>\n",
       "      <td>0.355280</td>\n",
       "      <td>0.400770</td>\n",
       "      <td>2.313707</td>\n",
       "    </tr>\n",
       "    <tr>\n",
       "      <th>2</th>\n",
       "      <td>Iceland</td>\n",
       "      <td>3</td>\n",
       "      <td>7.504</td>\n",
       "      <td>7.622030</td>\n",
       "      <td>7.385970</td>\n",
       "      <td>1.480633</td>\n",
       "      <td>1.610574</td>\n",
       "      <td>0.833552</td>\n",
       "      <td>0.627163</td>\n",
       "      <td>0.475540</td>\n",
       "      <td>0.153527</td>\n",
       "      <td>2.322715</td>\n",
       "    </tr>\n",
       "    <tr>\n",
       "      <th>3</th>\n",
       "      <td>Switzerland</td>\n",
       "      <td>4</td>\n",
       "      <td>7.494</td>\n",
       "      <td>7.561772</td>\n",
       "      <td>7.426227</td>\n",
       "      <td>1.564980</td>\n",
       "      <td>1.516912</td>\n",
       "      <td>0.858131</td>\n",
       "      <td>0.620071</td>\n",
       "      <td>0.290549</td>\n",
       "      <td>0.367007</td>\n",
       "      <td>2.276716</td>\n",
       "    </tr>\n",
       "    <tr>\n",
       "      <th>4</th>\n",
       "      <td>Finland</td>\n",
       "      <td>5</td>\n",
       "      <td>7.469</td>\n",
       "      <td>7.527542</td>\n",
       "      <td>7.410458</td>\n",
       "      <td>1.443572</td>\n",
       "      <td>1.540247</td>\n",
       "      <td>0.809158</td>\n",
       "      <td>0.617951</td>\n",
       "      <td>0.245483</td>\n",
       "      <td>0.382612</td>\n",
       "      <td>2.430182</td>\n",
       "    </tr>\n",
       "  </tbody>\n",
       "</table>\n",
       "</div>"
      ],
      "text/plain": [
       "       Country  Happiness.Rank  Happiness.Score  Whisker.high  Whisker.low  \\\n",
       "0       Norway               1            7.537      7.594445     7.479556   \n",
       "1      Denmark               2            7.522      7.581728     7.462272   \n",
       "2      Iceland               3            7.504      7.622030     7.385970   \n",
       "3  Switzerland               4            7.494      7.561772     7.426227   \n",
       "4      Finland               5            7.469      7.527542     7.410458   \n",
       "\n",
       "   Economy..GDP.per.Capita.    Family  Health..Life.Expectancy.   Freedom  \\\n",
       "0                  1.616463  1.533524                  0.796667  0.635423   \n",
       "1                  1.482383  1.551122                  0.792566  0.626007   \n",
       "2                  1.480633  1.610574                  0.833552  0.627163   \n",
       "3                  1.564980  1.516912                  0.858131  0.620071   \n",
       "4                  1.443572  1.540247                  0.809158  0.617951   \n",
       "\n",
       "   Generosity  Trust..Government.Corruption.  Dystopia.Residual  \n",
       "0    0.362012                       0.315964           2.277027  \n",
       "1    0.355280                       0.400770           2.313707  \n",
       "2    0.475540                       0.153527           2.322715  \n",
       "3    0.290549                       0.367007           2.276716  \n",
       "4    0.245483                       0.382612           2.430182  "
      ]
     },
     "execution_count": 26,
     "metadata": {},
     "output_type": "execute_result"
    }
   ],
   "source": [
    "df.head()"
   ]
  },
  {
   "cell_type": "code",
   "execution_count": 27,
   "metadata": {},
   "outputs": [
    {
     "data": {
      "text/plain": [
       "0"
      ]
     },
     "execution_count": 27,
     "metadata": {},
     "output_type": "execute_result"
    }
   ],
   "source": [
    "df.isna().sum().sum()"
   ]
  },
  {
   "cell_type": "code",
   "execution_count": 70,
   "metadata": {},
   "outputs": [
    {
     "data": {
      "text/html": [
       "<div>\n",
       "<style scoped>\n",
       "    .dataframe tbody tr th:only-of-type {\n",
       "        vertical-align: middle;\n",
       "    }\n",
       "\n",
       "    .dataframe tbody tr th {\n",
       "        vertical-align: top;\n",
       "    }\n",
       "\n",
       "    .dataframe thead th {\n",
       "        text-align: right;\n",
       "    }\n",
       "</style>\n",
       "<table border=\"1\" class=\"dataframe\">\n",
       "  <thead>\n",
       "    <tr style=\"text-align: right;\">\n",
       "      <th></th>\n",
       "      <th>Happiness.Rank</th>\n",
       "      <th>Happiness.Score</th>\n",
       "      <th>Whisker.high</th>\n",
       "      <th>Whisker.low</th>\n",
       "      <th>Economy..GDP.per.Capita.</th>\n",
       "      <th>Family</th>\n",
       "      <th>Health..Life.Expectancy.</th>\n",
       "      <th>Freedom</th>\n",
       "      <th>Generosity</th>\n",
       "      <th>Trust..Government.Corruption.</th>\n",
       "      <th>Dystopia.Residual</th>\n",
       "    </tr>\n",
       "  </thead>\n",
       "  <tbody>\n",
       "    <tr>\n",
       "      <th>Happiness.Rank</th>\n",
       "      <td>1.000000</td>\n",
       "      <td>-0.992774</td>\n",
       "      <td>-0.993058</td>\n",
       "      <td>-0.991533</td>\n",
       "      <td>-0.813244</td>\n",
       "      <td>-0.736753</td>\n",
       "      <td>-0.780716</td>\n",
       "      <td>-0.551608</td>\n",
       "      <td>-0.132620</td>\n",
       "      <td>-0.405842</td>\n",
       "      <td>-0.484506</td>\n",
       "    </tr>\n",
       "    <tr>\n",
       "      <th>Happiness.Score</th>\n",
       "      <td>-0.992774</td>\n",
       "      <td>1.000000</td>\n",
       "      <td>0.999497</td>\n",
       "      <td>0.999520</td>\n",
       "      <td>0.812469</td>\n",
       "      <td>0.752737</td>\n",
       "      <td>0.781951</td>\n",
       "      <td>0.570137</td>\n",
       "      <td>0.155256</td>\n",
       "      <td>0.429080</td>\n",
       "      <td>0.475355</td>\n",
       "    </tr>\n",
       "    <tr>\n",
       "      <th>Whisker.high</th>\n",
       "      <td>-0.993058</td>\n",
       "      <td>0.999497</td>\n",
       "      <td>1.000000</td>\n",
       "      <td>0.998036</td>\n",
       "      <td>0.811868</td>\n",
       "      <td>0.750934</td>\n",
       "      <td>0.776634</td>\n",
       "      <td>0.569907</td>\n",
       "      <td>0.155462</td>\n",
       "      <td>0.426459</td>\n",
       "      <td>0.478824</td>\n",
       "    </tr>\n",
       "    <tr>\n",
       "      <th>Whisker.low</th>\n",
       "      <td>-0.991533</td>\n",
       "      <td>0.999520</td>\n",
       "      <td>0.998036</td>\n",
       "      <td>1.000000</td>\n",
       "      <td>0.812267</td>\n",
       "      <td>0.753767</td>\n",
       "      <td>0.786385</td>\n",
       "      <td>0.569808</td>\n",
       "      <td>0.154904</td>\n",
       "      <td>0.431223</td>\n",
       "      <td>0.471505</td>\n",
       "    </tr>\n",
       "    <tr>\n",
       "      <th>Economy..GDP.per.Capita.</th>\n",
       "      <td>-0.813244</td>\n",
       "      <td>0.812469</td>\n",
       "      <td>0.811868</td>\n",
       "      <td>0.812267</td>\n",
       "      <td>1.000000</td>\n",
       "      <td>0.688296</td>\n",
       "      <td>0.843077</td>\n",
       "      <td>0.369873</td>\n",
       "      <td>-0.019011</td>\n",
       "      <td>0.350944</td>\n",
       "      <td>0.024226</td>\n",
       "    </tr>\n",
       "    <tr>\n",
       "      <th>Family</th>\n",
       "      <td>-0.736753</td>\n",
       "      <td>0.752737</td>\n",
       "      <td>0.750934</td>\n",
       "      <td>0.753767</td>\n",
       "      <td>0.688296</td>\n",
       "      <td>1.000000</td>\n",
       "      <td>0.612080</td>\n",
       "      <td>0.424966</td>\n",
       "      <td>0.051693</td>\n",
       "      <td>0.231841</td>\n",
       "      <td>0.070506</td>\n",
       "    </tr>\n",
       "    <tr>\n",
       "      <th>Health..Life.Expectancy.</th>\n",
       "      <td>-0.780716</td>\n",
       "      <td>0.781951</td>\n",
       "      <td>0.776634</td>\n",
       "      <td>0.786385</td>\n",
       "      <td>0.843077</td>\n",
       "      <td>0.612080</td>\n",
       "      <td>1.000000</td>\n",
       "      <td>0.349827</td>\n",
       "      <td>0.063191</td>\n",
       "      <td>0.279752</td>\n",
       "      <td>0.054963</td>\n",
       "    </tr>\n",
       "    <tr>\n",
       "      <th>Freedom</th>\n",
       "      <td>-0.551608</td>\n",
       "      <td>0.570137</td>\n",
       "      <td>0.569907</td>\n",
       "      <td>0.569808</td>\n",
       "      <td>0.369873</td>\n",
       "      <td>0.424966</td>\n",
       "      <td>0.349827</td>\n",
       "      <td>1.000000</td>\n",
       "      <td>0.316083</td>\n",
       "      <td>0.499183</td>\n",
       "      <td>0.081926</td>\n",
       "    </tr>\n",
       "    <tr>\n",
       "      <th>Generosity</th>\n",
       "      <td>-0.132620</td>\n",
       "      <td>0.155256</td>\n",
       "      <td>0.155462</td>\n",
       "      <td>0.154904</td>\n",
       "      <td>-0.019011</td>\n",
       "      <td>0.051693</td>\n",
       "      <td>0.063191</td>\n",
       "      <td>0.316083</td>\n",
       "      <td>1.000000</td>\n",
       "      <td>0.294159</td>\n",
       "      <td>-0.116627</td>\n",
       "    </tr>\n",
       "    <tr>\n",
       "      <th>Trust..Government.Corruption.</th>\n",
       "      <td>-0.405842</td>\n",
       "      <td>0.429080</td>\n",
       "      <td>0.426459</td>\n",
       "      <td>0.431223</td>\n",
       "      <td>0.350944</td>\n",
       "      <td>0.231841</td>\n",
       "      <td>0.279752</td>\n",
       "      <td>0.499183</td>\n",
       "      <td>0.294159</td>\n",
       "      <td>1.000000</td>\n",
       "      <td>-0.022755</td>\n",
       "    </tr>\n",
       "    <tr>\n",
       "      <th>Dystopia.Residual</th>\n",
       "      <td>-0.484506</td>\n",
       "      <td>0.475355</td>\n",
       "      <td>0.478824</td>\n",
       "      <td>0.471505</td>\n",
       "      <td>0.024226</td>\n",
       "      <td>0.070506</td>\n",
       "      <td>0.054963</td>\n",
       "      <td>0.081926</td>\n",
       "      <td>-0.116627</td>\n",
       "      <td>-0.022755</td>\n",
       "      <td>1.000000</td>\n",
       "    </tr>\n",
       "  </tbody>\n",
       "</table>\n",
       "</div>"
      ],
      "text/plain": [
       "                               Happiness.Rank  Happiness.Score  Whisker.high  \\\n",
       "Happiness.Rank                       1.000000        -0.992774     -0.993058   \n",
       "Happiness.Score                     -0.992774         1.000000      0.999497   \n",
       "Whisker.high                        -0.993058         0.999497      1.000000   \n",
       "Whisker.low                         -0.991533         0.999520      0.998036   \n",
       "Economy..GDP.per.Capita.            -0.813244         0.812469      0.811868   \n",
       "Family                              -0.736753         0.752737      0.750934   \n",
       "Health..Life.Expectancy.            -0.780716         0.781951      0.776634   \n",
       "Freedom                             -0.551608         0.570137      0.569907   \n",
       "Generosity                          -0.132620         0.155256      0.155462   \n",
       "Trust..Government.Corruption.       -0.405842         0.429080      0.426459   \n",
       "Dystopia.Residual                   -0.484506         0.475355      0.478824   \n",
       "\n",
       "                               Whisker.low  Economy..GDP.per.Capita.  \\\n",
       "Happiness.Rank                   -0.991533                 -0.813244   \n",
       "Happiness.Score                   0.999520                  0.812469   \n",
       "Whisker.high                      0.998036                  0.811868   \n",
       "Whisker.low                       1.000000                  0.812267   \n",
       "Economy..GDP.per.Capita.          0.812267                  1.000000   \n",
       "Family                            0.753767                  0.688296   \n",
       "Health..Life.Expectancy.          0.786385                  0.843077   \n",
       "Freedom                           0.569808                  0.369873   \n",
       "Generosity                        0.154904                 -0.019011   \n",
       "Trust..Government.Corruption.     0.431223                  0.350944   \n",
       "Dystopia.Residual                 0.471505                  0.024226   \n",
       "\n",
       "                                 Family  Health..Life.Expectancy.   Freedom  \\\n",
       "Happiness.Rank                -0.736753                 -0.780716 -0.551608   \n",
       "Happiness.Score                0.752737                  0.781951  0.570137   \n",
       "Whisker.high                   0.750934                  0.776634  0.569907   \n",
       "Whisker.low                    0.753767                  0.786385  0.569808   \n",
       "Economy..GDP.per.Capita.       0.688296                  0.843077  0.369873   \n",
       "Family                         1.000000                  0.612080  0.424966   \n",
       "Health..Life.Expectancy.       0.612080                  1.000000  0.349827   \n",
       "Freedom                        0.424966                  0.349827  1.000000   \n",
       "Generosity                     0.051693                  0.063191  0.316083   \n",
       "Trust..Government.Corruption.  0.231841                  0.279752  0.499183   \n",
       "Dystopia.Residual              0.070506                  0.054963  0.081926   \n",
       "\n",
       "                               Generosity  Trust..Government.Corruption.  \\\n",
       "Happiness.Rank                  -0.132620                      -0.405842   \n",
       "Happiness.Score                  0.155256                       0.429080   \n",
       "Whisker.high                     0.155462                       0.426459   \n",
       "Whisker.low                      0.154904                       0.431223   \n",
       "Economy..GDP.per.Capita.        -0.019011                       0.350944   \n",
       "Family                           0.051693                       0.231841   \n",
       "Health..Life.Expectancy.         0.063191                       0.279752   \n",
       "Freedom                          0.316083                       0.499183   \n",
       "Generosity                       1.000000                       0.294159   \n",
       "Trust..Government.Corruption.    0.294159                       1.000000   \n",
       "Dystopia.Residual               -0.116627                      -0.022755   \n",
       "\n",
       "                               Dystopia.Residual  \n",
       "Happiness.Rank                         -0.484506  \n",
       "Happiness.Score                         0.475355  \n",
       "Whisker.high                            0.478824  \n",
       "Whisker.low                             0.471505  \n",
       "Economy..GDP.per.Capita.                0.024226  \n",
       "Family                                  0.070506  \n",
       "Health..Life.Expectancy.                0.054963  \n",
       "Freedom                                 0.081926  \n",
       "Generosity                             -0.116627  \n",
       "Trust..Government.Corruption.          -0.022755  \n",
       "Dystopia.Residual                       1.000000  "
      ]
     },
     "execution_count": 70,
     "metadata": {},
     "output_type": "execute_result"
    }
   ],
   "source": [
    "df.corr()"
   ]
  },
  {
   "cell_type": "code",
   "execution_count": 28,
   "metadata": {},
   "outputs": [
    {
     "name": "stdout",
     "output_type": "stream",
     "text": [
      "<class 'pandas.core.frame.DataFrame'>\n",
      "RangeIndex: 155 entries, 0 to 154\n",
      "Data columns (total 12 columns):\n",
      "Country                          155 non-null object\n",
      "Happiness.Rank                   155 non-null int64\n",
      "Happiness.Score                  155 non-null float64\n",
      "Whisker.high                     155 non-null float64\n",
      "Whisker.low                      155 non-null float64\n",
      "Economy..GDP.per.Capita.         155 non-null float64\n",
      "Family                           155 non-null float64\n",
      "Health..Life.Expectancy.         155 non-null float64\n",
      "Freedom                          155 non-null float64\n",
      "Generosity                       155 non-null float64\n",
      "Trust..Government.Corruption.    155 non-null float64\n",
      "Dystopia.Residual                155 non-null float64\n",
      "dtypes: float64(10), int64(1), object(1)\n",
      "memory usage: 14.6+ KB\n"
     ]
    }
   ],
   "source": [
    "df.info()"
   ]
  },
  {
   "cell_type": "code",
   "execution_count": 29,
   "metadata": {},
   "outputs": [
    {
     "data": {
      "text/plain": [
       "Index(['Country', 'Happiness.Rank', 'Happiness.Score', 'Whisker.high',\n",
       "       'Whisker.low', 'Economy..GDP.per.Capita.', 'Family',\n",
       "       'Health..Life.Expectancy.', 'Freedom', 'Generosity',\n",
       "       'Trust..Government.Corruption.', 'Dystopia.Residual'],\n",
       "      dtype='object')"
      ]
     },
     "execution_count": 29,
     "metadata": {},
     "output_type": "execute_result"
    }
   ],
   "source": [
    "df.columns"
   ]
  },
  {
   "cell_type": "markdown",
   "metadata": {},
   "source": [
    "y = df['Economy..GDP.per.Capita.']\n",
    "x = df.drop(columns=['Country','Economy..GDP.per.Capita.', 'Happiness.Rank'])\n",
    "x.shape, y.shape"
   ]
  },
  {
   "cell_type": "code",
   "execution_count": 106,
   "metadata": {},
   "outputs": [
    {
     "data": {
      "text/plain": [
       "((155, 7), (155,))"
      ]
     },
     "execution_count": 106,
     "metadata": {},
     "output_type": "execute_result"
    }
   ],
   "source": [
    "y = df['Happiness.Score']\n",
    "x = df.iloc[:, 5:]\n",
    "x.shape, y.shape"
   ]
  },
  {
   "cell_type": "markdown",
   "metadata": {},
   "source": [
    "x = np.array(x)\n",
    "y = np.array(y)\n",
    "x = (x-np.min(x, axis=0)) / (np.max(x, axis=0) - np.min(x, axis=0))\n",
    "y = (y-np.min(y, axis=0)) / (np.max(y, axis=0) - np.min(y, axis=0))\n",
    "#x /= np.max(x, axis=0)\n",
    "#y /= np.max(y, axis=0)\n",
    "x.shape, y.shape"
   ]
  },
  {
   "cell_type": "code",
   "execution_count": 107,
   "metadata": {},
   "outputs": [
    {
     "data": {
      "text/plain": [
       "<matplotlib.axes._subplots.AxesSubplot at 0x16e89358>"
      ]
     },
     "execution_count": 107,
     "metadata": {},
     "output_type": "execute_result"
    },
    {
     "data": {
      "image/png": "[encoded data removed]",
      "text/plain": [
       "<Figure size 432x288 with 1 Axes>"
      ]
     },
     "metadata": {
      "needs_background": "light"
     },
     "output_type": "display_data"
    }
   ],
   "source": [
    "x.boxplot()"
   ]
  },
  {
   "cell_type": "code",
   "execution_count": 109,
   "metadata": {},
   "outputs": [
    {
     "data": {
      "text/plain": [
       "(2.69300007820129, 7.537000179290769, 5.354019355773926)"
      ]
     },
     "execution_count": 109,
     "metadata": {},
     "output_type": "execute_result"
    }
   ],
   "source": [
    "y.min(), y.max(), y.mean()"
   ]
  },
  {
   "cell_type": "code",
   "execution_count": 110,
   "metadata": {},
   "outputs": [
    {
     "data": {
      "text/plain": [
       "<matplotlib.axes._subplots.AxesSubplot at 0x16f43198>"
      ]
     },
     "execution_count": 110,
     "metadata": {},
     "output_type": "execute_result"
    },
    {
     "data": {
      "image/png": "[encoded data removed]",
      "text/plain": [
       "<Figure size 432x288 with 1 Axes>"
      ]
     },
     "metadata": {
      "needs_background": "light"
     },
     "output_type": "display_data"
    }
   ],
   "source": [
    "y.plot()"
   ]
  },
  {
   "cell_type": "code",
   "execution_count": 111,
   "metadata": {},
   "outputs": [
    {
     "data": {
      "text/plain": [
       "<matplotlib.axes._subplots.AxesSubplot at 0x16fcd7b8>"
      ]
     },
     "execution_count": 111,
     "metadata": {},
     "output_type": "execute_result"
    },
    {
     "data": {
      "image/png": "[encoded data removed]",
      "text/plain": [
       "<Figure size 432x288 with 1 Axes>"
      ]
     },
     "metadata": {
      "needs_background": "light"
     },
     "output_type": "display_data"
    }
   ],
   "source": [
    "# 정규화\n",
    "xn = (x - x.min()) / (x.max() - x.min())\n",
    "xn.boxplot()"
   ]
  },
  {
   "cell_type": "code",
   "execution_count": 112,
   "metadata": {},
   "outputs": [
    {
     "data": {
      "text/plain": [
       "7"
      ]
     },
     "execution_count": 112,
     "metadata": {},
     "output_type": "execute_result"
    }
   ],
   "source": [
    "xn = np.array(xn)\n",
    "y = np.array(y)\n",
    "col = xn.shape[1]\n",
    "col"
   ]
  },
  {
   "cell_type": "code",
   "execution_count": 113,
   "metadata": {},
   "outputs": [
    {
     "name": "stdout",
     "output_type": "stream",
     "text": [
      "Tensor(\"add_16:0\", shape=(155, 1), dtype=float32)\n"
     ]
    }
   ],
   "source": [
    "# 기능(모델) 구현\n",
    "w = tf.Variable(tf.random_normal(shape=[col])) # 초기값 1.0 으로 두고, 모델이 스스로 조절해나가는 값\n",
    "b = tf.Variable(0.01)\n",
    "# hypothesis = tf.reduce_sum(w * x, axis=1) + b #n keepdims는 차원을 줄이지 말아라 명령어\n",
    "hypothesis = tf.reduce_sum(w * xn, axis=1, keepdims=True) + b #n keepdims는 차원을 줄이지 말아라 명령어\n",
    "regularization = tf.reduce_mean(tf.abs(w)) #가중치가 커지지 않도록 규제함\n",
    "print(hypothesis)\n",
    "# MSE 오차\n",
    "cost = tf.reduce_mean((y - hypothesis) **2) + 0.01 * regularization\n",
    "learning_rate = 0.002 # 학습률\n",
    "# 경사하강법으로 오차를 최소화해라\n",
    "train = tf.train.GradientDescentOptimizer(learning_rate).minimize(cost)"
   ]
  },
  {
   "cell_type": "code",
   "execution_count": 114,
   "metadata": {},
   "outputs": [
    {
     "data": {
      "text/plain": [
       "16.61053"
      ]
     },
     "execution_count": 114,
     "metadata": {},
     "output_type": "execute_result"
    }
   ],
   "source": [
    "sess = tf.Session()\n",
    "sess.run(tf.global_variables_initializer()) # 변수 초기화를 통해 메모리 할당해줌(malloc과 동일)\n",
    "sess.run(cost)"
   ]
  },
  {
   "cell_type": "code",
   "execution_count": 115,
   "metadata": {},
   "outputs": [
    {
     "name": "stdout",
     "output_type": "stream",
     "text": [
      "0 16.258444\n",
      "1000 1.8798478\n",
      "2000 1.685893\n",
      "3000 1.5696539\n",
      "4000 1.4980375\n"
     ]
    }
   ],
   "source": [
    "for i in range(5000): # 에포크 : 변수를 몇번 업데이트 하느냐\n",
    "    sess.run(train)\n",
    "    if i%1000==0:\n",
    "        print(i, sess.run(cost))"
   ]
  },
  {
   "cell_type": "code",
   "execution_count": 116,
   "metadata": {},
   "outputs": [
    {
     "data": {
      "text/plain": [
       "array([[5.958909 ],\n",
       "       [5.9577627],\n",
       "       [6.206311 ],\n",
       "       [5.8384457],\n",
       "       [5.877323 ],\n",
       "       [5.921608 ],\n",
       "       [5.925856 ],\n",
       "       [5.9999194],\n",
       "       [5.821467 ],\n",
       "       [5.95047  ],\n",
       "       [5.84534  ],\n",
       "       [5.9199877],\n",
       "       [5.7750387],\n",
       "       [5.822437 ],\n",
       "       [5.8635964],\n",
       "       [5.7547817],\n",
       "       [5.671147 ],\n",
       "       [5.5591087],\n",
       "       [5.805566 ],\n",
       "       [5.631387 ],\n",
       "       [5.4671702],\n",
       "       [5.8002167],\n",
       "       [5.655717 ],\n",
       "       [5.7420363],\n",
       "       [5.4818015],\n",
       "       [5.281704 ],\n",
       "       [5.897421 ],\n",
       "       [5.6368566],\n",
       "       [5.8163643],\n",
       "       [5.6828794],\n",
       "       [5.4325624],\n",
       "       [6.0367174],\n",
       "       [5.5700626],\n",
       "       [5.6254077],\n",
       "       [5.2314606],\n",
       "       [5.749091 ],\n",
       "       [5.356716 ],\n",
       "       [5.7558084],\n",
       "       [5.2987604],\n",
       "       [5.5863523],\n",
       "       [5.3337836],\n",
       "       [5.6154923],\n",
       "       [5.6727867],\n",
       "       [5.4544516],\n",
       "       [5.416466 ],\n",
       "       [5.5515842],\n",
       "       [5.9808455],\n",
       "       [5.4098415],\n",
       "       [5.5699215],\n",
       "       [5.506792 ],\n",
       "       [5.289422 ],\n",
       "       [5.4604406],\n",
       "       [5.194763 ],\n",
       "       [5.465745 ],\n",
       "       [5.0650377],\n",
       "       [5.5757813],\n",
       "       [5.279415 ],\n",
       "       [5.621478 ],\n",
       "       [5.6466208],\n",
       "       [5.472928 ],\n",
       "       [5.184616 ],\n",
       "       [5.4997272],\n",
       "       [5.361104 ],\n",
       "       [5.428481 ],\n",
       "       [5.1158977],\n",
       "       [5.3402023],\n",
       "       [5.3932037],\n",
       "       [5.450843 ],\n",
       "       [5.231887 ],\n",
       "       [5.6440306],\n",
       "       [5.0139475],\n",
       "       [5.4802904],\n",
       "       [5.286042 ],\n",
       "       [5.266095 ],\n",
       "       [5.1597877],\n",
       "       [5.4626055],\n",
       "       [4.948924 ],\n",
       "       [5.29887  ],\n",
       "       [5.059896 ],\n",
       "       [4.979164 ],\n",
       "       [5.66791  ],\n",
       "       [5.2712955],\n",
       "       [5.149664 ],\n",
       "       [4.794638 ],\n",
       "       [5.0193744],\n",
       "       [5.4046407],\n",
       "       [4.9057827],\n",
       "       [5.1207185],\n",
       "       [5.16605  ],\n",
       "       [5.1433907],\n",
       "       [5.2802534],\n",
       "       [5.210921 ],\n",
       "       [5.32312  ],\n",
       "       [5.3482733],\n",
       "       [5.595541 ],\n",
       "       [5.432209 ],\n",
       "       [5.513914 ],\n",
       "       [5.664795 ],\n",
       "       [5.479686 ],\n",
       "       [5.5332823],\n",
       "       [5.4495363],\n",
       "       [4.6813135],\n",
       "       [5.0735025],\n",
       "       [4.8568535],\n",
       "       [5.1398735],\n",
       "       [5.4313464],\n",
       "       [5.2660503],\n",
       "       [4.668508 ],\n",
       "       [4.657919 ],\n",
       "       [4.769286 ],\n",
       "       [5.026852 ],\n",
       "       [5.365726 ],\n",
       "       [5.2595663],\n",
       "       [5.6097307],\n",
       "       [5.2276173],\n",
       "       [5.1722345],\n",
       "       [4.789146 ],\n",
       "       [4.9065933],\n",
       "       [5.0549784],\n",
       "       [5.242473 ],\n",
       "       [4.7299438],\n",
       "       [4.722681 ],\n",
       "       [5.183023 ],\n",
       "       [4.794748 ],\n",
       "       [4.164384 ],\n",
       "       [5.4684253],\n",
       "       [5.3247347],\n",
       "       [5.0349865],\n",
       "       [5.1165886],\n",
       "       [5.07685  ],\n",
       "       [4.934269 ],\n",
       "       [5.119483 ],\n",
       "       [5.307003 ],\n",
       "       [5.117565 ],\n",
       "       [5.088772 ],\n",
       "       [4.69613  ],\n",
       "       [5.054471 ],\n",
       "       [5.0846915],\n",
       "       [5.1900063],\n",
       "       [4.889165 ],\n",
       "       [4.664467 ],\n",
       "       [4.8398147],\n",
       "       [4.4707785],\n",
       "       [4.7925057],\n",
       "       [4.688805 ],\n",
       "       [4.6929197],\n",
       "       [4.5881357],\n",
       "       [4.937397 ],\n",
       "       [4.795173 ],\n",
       "       [4.401439 ],\n",
       "       [4.6489925],\n",
       "       [4.1679153],\n",
       "       [4.8866835],\n",
       "       [4.454483 ],\n",
       "       [4.0359707]], dtype=float32)"
      ]
     },
     "execution_count": 116,
     "metadata": {},
     "output_type": "execute_result"
    }
   ],
   "source": [
    "sess.run(hypothesis)"
   ]
  },
  {
   "cell_type": "code",
   "execution_count": 117,
   "metadata": {},
   "outputs": [
    {
     "data": {
      "text/plain": [
       "[array([-0.01376688,  1.9247066 , -0.18724555,  0.3412516 ,  0.7764359 ,\n",
       "        -0.13286938,  0.85251546], dtype=float32), 3.1299205]"
      ]
     },
     "execution_count": 117,
     "metadata": {},
     "output_type": "execute_result"
    }
   ],
   "source": [
    "sess.run([w, b])"
   ]
  },
  {
   "cell_type": "code",
   "execution_count": 118,
   "metadata": {},
   "outputs": [
    {
     "data": {
      "text/plain": [
       "array([[6.],\n",
       "       [6.],\n",
       "       [6.],\n",
       "       [6.],\n",
       "       [6.],\n",
       "       [6.],\n",
       "       [6.],\n",
       "       [6.],\n",
       "       [6.],\n",
       "       [6.],\n",
       "       [6.],\n",
       "       [6.],\n",
       "       [6.],\n",
       "       [6.],\n",
       "       [6.],\n",
       "       [6.],\n",
       "       [6.],\n",
       "       [6.],\n",
       "       [6.],\n",
       "       [6.],\n",
       "       [5.],\n",
       "       [6.],\n",
       "       [6.],\n",
       "       [6.],\n",
       "       [5.],\n",
       "       [5.],\n",
       "       [6.],\n",
       "       [6.],\n",
       "       [6.],\n",
       "       [6.],\n",
       "       [5.],\n",
       "       [6.],\n",
       "       [6.],\n",
       "       [6.],\n",
       "       [5.],\n",
       "       [6.],\n",
       "       [5.],\n",
       "       [6.],\n",
       "       [5.],\n",
       "       [6.],\n",
       "       [5.],\n",
       "       [6.],\n",
       "       [6.],\n",
       "       [5.],\n",
       "       [5.],\n",
       "       [6.],\n",
       "       [6.],\n",
       "       [5.],\n",
       "       [6.],\n",
       "       [6.],\n",
       "       [5.],\n",
       "       [5.],\n",
       "       [5.],\n",
       "       [5.],\n",
       "       [5.],\n",
       "       [6.],\n",
       "       [5.],\n",
       "       [6.],\n",
       "       [6.],\n",
       "       [5.],\n",
       "       [5.],\n",
       "       [5.],\n",
       "       [5.],\n",
       "       [5.],\n",
       "       [5.],\n",
       "       [5.],\n",
       "       [5.],\n",
       "       [5.],\n",
       "       [5.],\n",
       "       [6.],\n",
       "       [5.],\n",
       "       [5.],\n",
       "       [5.],\n",
       "       [5.],\n",
       "       [5.],\n",
       "       [5.],\n",
       "       [5.],\n",
       "       [5.],\n",
       "       [5.],\n",
       "       [5.],\n",
       "       [6.],\n",
       "       [5.],\n",
       "       [5.],\n",
       "       [5.],\n",
       "       [5.],\n",
       "       [5.],\n",
       "       [5.],\n",
       "       [5.],\n",
       "       [5.],\n",
       "       [5.],\n",
       "       [5.],\n",
       "       [5.],\n",
       "       [5.],\n",
       "       [5.],\n",
       "       [6.],\n",
       "       [5.],\n",
       "       [6.],\n",
       "       [6.],\n",
       "       [5.],\n",
       "       [6.],\n",
       "       [5.],\n",
       "       [5.],\n",
       "       [5.],\n",
       "       [5.],\n",
       "       [5.],\n",
       "       [5.],\n",
       "       [5.],\n",
       "       [5.],\n",
       "       [5.],\n",
       "       [5.],\n",
       "       [5.],\n",
       "       [5.],\n",
       "       [5.],\n",
       "       [6.],\n",
       "       [5.],\n",
       "       [5.],\n",
       "       [5.],\n",
       "       [5.],\n",
       "       [5.],\n",
       "       [5.],\n",
       "       [5.],\n",
       "       [5.],\n",
       "       [5.],\n",
       "       [5.],\n",
       "       [4.],\n",
       "       [5.],\n",
       "       [5.],\n",
       "       [5.],\n",
       "       [5.],\n",
       "       [5.],\n",
       "       [5.],\n",
       "       [5.],\n",
       "       [5.],\n",
       "       [5.],\n",
       "       [5.],\n",
       "       [5.],\n",
       "       [5.],\n",
       "       [5.],\n",
       "       [5.],\n",
       "       [5.],\n",
       "       [5.],\n",
       "       [5.],\n",
       "       [4.],\n",
       "       [5.],\n",
       "       [5.],\n",
       "       [5.],\n",
       "       [5.],\n",
       "       [5.],\n",
       "       [5.],\n",
       "       [4.],\n",
       "       [5.],\n",
       "       [4.],\n",
       "       [5.],\n",
       "       [4.],\n",
       "       [4.]], dtype=float32)"
      ]
     },
     "execution_count": 118,
     "metadata": {},
     "output_type": "execute_result"
    }
   ],
   "source": [
    "np.round(sess.run(hypothesis))"
   ]
  },
  {
   "cell_type": "code",
   "execution_count": 119,
   "metadata": {},
   "outputs": [],
   "source": [
    "import matplotlib.pyplot as plt"
   ]
  },
  {
   "cell_type": "code",
   "execution_count": 120,
   "metadata": {},
   "outputs": [
    {
     "data": {
      "text/plain": [
       "<matplotlib.legend.Legend at 0x171ddf28>"
      ]
     },
     "execution_count": 120,
     "metadata": {},
     "output_type": "execute_result"
    },
    {
     "data": {
      "image/png": "[encoded data removed]",
      "text/plain": [
       "<Figure size 720x144 with 1 Axes>"
      ]
     },
     "metadata": {
      "needs_background": "light"
     },
     "output_type": "display_data"
    }
   ],
   "source": [
    "p = sess.run(hypothesis)\n",
    "plt.figure(figsize=(10, 2))\n",
    "plt.plot(y[:], label='Real')\n",
    "plt.plot(p[:], label='Predict')\n",
    "plt.legend()"
   ]
  },
  {
   "cell_type": "code",
   "execution_count": 75,
   "metadata": {},
   "outputs": [
    {
     "data": {
      "text/plain": [
       "array([ 0.13194461,  0.16729736,  0.13525759, -0.1297911 , -0.20949869,\n",
       "        0.10619556, -1.0716667 ,  0.5960012 , -0.30736187], dtype=float32)"
      ]
     },
     "execution_count": 75,
     "metadata": {},
     "output_type": "execute_result"
    }
   ],
   "source": [
    "#규제 없이\n",
    "sess.run(w)"
   ]
  },
  {
   "cell_type": "code",
   "execution_count": 90,
   "metadata": {},
   "outputs": [
    {
     "data": {
      "text/plain": [
       "array([-0.5647594 , -0.79867333, -0.7525215 ,  1.7507774 ,  0.56859946,\n",
       "        0.30023763, -0.18464063,  0.370493  ,  0.37840855], dtype=float32)"
      ]
     },
     "execution_count": 90,
     "metadata": {},
     "output_type": "execute_result"
    }
   ],
   "source": [
    "# w = 0.0001\n",
    "sess.run(w)"
   ]
  },
  {
   "cell_type": "code",
   "execution_count": 99,
   "metadata": {},
   "outputs": [
    {
     "data": {
      "text/plain": [
       "array([-0.8492452 ,  0.08109784, -0.46385497,  0.33111513,  0.1134421 ,\n",
       "        0.52583116,  0.78430474, -0.15314782,  1.3941789 ], dtype=float32)"
      ]
     },
     "execution_count": 99,
     "metadata": {},
     "output_type": "execute_result"
    }
   ],
   "source": [
    "# w = 0.01\n",
    "sess.run(w)"
   ]
  },
  {
   "cell_type": "code",
   "execution_count": 77,
   "metadata": {},
   "outputs": [
    {
     "data": {
      "text/plain": [
       "Index(['Happiness.Score', 'Whisker.high', 'Whisker.low', 'Family',\n",
       "       'Health..Life.Expectancy.', 'Freedom', 'Generosity',\n",
       "       'Trust..Government.Corruption.', 'Dystopia.Residual'],\n",
       "      dtype='object')"
      ]
     },
     "execution_count": 77,
     "metadata": {},
     "output_type": "execute_result"
    }
   ],
   "source": [
    "x.columns"
   ]
  },
  {
   "cell_type": "code",
   "execution_count": null,
   "metadata": {},
   "outputs": [],
   "source": []
  }
 ],
 "metadata": {
  "kernelspec": {
   "display_name": "Python 3",
   "language": "python",
   "name": "python3"
  },
  "language_info": {
   "codemirror_mode": {
    "name": "ipython",
    "version": 3
   },
   "file_extension": ".py",
   "mimetype": "text/x-python",
   "name": "python",
   "nbconvert_exporter": "python",
   "pygments_lexer": "ipython3",
   "version": "3.7.3"
  }
 },
 "nbformat": 4,
 "nbformat_minor": 2
}
