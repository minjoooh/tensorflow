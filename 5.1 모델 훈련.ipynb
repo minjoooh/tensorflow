{
 "cells": [
  {
   "cell_type": "markdown",
   "metadata": {},
   "source": [
    "## 머신러닝 과정\n",
    "1. 데이터 획득\n",
    "1. 데이터 정제\n",
    "1. 데이터 분석\n",
    "    - corr()로 상관분석해서, fit이 가능한지 확인\n",
    "    - 어떤 모델이 적합한지, 어떻게 모델링 할지\n",
    "1. x, y 분리\n",
    "1. 학습, 검증 분리\n",
    "1. 모델선택해서, 학습\n",
    "1. 성능 측정 (예측:결정계수, 분류:정확도)\n",
    "1. 예측 시각화"
   ]
  },
  {
   "cell_type": "markdown",
   "metadata": {},
   "source": [
    "### 2가지 종류 동물 분류(2진 분류)\n",
    "1. 개, 고양이\n",
    "1. 새\n",
    "1. 특징 : 다리수, 꼬리 유무"
   ]
  },
  {
   "cell_type": "markdown",
   "metadata": {},
   "source": [
    "## 선형 모델 : 곱하기와 더하기만으로 만든 선형 방정식으로 x, y 관계를 표현하는 모델\n",
    "- LinearRegression : Y=WX+b\n",
    "- LogistRegression : Y=sigmoid(WX+b) ( sigmoid = 1/(a+exp(z)) )"
   ]
  },
  {
   "cell_type": "code",
   "execution_count": 2,
   "metadata": {},
   "outputs": [],
   "source": [
    "import numpy as np\n",
    "import pandas as pd\n",
    "import tensorflow as tf"
   ]
  },
  {
   "cell_type": "code",
   "execution_count": 3,
   "metadata": {},
   "outputs": [],
   "source": [
    "x = [[4, 1], [4, 1], [2, 1]]\n",
    "y = [0, 0, 1]"
   ]
  },
  {
   "cell_type": "code",
   "execution_count": 10,
   "metadata": {},
   "outputs": [],
   "source": [
    "from sklearn.linear_model import LogisticRegression"
   ]
  },
  {
   "cell_type": "code",
   "execution_count": 5,
   "metadata": {},
   "outputs": [
    {
     "name": "stderr",
     "output_type": "stream",
     "text": [
      "C:\\ProgramData\\Anaconda3\\lib\\site-packages\\sklearn\\linear_model\\logistic.py:432: FutureWarning: Default solver will be changed to 'lbfgs' in 0.22. Specify a solver to silence this warning.\n",
      "  FutureWarning)\n"
     ]
    }
   ],
   "source": [
    "model = LogisticRegression().fit(x, y)"
   ]
  },
  {
   "cell_type": "code",
   "execution_count": 6,
   "metadata": {},
   "outputs": [
    {
     "data": {
      "text/plain": [
       "(array([[-0.4337917 ,  0.19915754]]), array([0.19915754]), 0.6666666666666666)"
      ]
     },
     "execution_count": 6,
     "metadata": {},
     "output_type": "execute_result"
    }
   ],
   "source": [
    "model.coef_, model.intercept_, model.score(x, y)"
   ]
  },
  {
   "cell_type": "code",
   "execution_count": 11,
   "metadata": {},
   "outputs": [],
   "source": [
    "from sklearn.linear_model import LinearRegression"
   ]
  },
  {
   "cell_type": "code",
   "execution_count": 12,
   "metadata": {},
   "outputs": [],
   "source": [
    "model = LinearRegression().fit(x, y)"
   ]
  },
  {
   "cell_type": "code",
   "execution_count": 13,
   "metadata": {},
   "outputs": [
    {
     "data": {
      "text/plain": [
       "(array([-0.5,  0. ]), 2.000000000000001, 1.0)"
      ]
     },
     "execution_count": 13,
     "metadata": {},
     "output_type": "execute_result"
    }
   ],
   "source": [
    "model.coef_, model.intercept_, model.score(x, y)"
   ]
  },
  {
   "cell_type": "code",
   "execution_count": 14,
   "metadata": {},
   "outputs": [
    {
     "data": {
      "text/plain": [
       "array([0., 0., 1.])"
      ]
     },
     "execution_count": 14,
     "metadata": {},
     "output_type": "execute_result"
    }
   ],
   "source": [
    "np.sum(model.coef_ * x, axis=1) + model.intercept_"
   ]
  },
  {
   "cell_type": "markdown",
   "metadata": {},
   "source": [
    "# 그리드 서치 - tensorflow로 LinearRegression 구현"
   ]
  },
  {
   "cell_type": "code",
   "execution_count": 68,
   "metadata": {},
   "outputs": [],
   "source": [
    "#tensorflow로 LinearRegression 구현\n",
    "w = tf.Variable([0.1, 0.1])\n",
    "b = tf.Variable(0.0)\n",
    "h = tf.reduce_sum(w * tf.cast(x, tf.float32), axis=1) + b # 모든 타입이 동일해야 연산이 가능\n",
    "cost = tf.square(tf.square(h - y))\n",
    "opt = tf.train.GradientDescentOptimizer(0.01)\n",
    "trainOperation = opt.minimize(cost)\n",
    "sess = tf.Session()\n",
    "sess.run(tf.global_variables_initializer()) #모든 Variable 초기화"
   ]
  },
  {
   "cell_type": "code",
   "execution_count": 102,
   "metadata": {},
   "outputs": [
    {
     "data": {
      "text/plain": [
       "(array([0.00016362, 0.00016362, 0.00087766], dtype=float32),\n",
       " array([0.11309993, 0.11309993, 0.82787997], dtype=float32))"
      ]
     },
     "execution_count": 102,
     "metadata": {},
     "output_type": "execute_result"
    }
   ],
   "source": [
    "for i in range(100):\n",
    "    _, _c, _h = sess.run([trainOperation, cost, h])\n",
    "_c, _h"
   ]
  },
  {
   "cell_type": "code",
   "execution_count": null,
   "metadata": {},
   "outputs": [],
   "source": []
  },
  {
   "cell_type": "markdown",
   "metadata": {},
   "source": [
    "# Y = wx + b = h(x)\n",
    "## h(x) = transpose(w==theta).x\n",
    "\n",
    "- 총 급여 계산하기\n",
    "- 평일에 일을 하면, 시급 1만원\n",
    "- 주말에 일을 하면, 시급 1만 2천원\n",
    "- 3사람이 있습니다.\n",
    "- [10, 5] : 평일 10시간, 주말 5시간"
   ]
  },
  {
   "cell_type": "code",
   "execution_count": 118,
   "metadata": {},
   "outputs": [],
   "source": [
    "# 총 급여 = 시급(theta) * 일한 시간(x)\n",
    "x1 = [10, 5]\n",
    "x2 = [20, 10]\n",
    "x3 = [30, 15]\n",
    "X = [x1, x2, x3]\n",
    "x1 = np.array(x1)\n",
    "x2 = np.array(x2)\n",
    "x3 = np.array(x3)\n",
    "X = np.array(X)"
   ]
  },
  {
   "cell_type": "code",
   "execution_count": 119,
   "metadata": {},
   "outputs": [
    {
     "data": {
      "text/plain": [
       "array([160000, 320000, 480000])"
      ]
     },
     "execution_count": 119,
     "metadata": {},
     "output_type": "execute_result"
    }
   ],
   "source": [
    "# 세 사람의 급여 구하기\n",
    "w = [10000, 12000]\n",
    "w = np.array(w)\n",
    "np.sum(w*X, axis=1)"
   ]
  },
  {
   "cell_type": "code",
   "execution_count": 120,
   "metadata": {},
   "outputs": [
    {
     "data": {
      "text/plain": [
       "((2,), (3, 2))"
      ]
     },
     "execution_count": 120,
     "metadata": {},
     "output_type": "execute_result"
    }
   ],
   "source": [
    "w.shape, X.shape"
   ]
  },
  {
   "cell_type": "code",
   "execution_count": 121,
   "metadata": {},
   "outputs": [
    {
     "data": {
      "text/plain": [
       "array([160000, 320000, 480000])"
      ]
     },
     "execution_count": 121,
     "metadata": {},
     "output_type": "execute_result"
    }
   ],
   "source": [
    "np.matmul(w, np.transpose(X, [1, 0]))"
   ]
  },
  {
   "cell_type": "code",
   "execution_count": 122,
   "metadata": {},
   "outputs": [
    {
     "data": {
      "text/plain": [
       "array([[10,  5],\n",
       "       [20, 10],\n",
       "       [30, 15]])"
      ]
     },
     "execution_count": 122,
     "metadata": {},
     "output_type": "execute_result"
    }
   ],
   "source": [
    "X"
   ]
  },
  {
   "cell_type": "code",
   "execution_count": 124,
   "metadata": {},
   "outputs": [
    {
     "data": {
      "text/plain": [
       "array([[10, 20, 30],\n",
       "       [ 5, 10, 15]])"
      ]
     },
     "execution_count": 124,
     "metadata": {},
     "output_type": "execute_result"
    }
   ],
   "source": [
    "np.transpose(X, [1, 0])"
   ]
  },
  {
   "cell_type": "markdown",
   "metadata": {},
   "source": [
    "# 정규 방정식 구현"
   ]
  },
  {
   "cell_type": "code",
   "execution_count": 150,
   "metadata": {},
   "outputs": [],
   "source": [
    "x = 2 * np.random.rand(100, 1)"
   ]
  },
  {
   "cell_type": "code",
   "execution_count": 151,
   "metadata": {},
   "outputs": [],
   "source": [
    "y = 4 + 3*x + np.random.rand(100, 1)"
   ]
  },
  {
   "cell_type": "code",
   "execution_count": 152,
   "metadata": {},
   "outputs": [
    {
     "data": {
      "text/plain": [
       "(100, 2)"
      ]
     },
     "execution_count": 152,
     "metadata": {},
     "output_type": "execute_result"
    }
   ],
   "source": [
    "one = np.ones_like(x)\n",
    "x = np.concatenate((x, one), axis=1)\n",
    "x.shape"
   ]
  },
  {
   "cell_type": "code",
   "execution_count": 153,
   "metadata": {},
   "outputs": [],
   "source": [
    "import matplotlib.pyplot as plt"
   ]
  },
  {
   "cell_type": "code",
   "execution_count": 154,
   "metadata": {},
   "outputs": [
    {
     "data": {
      "text/plain": [
       "array([[3.09178347],\n",
       "       [4.39184614]])"
      ]
     },
     "execution_count": 154,
     "metadata": {},
     "output_type": "execute_result"
    }
   ],
   "source": [
    "# theta = np.matmul(np.matmul(np.linalg.inv(np.matmul(x.T, x)), x.T), y)\n",
    "theta = np.linalg.inv(x.T.dot(x)).dot(x.T).dot(y)\n",
    "theta"
   ]
  },
  {
   "cell_type": "code",
   "execution_count": 156,
   "metadata": {},
   "outputs": [
    {
     "data": {
      "text/plain": [
       "<matplotlib.collections.PathCollection at 0x15d47320>"
      ]
     },
     "execution_count": 156,
     "metadata": {},
     "output_type": "execute_result"
    },
    {
     "data": {
      "image/png": "[encoded data removed]",
      "text/plain": [
       "<Figure size 432x288 with 1 Axes>"
      ]
     },
     "metadata": {
      "needs_background": "light"
     },
     "output_type": "display_data"
    }
   ],
   "source": [
    "plt.scatter(x[:,0], y, s = 5)\n",
    "plt.xlabel('X')\n",
    "plt.ylabel('Y')\n",
    "_x = np.arange(0, 2, 0.01)\n",
    "_y = theta[0, 0]* _x + theta[1, 0]\n",
    "plt.scatter(_x, _y, s=1)"
   ]
  },
  {
   "cell_type": "markdown",
   "metadata": {},
   "source": [
    "# 경사하강법 구현\n",
    "### y = wx + b 에서 w를 경사하강법으로 fit하기"
   ]
  },
  {
   "cell_type": "code",
   "execution_count": 1847,
   "metadata": {},
   "outputs": [],
   "source": [
    "x = 2 * np.random.rand(100, 1)\n",
    "y = 4 + 3*x + np.random.rand(100, 1)"
   ]
  },
  {
   "cell_type": "code",
   "execution_count": 1848,
   "metadata": {},
   "outputs": [
    {
     "data": {
      "text/plain": [
       "<matplotlib.collections.PathCollection at 0x17232550>"
      ]
     },
     "execution_count": 1848,
     "metadata": {},
     "output_type": "execute_result"
    },
    {
     "data": {
      "image/png": "[encoded data removed]",
      "text/plain": [
       "<Figure size 432x288 with 1 Axes>"
      ]
     },
     "metadata": {
      "needs_background": "light"
     },
     "output_type": "display_data"
    }
   ],
   "source": [
    "plt.scatter(x, y)"
   ]
  },
  {
   "cell_type": "code",
   "execution_count": 2610,
   "metadata": {},
   "outputs": [],
   "source": [
    "w = 1.5\n",
    "b =1\n",
    "h = w*x\n",
    "cost = np.mean((h - y)**2)"
   ]
  },
  {
   "cell_type": "markdown",
   "metadata": {},
   "source": [
    "- cost = np.mean((h-y)**2)\n",
    "- cost = np.mean(((w*x+b)-y)**2)\n",
    "- cost = np.mean((w*x+b-y)**2)\n",
    "- cost = (w*x+b-y)**2\n",
    "\n",
    "- cost를 w로 미분 => 경사\n",
    "- cost = f(g(x)), g(x) = w*x+b-y, f(x) = g(x)**2\n",
    "- f(g(x))를 x로 미분 = f'*g(x) * g'(x)\n",
    "- f(g(x))를 w로 미분 = 2*(w*x+b-y)*x\n",
    "\n",
    "- cost를 b로 미분 \n",
    "- cost = f(g(x)), g(x) = w*x+b-y, f(x) = g(x)**2\n",
    "- f(g(x))를 b로 미분 = f'*g(x) * g'(x)\n",
    "- f(g(x))를 b로 미분 = 2*(w*x+b-y)"
   ]
  },
  {
   "cell_type": "code",
   "execution_count": 4001,
   "metadata": {},
   "outputs": [
    {
     "data": {
      "text/plain": [
       "(6.681250778054214, 42.25176549800563)"
      ]
     },
     "execution_count": 4001,
     "metadata": {},
     "output_type": "execute_result"
    }
   ],
   "source": [
    "learning_rate = 0.01\n",
    "gradient_w = np.mean(2*(w*x-y) * x)\n",
    "gradient_b = np.mean(2*(w*x-y) * 1)\n",
    "w = w - learning_rate * gradient_w\n",
    "b = b - learning_rate * gradient_b\n",
    "w,   b"
   ]
  },
  {
   "cell_type": "code",
   "execution_count": 4003,
   "metadata": {},
   "outputs": [
    {
     "data": {
      "text/plain": [
       "<matplotlib.legend.Legend at 0x177c8b38>"
      ]
     },
     "execution_count": 4003,
     "metadata": {},
     "output_type": "execute_result"
    },
    {
     "data": {
      "image/png": "[encoded data removed]",
      "text/plain": [
       "<Figure size 432x288 with 1 Axes>"
      ]
     },
     "metadata": {
      "needs_background": "light"
     },
     "output_type": "display_data"
    }
   ],
   "source": [
    "plt.title('cost ' + str(cost))\n",
    "plt.scatter(x, h+b, label='H')\n",
    "plt.scatter(x, y, label='Y')\n",
    "plt.legend()"
   ]
  },
  {
   "cell_type": "code",
   "execution_count": 5897,
   "metadata": {},
   "outputs": [],
   "source": [
    "x1 = 2 * np.random.rand(100, 1) / 2 # 정규화\n",
    "x2 = 1 * np.random.rand(100, 1)\n",
    "noize = np.random.rand(100, 1)\n",
    "y = 3 * x1**2 + 2*x2 + noize"
   ]
  },
  {
   "cell_type": "markdown",
   "metadata": {},
   "source": [
    "# 모델로 x1, x2, y의 관례를 방정식으로 표현\n",
    "### 비선형방정식 y = w1*x1**2 + w2*x2 + b"
   ]
  },
  {
   "cell_type": "code",
   "execution_count": 5898,
   "metadata": {},
   "outputs": [],
   "source": [
    "# 경사 하강법은 초기값을 선택해야 합니다. 매우 자알~~~~~ + 초기값 + 학습률\n",
    "w1 = 0.1\n",
    "w2 = 0.1\n",
    "b = 0"
   ]
  },
  {
   "cell_type": "code",
   "execution_count": 7198,
   "metadata": {},
   "outputs": [
    {
     "data": {
      "text/plain": [
       "(0.09720063495796252, 2.812102005598813, 1.811866927465305, 0.7167841307602296)"
      ]
     },
     "execution_count": 7198,
     "metadata": {},
     "output_type": "execute_result"
    }
   ],
   "source": [
    "h = w1 * x1 **2 + w2 * x2 + b\n",
    "# 코스트 함수를 핏팅하려는 파라미터로 미분하면 기울기가 나오는데,\n",
    "# 핏팅하려는 파라미터에서, 그 기울기만큼 빼주면 된다.\n",
    "cost = np.mean((h - y) ** 2)\n",
    "learning_rate = 0.01 # 매우 자알 잡아야 합니당\n",
    "z = h - y\n",
    "w1 = w1 - learning_rate * np.mean((2*z)*(x1**2))\n",
    "w2 = w2 - learning_rate * np.mean((2*z)*(x2))\n",
    "b = b - learning_rate * np.mean((2*z)*(1))\n",
    "cost, w1, w2, b"
   ]
  },
  {
   "cell_type": "markdown",
   "metadata": {},
   "source": [
    "- cost = (h-y)**2, z = g(w1) = h - y = w1*x1**2 + w2*w2 + b , f(z) = z**2\n",
    "  \n",
    "- cost : ((h-y)**2) 를 w1 으로 미분하자\n",
    "  (2*z)*(x1**2)\n",
    "- cost : ((h-y)**2) 를 w2 으로 미분하자\n",
    "  (2*z)*(x2)\n",
    "- cost : ((h-y)**2) 를 b 으로 미분하자\n",
    "  (2*z)*1"
   ]
  },
  {
   "cell_type": "code",
   "execution_count": 7199,
   "metadata": {},
   "outputs": [
    {
     "data": {
      "text/plain": [
       "<matplotlib.legend.Legend at 0x19576b00>"
      ]
     },
     "execution_count": 7199,
     "metadata": {},
     "output_type": "execute_result"
    },
    {
     "data": {
      "image/png": "[encoded data removed]",
      "text/plain": [
       "<Figure size 432x288 with 1 Axes>"
      ]
     },
     "metadata": {
      "needs_background": "light"
     },
     "output_type": "display_data"
    }
   ],
   "source": [
    "plt.scatter(x1, y, label = 'Y')\n",
    "plt.scatter(x1, h, label = 'H')\n",
    "plt.legend()"
   ]
  },
  {
   "cell_type": "code",
   "execution_count": 5896,
   "metadata": {},
   "outputs": [
    {
     "data": {
      "text/plain": [
       "(1.998612732506775,\n",
       " 0.9951379294854011,\n",
       " 0.01233824013484286,\n",
       " 0.010438595604082113)"
      ]
     },
     "execution_count": 5896,
     "metadata": {},
     "output_type": "execute_result"
    }
   ],
   "source": [
    "np.max(x1), np.max(x2), np.min(x1), np.min(x2)"
   ]
  },
  {
   "cell_type": "markdown",
   "metadata": {},
   "source": [
    "# 다항회귀"
   ]
  },
  {
   "cell_type": "code",
   "execution_count": 7266,
   "metadata": {},
   "outputs": [],
   "source": [
    "m = 100\n",
    "x = 6 * np.random.rand(m, 1) - 3\n",
    "y = 0.5 * x**3 + x + 2 + np.random.randn(m, 1)"
   ]
  },
  {
   "cell_type": "code",
   "execution_count": 7267,
   "metadata": {},
   "outputs": [
    {
     "data": {
      "text/plain": [
       "<matplotlib.collections.PathCollection at 0x1b15e668>"
      ]
     },
     "execution_count": 7267,
     "metadata": {},
     "output_type": "execute_result"
    },
    {
     "data": {
      "image/png": "[encoded data removed]",
      "text/plain": [
       "<Figure size 432x288 with 1 Axes>"
      ]
     },
     "metadata": {
      "needs_background": "light"
     },
     "output_type": "display_data"
    }
   ],
   "source": [
    "plt.scatter(x, y, s=5)"
   ]
  },
  {
   "cell_type": "code",
   "execution_count": 7268,
   "metadata": {},
   "outputs": [
    {
     "data": {
      "text/plain": [
       "((100, 1), (100, 3), ['x0', 'x0^2', 'x0^3'])"
      ]
     },
     "execution_count": 7268,
     "metadata": {},
     "output_type": "execute_result"
    }
   ],
   "source": [
    "from sklearn.preprocessing import PolynomialFeatures\n",
    "pf = PolynomialFeatures(degree = 3, include_bias=False)\n",
    "x_poly = pf.fit_transform(x)\n",
    "x.shape, x_poly.shape, pf.get_feature_names()"
   ]
  },
  {
   "cell_type": "code",
   "execution_count": 7269,
   "metadata": {},
   "outputs": [],
   "source": [
    "from sklearn.linear_model import LinearRegression\n",
    "model = LinearRegression().fit(x_poly, y)\n",
    "model_basic = LinearRegression().fit(x, y)"
   ]
  },
  {
   "cell_type": "code",
   "execution_count": 7270,
   "metadata": {},
   "outputs": [
    {
     "data": {
      "text/plain": [
       "0.0"
      ]
     },
     "execution_count": 7270,
     "metadata": {},
     "output_type": "execute_result"
    }
   ],
   "source": [
    "np.sum(x[:, 0] - x_poly[:, 0])"
   ]
  },
  {
   "cell_type": "code",
   "execution_count": 7271,
   "metadata": {},
   "outputs": [
    {
     "data": {
      "text/plain": [
       "<matplotlib.collections.PathCollection at 0x1b1f0f28>"
      ]
     },
     "execution_count": 7271,
     "metadata": {},
     "output_type": "execute_result"
    },
    {
     "data": {
      "image/png": "[encoded data removed]",
      "text/plain": [
       "<Figure size 432x288 with 1 Axes>"
      ]
     },
     "metadata": {
      "needs_background": "light"
     },
     "output_type": "display_data"
    }
   ],
   "source": [
    "plt.scatter(x, y, s=5)\n",
    "plt.scatter(x, model.predict(x_poly), s=5)\n",
    "plt.scatter(x, model_basic.predict(x), s=5)"
   ]
  },
  {
   "cell_type": "markdown",
   "metadata": {},
   "source": [
    "# 10차 다항곡선"
   ]
  },
  {
   "cell_type": "code",
   "execution_count": 7272,
   "metadata": {},
   "outputs": [],
   "source": [
    "from sklearn.pipeline import Pipeline"
   ]
  },
  {
   "cell_type": "code",
   "execution_count": 7279,
   "metadata": {},
   "outputs": [],
   "source": [
    "pipe = Pipeline([\n",
    "    ('feature', PolynomialFeatures(degree=10, include_bias=False)), \n",
    "    ('reg', LinearRegression())\n",
    "])"
   ]
  },
  {
   "cell_type": "code",
   "execution_count": 7280,
   "metadata": {},
   "outputs": [
    {
     "data": {
      "text/plain": [
       "0.9784550471480767"
      ]
     },
     "execution_count": 7280,
     "metadata": {},
     "output_type": "execute_result"
    }
   ],
   "source": [
    "pipe.fit(x, y)\n",
    "pipe.score(x, y)"
   ]
  },
  {
   "cell_type": "code",
   "execution_count": null,
   "metadata": {},
   "outputs": [],
   "source": []
  }
 ],
 "metadata": {
  "kernelspec": {
   "display_name": "Python 3",
   "language": "python",
   "name": "python3"
  },
  "language_info": {
   "codemirror_mode": {
    "name": "ipython",
    "version": 3
   },
   "file_extension": ".py",
   "mimetype": "text/x-python",
   "name": "python",
   "nbconvert_exporter": "python",
   "pygments_lexer": "ipython3",
   "version": "3.7.3"
  }
 },
 "nbformat": 4,
 "nbformat_minor": 2
}
