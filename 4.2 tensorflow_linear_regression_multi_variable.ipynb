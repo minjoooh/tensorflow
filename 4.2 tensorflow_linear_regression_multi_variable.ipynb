{
 "cells": [
  {
   "cell_type": "code",
   "execution_count": 1,
   "metadata": {},
   "outputs": [],
   "source": [
    "import tensorflow as tf\n",
    "import numpy as np"
   ]
  },
  {
   "cell_type": "markdown",
   "metadata": {},
   "source": [
    "# LinearRegression을 tensorflow로 SGDRegressor 직접 구현해보자\n",
    "## y = w1x1 + w2x2 + b\n",
    "- 그리드서치, 정규방정식, 경사하강법(tensorflow가 강화된것)"
   ]
  },
  {
   "cell_type": "code",
   "execution_count": 76,
   "metadata": {},
   "outputs": [],
   "source": [
    "x = [[55, 160], [60, 165], [65, 155], [70, 180], [75, 160]] #키는 모두 170\n",
    "y = [[0], [0], [0], [1], [1]] #의도하지 않은 브로드캐스팅으로, y를 2차원으로 변경하여 재적용 필요"
   ]
  },
  {
   "cell_type": "markdown",
   "metadata": {},
   "source": [
    "# tensorflow 라이브러리"
   ]
  },
  {
   "cell_type": "code",
   "execution_count": 77,
   "metadata": {},
   "outputs": [
    {
     "name": "stdout",
     "output_type": "stream",
     "text": [
      "Tensor(\"add_13:0\", shape=(5, 1), dtype=float32)\n"
     ]
    }
   ],
   "source": [
    "# 기능(모델) 구현\n",
    "w = tf.Variable([0.01, 0.01]) # 초기값 1.0 으로 두고, 모델이 스스로 조절해나가는 값\n",
    "b = tf.Variable(0.0)\n",
    "# hypothesis = tf.reduce_sum(w * x, axis=1) + b #n keepdims는 차원을 줄이지 말아라 명령어\n",
    "hypothesis = tf.reduce_sum(w * x, axis=1, keepdims=True) + b #n keepdims는 차원을 줄이지 말아라 명령어\n",
    "print(hypothesis)\n",
    "# MSE 오차\n",
    "cost = tf.reduce_mean((y - hypothesis) **2)\n",
    "learning_rate = 0.00001 # 학습률\n",
    "# 경사하강법으로 오차를 최소화해라\n",
    "train = tf.train.GradientDescentOptimizer(learning_rate).minimize(cost)"
   ]
  },
  {
   "cell_type": "code",
   "execution_count": 78,
   "metadata": {},
   "outputs": [
    {
     "data": {
      "text/plain": [
       "3.7194996"
      ]
     },
     "execution_count": 78,
     "metadata": {},
     "output_type": "execute_result"
    }
   ],
   "source": [
    "sess = tf.Session()\n",
    "sess.run(tf.global_variables_initializer()) # 변수 초기화를 통해 메모리 할당해줌(malloc과 동일)\n",
    "sess.run(cost)"
   ]
  },
  {
   "cell_type": "code",
   "execution_count": 79,
   "metadata": {},
   "outputs": [
    {
     "name": "stdout",
     "output_type": "stream",
     "text": [
      "0 0.7016109\n",
      "50 0.19965085\n",
      "100 0.19482791\n",
      "150 0.19040237\n",
      "200 0.18634148\n",
      "250 0.18261519\n",
      "300 0.17919594\n",
      "350 0.17605838\n",
      "400 0.17317939\n",
      "450 0.17053747\n"
     ]
    }
   ],
   "source": [
    "for i in range(500): # 에포크 : 변수를 몇번 업데이트 하느냐\n",
    "    sess.run(train)\n",
    "    if i%50==0:\n",
    "        print(i, sess.run(cost))"
   ]
  },
  {
   "cell_type": "code",
   "execution_count": 80,
   "metadata": {},
   "outputs": [
    {
     "data": {
      "text/plain": [
       "array([[0.25070813],\n",
       "       [0.31962934],\n",
       "       [0.46100625],\n",
       "       [0.43332002],\n",
       "       [0.6230007 ]], dtype=float32)"
      ]
     },
     "execution_count": 80,
     "metadata": {},
     "output_type": "execute_result"
    }
   ],
   "source": [
    "sess.run(hypothesis)"
   ]
  },
  {
   "cell_type": "code",
   "execution_count": 81,
   "metadata": {},
   "outputs": [
    {
     "data": {
      "text/plain": [
       "[array([ 0.01861463, -0.00483038], dtype=float32), -0.0002362942]"
      ]
     },
     "execution_count": 81,
     "metadata": {},
     "output_type": "execute_result"
    }
   ],
   "source": [
    "sess.run([w, b])"
   ]
  },
  {
   "cell_type": "code",
   "execution_count": 82,
   "metadata": {},
   "outputs": [
    {
     "data": {
      "text/plain": [
       "array([[0.],\n",
       "       [0.],\n",
       "       [0.],\n",
       "       [0.],\n",
       "       [1.]], dtype=float32)"
      ]
     },
     "execution_count": 82,
     "metadata": {},
     "output_type": "execute_result"
    }
   ],
   "source": [
    "np.round(sess.run(hypothesis))"
   ]
  },
  {
   "cell_type": "code",
   "execution_count": null,
   "metadata": {},
   "outputs": [],
   "source": []
  },
  {
   "cell_type": "code",
   "execution_count": null,
   "metadata": {},
   "outputs": [],
   "source": []
  },
  {
   "cell_type": "code",
   "execution_count": null,
   "metadata": {},
   "outputs": [],
   "source": []
  }
 ],
 "metadata": {
  "kernelspec": {
   "display_name": "Python 3",
   "language": "python",
   "name": "python3"
  },
  "language_info": {
   "codemirror_mode": {
    "name": "ipython",
    "version": 3
   },
   "file_extension": ".py",
   "mimetype": "text/x-python",
   "name": "python",
   "nbconvert_exporter": "python",
   "pygments_lexer": "ipython3",
   "version": "3.7.3"
  }
 },
 "nbformat": 4,
 "nbformat_minor": 2
}
