{
 "cells": [
  {
   "cell_type": "code",
   "execution_count": 50,
   "metadata": {},
   "outputs": [],
   "source": [
    "import numpy as np \n",
    "import tensorflow as tf \n",
    "import matplotlib.pyplot as plt \n",
    "import pandas as pd "
   ]
  },
  {
   "cell_type": "markdown",
   "metadata": {},
   "source": [
    "한국석유공사 오피넷 / 국제 유가 / 원유\n",
    "y : 내일의 Dubai 유가 예측\n",
    "x : 과거 7일의 Dubai, Brent, WTI 데이터\n",
    "모델 : rnn"
   ]
  },
  {
   "cell_type": "code",
   "execution_count": 51,
   "metadata": {},
   "outputs": [
    {
     "data": {
      "text/plain": [
       "(183, 4)"
      ]
     },
     "execution_count": 51,
     "metadata": {},
     "output_type": "execute_result"
    }
   ],
   "source": [
    "df = pd.read_csv('./datasets/oil_price.csv', encoding='CP949')\n",
    "df.shape"
   ]
  },
  {
   "cell_type": "code",
   "execution_count": 52,
   "metadata": {},
   "outputs": [
    {
     "data": {
      "text/html": [
       "<div>\n",
       "<style scoped>\n",
       "    .dataframe tbody tr th:only-of-type {\n",
       "        vertical-align: middle;\n",
       "    }\n",
       "\n",
       "    .dataframe tbody tr th {\n",
       "        vertical-align: top;\n",
       "    }\n",
       "\n",
       "    .dataframe thead th {\n",
       "        text-align: right;\n",
       "    }\n",
       "</style>\n",
       "<table border=\"1\" class=\"dataframe\">\n",
       "  <thead>\n",
       "    <tr style=\"text-align: right;\">\n",
       "      <th></th>\n",
       "      <th>기간</th>\n",
       "      <th>Dubai</th>\n",
       "      <th>Brent</th>\n",
       "      <th>WTI</th>\n",
       "    </tr>\n",
       "  </thead>\n",
       "  <tbody>\n",
       "    <tr>\n",
       "      <th>0</th>\n",
       "      <td>19년01월02일</td>\n",
       "      <td>51.86</td>\n",
       "      <td>54.91</td>\n",
       "      <td>46.54</td>\n",
       "    </tr>\n",
       "    <tr>\n",
       "      <th>1</th>\n",
       "      <td>19년01월03일</td>\n",
       "      <td>53.20</td>\n",
       "      <td>55.95</td>\n",
       "      <td>47.09</td>\n",
       "    </tr>\n",
       "    <tr>\n",
       "      <th>2</th>\n",
       "      <td>19년01월04일</td>\n",
       "      <td>55.59</td>\n",
       "      <td>57.06</td>\n",
       "      <td>47.96</td>\n",
       "    </tr>\n",
       "    <tr>\n",
       "      <th>3</th>\n",
       "      <td>19년01월07일</td>\n",
       "      <td>56.79</td>\n",
       "      <td>57.33</td>\n",
       "      <td>48.52</td>\n",
       "    </tr>\n",
       "    <tr>\n",
       "      <th>4</th>\n",
       "      <td>19년01월08일</td>\n",
       "      <td>56.18</td>\n",
       "      <td>58.72</td>\n",
       "      <td>49.78</td>\n",
       "    </tr>\n",
       "  </tbody>\n",
       "</table>\n",
       "</div>"
      ],
      "text/plain": [
       "          기간  Dubai  Brent    WTI\n",
       "0  19년01월02일  51.86  54.91  46.54\n",
       "1  19년01월03일  53.20  55.95  47.09\n",
       "2  19년01월04일  55.59  57.06  47.96\n",
       "3  19년01월07일  56.79  57.33  48.52\n",
       "4  19년01월08일  56.18  58.72  49.78"
      ]
     },
     "execution_count": 52,
     "metadata": {},
     "output_type": "execute_result"
    }
   ],
   "source": [
    "df.head()"
   ]
  },
  {
   "cell_type": "code",
   "execution_count": 53,
   "metadata": {},
   "outputs": [
    {
     "data": {
      "text/plain": [
       "기간       0\n",
       "Dubai    0\n",
       "Brent    0\n",
       "WTI      0\n",
       "dtype: int64"
      ]
     },
     "execution_count": 53,
     "metadata": {},
     "output_type": "execute_result"
    }
   ],
   "source": [
    "df.isna().sum()"
   ]
  },
  {
   "cell_type": "code",
   "execution_count": 54,
   "metadata": {},
   "outputs": [
    {
     "data": {
      "text/html": [
       "<div>\n",
       "<style scoped>\n",
       "    .dataframe tbody tr th:only-of-type {\n",
       "        vertical-align: middle;\n",
       "    }\n",
       "\n",
       "    .dataframe tbody tr th {\n",
       "        vertical-align: top;\n",
       "    }\n",
       "\n",
       "    .dataframe thead th {\n",
       "        text-align: right;\n",
       "    }\n",
       "</style>\n",
       "<table border=\"1\" class=\"dataframe\">\n",
       "  <thead>\n",
       "    <tr style=\"text-align: right;\">\n",
       "      <th></th>\n",
       "      <th>Dubai</th>\n",
       "      <th>Brent</th>\n",
       "      <th>WTI</th>\n",
       "    </tr>\n",
       "    <tr>\n",
       "      <th>기간</th>\n",
       "      <th></th>\n",
       "      <th></th>\n",
       "      <th></th>\n",
       "    </tr>\n",
       "  </thead>\n",
       "  <tbody>\n",
       "    <tr>\n",
       "      <th>19년01월02일</th>\n",
       "      <td>51.86</td>\n",
       "      <td>54.91</td>\n",
       "      <td>46.54</td>\n",
       "    </tr>\n",
       "    <tr>\n",
       "      <th>19년01월03일</th>\n",
       "      <td>53.20</td>\n",
       "      <td>55.95</td>\n",
       "      <td>47.09</td>\n",
       "    </tr>\n",
       "    <tr>\n",
       "      <th>19년01월04일</th>\n",
       "      <td>55.59</td>\n",
       "      <td>57.06</td>\n",
       "      <td>47.96</td>\n",
       "    </tr>\n",
       "    <tr>\n",
       "      <th>19년01월07일</th>\n",
       "      <td>56.79</td>\n",
       "      <td>57.33</td>\n",
       "      <td>48.52</td>\n",
       "    </tr>\n",
       "    <tr>\n",
       "      <th>19년01월08일</th>\n",
       "      <td>56.18</td>\n",
       "      <td>58.72</td>\n",
       "      <td>49.78</td>\n",
       "    </tr>\n",
       "  </tbody>\n",
       "</table>\n",
       "</div>"
      ],
      "text/plain": [
       "           Dubai  Brent    WTI\n",
       "기간                            \n",
       "19년01월02일  51.86  54.91  46.54\n",
       "19년01월03일  53.20  55.95  47.09\n",
       "19년01월04일  55.59  57.06  47.96\n",
       "19년01월07일  56.79  57.33  48.52\n",
       "19년01월08일  56.18  58.72  49.78"
      ]
     },
     "execution_count": 54,
     "metadata": {},
     "output_type": "execute_result"
    }
   ],
   "source": [
    "df = df.set_index('기간')\n",
    "df.head()"
   ]
  },
  {
   "cell_type": "code",
   "execution_count": 55,
   "metadata": {},
   "outputs": [
    {
     "data": {
      "text/plain": [
       "Index(['Dubai', 'Brent', 'WTI'], dtype='object')"
      ]
     },
     "execution_count": 55,
     "metadata": {},
     "output_type": "execute_result"
    }
   ],
   "source": [
    "df.columns"
   ]
  },
  {
   "cell_type": "code",
   "execution_count": 56,
   "metadata": {},
   "outputs": [
    {
     "data": {
      "text/plain": [
       "<matplotlib.axes._subplots.AxesSubplot at 0x1a594198>"
      ]
     },
     "execution_count": 56,
     "metadata": {},
     "output_type": "execute_result"
    },
    {
     "data": {
      "image/png": "[encoded data removed]",
      "text/plain": [
       "<Figure size 432x288 with 1 Axes>"
      ]
     },
     "metadata": {
      "needs_background": "light"
     },
     "output_type": "display_data"
    }
   ],
   "source": [
    "df.boxplot()"
   ]
  },
  {
   "cell_type": "code",
   "execution_count": 57,
   "metadata": {},
   "outputs": [
    {
     "name": "stdout",
     "output_type": "stream",
     "text": [
      "<class 'pandas.core.frame.DataFrame'>\n",
      "Index: 183 entries, 19년01월02일 to 19년09월16일\n",
      "Data columns (total 3 columns):\n",
      "Dubai    183 non-null object\n",
      "Brent    183 non-null float64\n",
      "WTI      183 non-null object\n",
      "dtypes: float64(1), object(2)\n",
      "memory usage: 5.7+ KB\n"
     ]
    }
   ],
   "source": [
    "df.info()"
   ]
  },
  {
   "cell_type": "code",
   "execution_count": 58,
   "metadata": {},
   "outputs": [
    {
     "data": {
      "text/plain": [
       "Dubai    7\n",
       "Brent    0\n",
       "WTI      5\n",
       "dtype: int64"
      ]
     },
     "execution_count": 58,
     "metadata": {},
     "output_type": "execute_result"
    }
   ],
   "source": [
    "# -를 평균으로 변경\n",
    "##x\n",
    "df['Dubai'] = df['Dubai'].replace('-', np.NAN)\n",
    "df['WTI'] = df['WTI'].replace('-', np.NAN)\n",
    "df.isna().sum()"
   ]
  },
  {
   "cell_type": "code",
   "execution_count": 59,
   "metadata": {},
   "outputs": [
    {
     "data": {
      "text/plain": [
       "(171, 3)"
      ]
     },
     "execution_count": 59,
     "metadata": {},
     "output_type": "execute_result"
    }
   ],
   "source": [
    "#mean_dubai = df['Dubai'].dropna().mean()\n",
    "#df['Dubai'] = df['Dubai'].fillna(mean_dubai)\n",
    "df = df.dropna()\n",
    "df.shape"
   ]
  },
  {
   "cell_type": "code",
   "execution_count": 61,
   "metadata": {},
   "outputs": [
    {
     "data": {
      "text/html": [
       "<div>\n",
       "<style scoped>\n",
       "    .dataframe tbody tr th:only-of-type {\n",
       "        vertical-align: middle;\n",
       "    }\n",
       "\n",
       "    .dataframe tbody tr th {\n",
       "        vertical-align: top;\n",
       "    }\n",
       "\n",
       "    .dataframe thead th {\n",
       "        text-align: right;\n",
       "    }\n",
       "</style>\n",
       "<table border=\"1\" class=\"dataframe\">\n",
       "  <thead>\n",
       "    <tr style=\"text-align: right;\">\n",
       "      <th></th>\n",
       "      <th>Dubai</th>\n",
       "      <th>Brent</th>\n",
       "      <th>WTI</th>\n",
       "    </tr>\n",
       "    <tr>\n",
       "      <th>기간</th>\n",
       "      <th></th>\n",
       "      <th></th>\n",
       "      <th></th>\n",
       "    </tr>\n",
       "  </thead>\n",
       "  <tbody>\n",
       "    <tr>\n",
       "      <th>19년01월02일</th>\n",
       "      <td>51.86</td>\n",
       "      <td>54.91</td>\n",
       "      <td>46.54</td>\n",
       "    </tr>\n",
       "    <tr>\n",
       "      <th>19년01월03일</th>\n",
       "      <td>53.20</td>\n",
       "      <td>55.95</td>\n",
       "      <td>47.09</td>\n",
       "    </tr>\n",
       "    <tr>\n",
       "      <th>19년01월04일</th>\n",
       "      <td>55.59</td>\n",
       "      <td>57.06</td>\n",
       "      <td>47.96</td>\n",
       "    </tr>\n",
       "    <tr>\n",
       "      <th>19년01월07일</th>\n",
       "      <td>56.79</td>\n",
       "      <td>57.33</td>\n",
       "      <td>48.52</td>\n",
       "    </tr>\n",
       "    <tr>\n",
       "      <th>19년01월08일</th>\n",
       "      <td>56.18</td>\n",
       "      <td>58.72</td>\n",
       "      <td>49.78</td>\n",
       "    </tr>\n",
       "  </tbody>\n",
       "</table>\n",
       "</div>"
      ],
      "text/plain": [
       "           Dubai  Brent    WTI\n",
       "기간                            \n",
       "19년01월02일  51.86  54.91  46.54\n",
       "19년01월03일  53.20  55.95  47.09\n",
       "19년01월04일  55.59  57.06  47.96\n",
       "19년01월07일  56.79  57.33  48.52\n",
       "19년01월08일  56.18  58.72  49.78"
      ]
     },
     "execution_count": 61,
     "metadata": {},
     "output_type": "execute_result"
    }
   ],
   "source": [
    "df.head()"
   ]
  },
  {
   "cell_type": "code",
   "execution_count": 63,
   "metadata": {},
   "outputs": [
    {
     "name": "stdout",
     "output_type": "stream",
     "text": [
      "<class 'pandas.core.frame.DataFrame'>\n",
      "Index: 171 entries, 19년01월02일 to 19년09월16일\n",
      "Data columns (total 3 columns):\n",
      "Dubai    171 non-null object\n",
      "Brent    171 non-null float64\n",
      "WTI      171 non-null object\n",
      "dtypes: float64(1), object(2)\n",
      "memory usage: 5.3+ KB\n"
     ]
    }
   ],
   "source": [
    "df.info()"
   ]
  },
  {
   "cell_type": "code",
   "execution_count": 64,
   "metadata": {},
   "outputs": [],
   "source": [
    "df = df.astype(np.float32)"
   ]
  },
  {
   "cell_type": "code",
   "execution_count": 65,
   "metadata": {},
   "outputs": [
    {
     "name": "stdout",
     "output_type": "stream",
     "text": [
      "<class 'pandas.core.frame.DataFrame'>\n",
      "Index: 171 entries, 19년01월02일 to 19년09월16일\n",
      "Data columns (total 3 columns):\n",
      "Dubai    171 non-null float32\n",
      "Brent    171 non-null float32\n",
      "WTI      171 non-null float32\n",
      "dtypes: float32(3)\n",
      "memory usage: 3.3+ KB\n"
     ]
    }
   ],
   "source": [
    "df.info()"
   ]
  },
  {
   "cell_type": "code",
   "execution_count": 66,
   "metadata": {},
   "outputs": [
    {
     "data": {
      "text/plain": [
       "Index(['Dubai', 'Brent', 'WTI'], dtype='object')"
      ]
     },
     "execution_count": 66,
     "metadata": {},
     "output_type": "execute_result"
    }
   ],
   "source": [
    "df.columns"
   ]
  },
  {
   "cell_type": "code",
   "execution_count": 71,
   "metadata": {},
   "outputs": [],
   "source": [
    "df_rol = df.rolling(window=7).mean()"
   ]
  },
  {
   "cell_type": "code",
   "execution_count": 72,
   "metadata": {},
   "outputs": [],
   "source": [
    "df_rol.columns = ['Dubai_rol', 'Brent_rol', 'WTI_rol']"
   ]
  },
  {
   "cell_type": "code",
   "execution_count": 75,
   "metadata": {},
   "outputs": [
    {
     "data": {
      "text/html": [
       "<div>\n",
       "<style scoped>\n",
       "    .dataframe tbody tr th:only-of-type {\n",
       "        vertical-align: middle;\n",
       "    }\n",
       "\n",
       "    .dataframe tbody tr th {\n",
       "        vertical-align: top;\n",
       "    }\n",
       "\n",
       "    .dataframe thead th {\n",
       "        text-align: right;\n",
       "    }\n",
       "</style>\n",
       "<table border=\"1\" class=\"dataframe\">\n",
       "  <thead>\n",
       "    <tr style=\"text-align: right;\">\n",
       "      <th></th>\n",
       "      <th>Dubai</th>\n",
       "      <th>Brent</th>\n",
       "      <th>WTI</th>\n",
       "      <th>Dubai_rol</th>\n",
       "      <th>Brent_rol</th>\n",
       "      <th>WTI_rol</th>\n",
       "    </tr>\n",
       "    <tr>\n",
       "      <th>기간</th>\n",
       "      <th></th>\n",
       "      <th></th>\n",
       "      <th></th>\n",
       "      <th></th>\n",
       "      <th></th>\n",
       "      <th></th>\n",
       "    </tr>\n",
       "  </thead>\n",
       "  <tbody>\n",
       "    <tr>\n",
       "      <th>19년01월10일</th>\n",
       "      <td>59.599998</td>\n",
       "      <td>61.680000</td>\n",
       "      <td>52.590000</td>\n",
       "      <td>55.898572</td>\n",
       "      <td>58.155715</td>\n",
       "      <td>49.262857</td>\n",
       "    </tr>\n",
       "    <tr>\n",
       "      <th>19년01월11일</th>\n",
       "      <td>61.160000</td>\n",
       "      <td>60.480000</td>\n",
       "      <td>51.590000</td>\n",
       "      <td>57.227143</td>\n",
       "      <td>58.951429</td>\n",
       "      <td>49.984286</td>\n",
       "    </tr>\n",
       "    <tr>\n",
       "      <th>19년01월14일</th>\n",
       "      <td>58.919998</td>\n",
       "      <td>58.990002</td>\n",
       "      <td>50.509998</td>\n",
       "      <td>58.044285</td>\n",
       "      <td>59.385715</td>\n",
       "      <td>50.472857</td>\n",
       "    </tr>\n",
       "    <tr>\n",
       "      <th>19년01월15일</th>\n",
       "      <td>58.630001</td>\n",
       "      <td>60.639999</td>\n",
       "      <td>52.110001</td>\n",
       "      <td>58.478571</td>\n",
       "      <td>59.897143</td>\n",
       "      <td>51.065714</td>\n",
       "    </tr>\n",
       "    <tr>\n",
       "      <th>19년01월16일</th>\n",
       "      <td>60.150002</td>\n",
       "      <td>61.320000</td>\n",
       "      <td>52.310001</td>\n",
       "      <td>58.958571</td>\n",
       "      <td>60.467143</td>\n",
       "      <td>51.607143</td>\n",
       "    </tr>\n",
       "  </tbody>\n",
       "</table>\n",
       "</div>"
      ],
      "text/plain": [
       "               Dubai      Brent        WTI  Dubai_rol  Brent_rol    WTI_rol\n",
       "기간                                                                         \n",
       "19년01월10일  59.599998  61.680000  52.590000  55.898572  58.155715  49.262857\n",
       "19년01월11일  61.160000  60.480000  51.590000  57.227143  58.951429  49.984286\n",
       "19년01월14일  58.919998  58.990002  50.509998  58.044285  59.385715  50.472857\n",
       "19년01월15일  58.630001  60.639999  52.110001  58.478571  59.897143  51.065714\n",
       "19년01월16일  60.150002  61.320000  52.310001  58.958571  60.467143  51.607143"
      ]
     },
     "execution_count": 75,
     "metadata": {},
     "output_type": "execute_result"
    }
   ],
   "source": [
    "df_con = pd.concat((df, df_rol), axis=1).dropna()\n",
    "df_con.head()"
   ]
  },
  {
   "cell_type": "code",
   "execution_count": 76,
   "metadata": {},
   "outputs": [
    {
     "data": {
      "text/plain": [
       "((165, 6), 165)"
      ]
     },
     "execution_count": 76,
     "metadata": {},
     "output_type": "execute_result"
    }
   ],
   "source": [
    "df_con.shape, len(df_con)"
   ]
  },
  {
   "cell_type": "code",
   "execution_count": 78,
   "metadata": {},
   "outputs": [
    {
     "data": {
      "text/plain": [
       "(158, 158)"
      ]
     },
     "execution_count": 78,
     "metadata": {},
     "output_type": "execute_result"
    }
   ],
   "source": [
    "x_T = 7\n",
    "y_T = 1\n",
    "# X (285, 5, 12), y (285, 5)\n",
    "x_list = []\n",
    "y_list = []\n",
    "for i in range(len(df_con) - (x_T + y_T) + 1):  \n",
    "    x = df_con.iloc[i : i+x_T]\n",
    "    y = df_con.iloc[i+x_T : i+x_T+y_T]['Dubai']\n",
    "    x_list.append(x)\n",
    "    y_list.append(y)\n",
    "len(x_list), len(y_list)"
   ]
  },
  {
   "cell_type": "code",
   "execution_count": 79,
   "metadata": {},
   "outputs": [
    {
     "data": {
      "text/plain": [
       "(numpy.ndarray, (158, 7, 6), (158, 1), dtype('float32'), dtype('float32'))"
      ]
     },
     "execution_count": 79,
     "metadata": {},
     "output_type": "execute_result"
    }
   ],
   "source": [
    "X = np.stack(x_list, 0).astype(np.float32)\n",
    "y = np.stack(y_list, 0).astype(np.float32)\n",
    "type(X), X.shape, y.shape, X.dtype, y.dtype"
   ]
  },
  {
   "cell_type": "code",
   "execution_count": 80,
   "metadata": {},
   "outputs": [
    {
     "data": {
      "text/plain": [
       "(74.57, 74.46)"
      ]
     },
     "execution_count": 80,
     "metadata": {},
     "output_type": "execute_result"
    }
   ],
   "source": [
    "np.max(X), np.max(y)"
   ]
  },
  {
   "cell_type": "code",
   "execution_count": 81,
   "metadata": {},
   "outputs": [
    {
     "data": {
      "text/plain": [
       "((158, 7, 6), (158, 1), 0.0, 1.0000002, 0.0, 1.0)"
      ]
     },
     "execution_count": 81,
     "metadata": {},
     "output_type": "execute_result"
    }
   ],
   "source": [
    "from sklearn.preprocessing import MinMaxScaler\n",
    "X_2d = X.reshape([-1, 12]) # 3d > 2d\n",
    "y_2d = y.reshape([-1, 1]) # 특징 5개가 아니고 , 특징 1개 이므로 \n",
    "scaler_x = MinMaxScaler().fit(X_2d)\n",
    "scaler_y = MinMaxScaler().fit(y_2d)\n",
    "xn = scaler_x.transform(X_2d)\n",
    "yn = scaler_y.transform(y_2d)\n",
    "xn = xn.reshape(X.shape) # 2d > 3d\n",
    "yn = yn.reshape(y.shape)\n",
    "xn.shape, yn.shape,  np.min(xn), np.max(xn), np.min(yn), np.max(yn)"
   ]
  },
  {
   "cell_type": "code",
   "execution_count": 83,
   "metadata": {},
   "outputs": [],
   "source": [
    "import tensorflow.contrib.slim as slim\n",
    "tf.reset_default_graph()\n",
    "cell_enc = tf.nn.rnn_cell.GRUCell(100, name='enc')\n",
    "cell_dec = tf.nn.rnn_cell.GRUCell(100, name='dec')\n",
    "net = slim.conv1d(xn, num_outputs=10, kernel_size=3)\n",
    "outputs, last_state = tf.nn.dynamic_rnn(cell_enc, net, dtype=tf.float32)\n",
    "zero = tf.zeros([len(xn), y_T, 1]) # x와 y 의 시퀀스가 다를 때 \n",
    "context_vector = last_state # 모든 정보가 이 안에 있습니다\n",
    "outputs, last_state = tf.nn.dynamic_rnn(cell_dec,zero,initial_state=context_vector)\n",
    "h = slim.fully_connected(outputs, 1)\n",
    "h = tf.squeeze(h, axis=-1) #맨 뒤쪽 차원을 제거해라 \n",
    "cost = tf.reduce_mean((yn - h)**2)\n",
    "train = tf.train.GradientDescentOptimizer(0.1).minimize(cost)\n",
    "sess = tf.Session()\n",
    "sess.run(tf.global_variables_initializer())"
   ]
  },
  {
   "cell_type": "code",
   "execution_count": 85,
   "metadata": {},
   "outputs": [
    {
     "name": "stdout",
     "output_type": "stream",
     "text": [
      "0 0.004053916\n",
      "100 0.0039198226\n",
      "200 0.0037980797\n",
      "300 0.0036869196\n",
      "400 0.0035770275\n",
      "500 0.0034185227\n",
      "600 0.0037037993\n",
      "700 0.0039468845\n",
      "800 0.0037234628\n",
      "900 0.0036954428\n",
      "999 0.0035966241\n"
     ]
    }
   ],
   "source": [
    "for i in range(1000):\n",
    "    _, c = sess.run([train, cost])    \n",
    "    if i%100 == 0: print(i, c)\n",
    "print(i, c)"
   ]
  },
  {
   "cell_type": "code",
   "execution_count": 91,
   "metadata": {},
   "outputs": [
    {
     "name": "stdout",
     "output_type": "stream",
     "text": [
      "1 일 후 [[0.17576481]] 값으로 0.9394592595848573\n"
     ]
    }
   ],
   "source": [
    "from sklearn.metrics import r2_score\n",
    "predict = sess.run(h) # 미래 5일 예측 종가\n",
    "for i in range(y_T):\n",
    "    print(i+1, '일 후', predict[-1:, [i]], '값으로', r2_score(yn[:, [i]], predict[:, [i]]))"
   ]
  },
  {
   "cell_type": "code",
   "execution_count": 87,
   "metadata": {},
   "outputs": [
    {
     "data": {
      "text/plain": [
       "<matplotlib.legend.Legend at 0x206795f8>"
      ]
     },
     "execution_count": 87,
     "metadata": {},
     "output_type": "execute_result"
    },
    {
     "data": {
      "image/png": "[encoded data removed]",
      "text/plain": [
       "<Figure size 1080x144 with 1 Axes>"
      ]
     },
     "metadata": {
      "needs_background": "light"
     },
     "output_type": "display_data"
    }
   ],
   "source": [
    "plt.figure(figsize=(15,2))\n",
    "plt.plot(scaler_y.inverse_transform(yn[:, [0]]), label='y')\n",
    "plt.plot(scaler_y.inverse_transform(predict[:, [0]]), label='p')\n",
    "plt.legend()"
   ]
  },
  {
   "cell_type": "code",
   "execution_count": null,
   "metadata": {},
   "outputs": [],
   "source": []
  }
 ],
 "metadata": {
  "kernelspec": {
   "display_name": "Python 3",
   "language": "python",
   "name": "python3"
  },
  "language_info": {
   "codemirror_mode": {
    "name": "ipython",
    "version": 3
   },
   "file_extension": ".py",
   "mimetype": "text/x-python",
   "name": "python",
   "nbconvert_exporter": "python",
   "pygments_lexer": "ipython3",
   "version": "3.7.3"
  }
 },
 "nbformat": 4,
 "nbformat_minor": 2
}
