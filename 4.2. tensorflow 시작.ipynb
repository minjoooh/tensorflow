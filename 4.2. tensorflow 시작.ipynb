{
 "cells": [
  {
   "cell_type": "markdown",
   "metadata": {},
   "source": [
    "- 가장 대중적인 딥러닝 라이브러리\n",
    "- 구글이 개발\n",
    "- 값(scalar), 1차원배열(vector), 2차원배열(matrix), 3차원배열(tensor)"
   ]
  },
  {
   "cell_type": "code",
   "execution_count": 11,
   "metadata": {},
   "outputs": [],
   "source": [
    "import tensorflow as tf\n",
    "import numpy as np"
   ]
  },
  {
   "cell_type": "code",
   "execution_count": 5,
   "metadata": {},
   "outputs": [],
   "source": [
    "# 더하기\n",
    "# 상수와 변수\n",
    "a = tf.constant(1.0)\n",
    "b = tf.constant(2.0)\n",
    "c = a+b\n",
    "# a=1 와 같이 int로 하면 tensorfow 형으로 변경이 안되서, 작업할 수 없음\n",
    "# a=np.array([1]) 와 같이 배열로 하면 tensorfow 형으로 변경이 안되서, 작업할 수 없음\n",
    "x = [1, 2, 3] # 파이썬 기본 자료형은 계산이 가능하다"
   ]
  },
  {
   "cell_type": "code",
   "execution_count": 6,
   "metadata": {},
   "outputs": [
    {
     "data": {
      "text/plain": [
       "<tf.Tensor 'add_1:0' shape=() dtype=float32>"
      ]
     },
     "execution_count": 6,
     "metadata": {},
     "output_type": "execute_result"
    }
   ],
   "source": [
    "c"
   ]
  },
  {
   "cell_type": "code",
   "execution_count": 7,
   "metadata": {},
   "outputs": [],
   "source": [
    "sess = tf.Session()"
   ]
  },
  {
   "cell_type": "code",
   "execution_count": 9,
   "metadata": {},
   "outputs": [
    {
     "data": {
      "text/plain": [
       "1.0"
      ]
     },
     "execution_count": 9,
     "metadata": {},
     "output_type": "execute_result"
    }
   ],
   "source": [
    "sess.run(a)"
   ]
  },
  {
   "cell_type": "code",
   "execution_count": 10,
   "metadata": {},
   "outputs": [
    {
     "data": {
      "text/plain": [
       "[1.0, 2.0, 3.0]"
      ]
     },
     "execution_count": 10,
     "metadata": {},
     "output_type": "execute_result"
    }
   ],
   "source": [
    "sess.run([a, b, c])"
   ]
  },
  {
   "cell_type": "markdown",
   "metadata": {},
   "source": [
    "# LinearRegression을 tensorflow로 SGDRegressor 직접 구현해보자\n",
    "## y = wx + b\n",
    "- 그리드서치, 정규방정식, 경사하강법(tensorflow가 강화된것)"
   ]
  },
  {
   "cell_type": "code",
   "execution_count": 107,
   "metadata": {},
   "outputs": [],
   "source": [
    "x = [[55], [60], [65], [70], [75]] #키는 모두 170\n",
    "#y = [0, 0, 0, 1, 1]\n",
    "y = [[0], [0], [0], [1], [1]] #의도하지 않은 브로드캐스팅으로, y를 2차원으로 변경하여 재적용 필요\n",
    "y_1d = [0, 0, 0, 1, 1]"
   ]
  },
  {
   "cell_type": "markdown",
   "metadata": {},
   "source": [
    "# sklearn 라이브러리"
   ]
  },
  {
   "cell_type": "code",
   "execution_count": 108,
   "metadata": {},
   "outputs": [
    {
     "data": {
      "text/plain": [
       "(array([-1.31600117e+11]), array([-2.62014177e+09]))"
      ]
     },
     "execution_count": 108,
     "metadata": {},
     "output_type": "execute_result"
    }
   ],
   "source": [
    "from sklearn.linear_model import SGDRegressor\n",
    "model = SGDRegressor(max_iter=1000, alpha=0.0001).fit(x, y_1d)\n",
    "model.coef_, model.intercept_"
   ]
  },
  {
   "cell_type": "markdown",
   "metadata": {},
   "source": [
    "# tensorflow 라이브러리"
   ]
  },
  {
   "cell_type": "code",
   "execution_count": 109,
   "metadata": {},
   "outputs": [],
   "source": [
    "# 기능(모델) 구현\n",
    "w = tf.Variable(0.01) # 초기값 1.0 으로 두고, 모델이 스스로 조절해나가는 값\n",
    "b = tf.Variable(0.0)\n",
    "hypothesis = w * x + b\n",
    "# MSE 오차\n",
    "cost = tf.reduce_mean((y - hypothesis) **2)"
   ]
  },
  {
   "cell_type": "code",
   "execution_count": 110,
   "metadata": {},
   "outputs": [],
   "source": [
    "learning_rate = 0.0001 # 학습률\n",
    "# 경사하강법으로 오차를 최소화해라\n",
    "train = tf.train.GradientDescentOptimizer(learning_rate).minimize(cost)"
   ]
  },
  {
   "cell_type": "code",
   "execution_count": 111,
   "metadata": {},
   "outputs": [],
   "source": [
    "sess = tf.Session()"
   ]
  },
  {
   "cell_type": "code",
   "execution_count": 112,
   "metadata": {},
   "outputs": [
    {
     "data": {
      "text/plain": [
       "0.24749999"
      ]
     },
     "execution_count": 112,
     "metadata": {},
     "output_type": "execute_result"
    }
   ],
   "source": [
    "sess.run(tf.global_variables_initializer()) # 변수 초기화를 통해 메모리 할당해줌(malloc과 동일)\n",
    "sess.run(hypothesis)\n",
    "sess.run(cost)"
   ]
  },
  {
   "cell_type": "code",
   "execution_count": 113,
   "metadata": {},
   "outputs": [
    {
     "name": "stdout",
     "output_type": "stream",
     "text": [
      "0.20419757 0.00725 -5e-05\n",
      "0.2032032 0.0067967917 -0.0008754961\n",
      "0.2031362 0.0068092328 -0.0016937207\n",
      "0.20306928 0.0068216706 -0.0025117542\n",
      "0.20300238 0.0068341056 -0.003329596\n",
      "0.2029355 0.006846538 -0.0041472474\n",
      "0.20286867 0.0068589672 -0.0049647074\n",
      "0.20280185 0.0068713934 -0.005781976\n",
      "0.2027351 0.006883817 -0.006599054\n",
      "0.20266834 0.0068962374 -0.00741594\n"
     ]
    }
   ],
   "source": [
    "for i in range(1000): # 에포크 : 변수를 몇번 업데이트 하느냐\n",
    "    sess.run(train)\n",
    "    if i%100==0:\n",
    "        print(sess.run(cost), sess.run(w), sess.run(b))"
   ]
  },
  {
   "cell_type": "code",
   "execution_count": 114,
   "metadata": {},
   "outputs": [
    {
     "data": {
      "text/plain": [
       "array([[0.37174475],\n",
       "       [0.4062874 ],\n",
       "       [0.44083005],\n",
       "       [0.4753727 ],\n",
       "       [0.50991535]], dtype=float32)"
      ]
     },
     "execution_count": 114,
     "metadata": {},
     "output_type": "execute_result"
    }
   ],
   "source": [
    "sess.run(hypothesis)"
   ]
  },
  {
   "cell_type": "code",
   "execution_count": null,
   "metadata": {},
   "outputs": [],
   "source": []
  }
 ],
 "metadata": {
  "kernelspec": {
   "display_name": "Python 3",
   "language": "python",
   "name": "python3"
  },
  "language_info": {
   "codemirror_mode": {
    "name": "ipython",
    "version": 3
   },
   "file_extension": ".py",
   "mimetype": "text/x-python",
   "name": "python",
   "nbconvert_exporter": "python",
   "pygments_lexer": "ipython3",
   "version": "3.7.3"
  }
 },
 "nbformat": 4,
 "nbformat_minor": 2
}
