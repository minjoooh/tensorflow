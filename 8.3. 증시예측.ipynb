{
 "cells": [
  {
   "cell_type": "code",
   "execution_count": 88,
   "metadata": {},
   "outputs": [],
   "source": [
    "import tensorflow as tf\n",
    "import pandas as pd\n",
    "import numpy as np\n",
    "import matplotlib.pyplot as plt"
   ]
  },
  {
   "cell_type": "markdown",
   "metadata": {},
   "source": [
    "# 증시예측"
   ]
  },
  {
   "cell_type": "markdown",
   "metadata": {},
   "source": [
    "- 데이터 유효성, 누락 검사\n",
    "- 분포, 상관관계 분석\n",
    "- 전처리 : 이동평균, x(하루전?) y(다음날종가? 거래량?) 분리, 정규화\n",
    "- LinearRegression 점수 측정, tensorflow 뉴럴 네트워크로 점수 측정\n",
    "- 그래프로 시각화 (역정규화한 예측)"
   ]
  },
  {
   "cell_type": "code",
   "execution_count": 89,
   "metadata": {},
   "outputs": [
    {
     "data": {
      "text/plain": [
       "2"
      ]
     },
     "execution_count": 89,
     "metadata": {},
     "output_type": "execute_result"
    }
   ],
   "source": [
    "url = 'https://finance.naver.com/item/sise_day.nhn?code=024950&page='\n",
    "tables = pd.read_html(url)\n",
    "len(tables)"
   ]
  },
  {
   "cell_type": "code",
   "execution_count": 90,
   "metadata": {},
   "outputs": [
    {
     "data": {
      "text/plain": [
       "50"
      ]
     },
     "execution_count": 90,
     "metadata": {},
     "output_type": "execute_result"
    }
   ],
   "source": [
    "page_list = []\n",
    "for page in range(1, 51):\n",
    "    tables = pd.read_html(url+str(page))\n",
    "    page_list.append(tables[0])\n",
    "len(page_list)    "
   ]
  },
  {
   "cell_type": "code",
   "execution_count": 94,
   "metadata": {},
   "outputs": [
    {
     "data": {
      "text/plain": [
       "(500, 5)"
      ]
     },
     "execution_count": 94,
     "metadata": {},
     "output_type": "execute_result"
    }
   ],
   "source": [
    "df = pd.concat(page_list, axis=0)\n",
    "df = df.dropna()\n",
    "df = df.set_index('날짜').drop(columns='전일비')\n",
    "df = df[::-1]\n",
    "df.shape"
   ]
  },
  {
   "cell_type": "code",
   "execution_count": 114,
   "metadata": {},
   "outputs": [
    {
     "data": {
      "text/html": [
       "<div>\n",
       "<style scoped>\n",
       "    .dataframe tbody tr th:only-of-type {\n",
       "        vertical-align: middle;\n",
       "    }\n",
       "\n",
       "    .dataframe tbody tr th {\n",
       "        vertical-align: top;\n",
       "    }\n",
       "\n",
       "    .dataframe thead th {\n",
       "        text-align: right;\n",
       "    }\n",
       "</style>\n",
       "<table border=\"1\" class=\"dataframe\">\n",
       "  <thead>\n",
       "    <tr style=\"text-align: right;\">\n",
       "      <th></th>\n",
       "      <th>종가</th>\n",
       "      <th>시가</th>\n",
       "      <th>고가</th>\n",
       "      <th>저가</th>\n",
       "      <th>거래량</th>\n",
       "    </tr>\n",
       "    <tr>\n",
       "      <th>날짜</th>\n",
       "      <th></th>\n",
       "      <th></th>\n",
       "      <th></th>\n",
       "      <th></th>\n",
       "      <th></th>\n",
       "    </tr>\n",
       "  </thead>\n",
       "  <tbody>\n",
       "    <tr>\n",
       "      <th>2017.08.24</th>\n",
       "      <td>10200.0</td>\n",
       "      <td>10050.0</td>\n",
       "      <td>10200.0</td>\n",
       "      <td>10050.0</td>\n",
       "      <td>17484.0</td>\n",
       "    </tr>\n",
       "    <tr>\n",
       "      <th>2017.08.25</th>\n",
       "      <td>10600.0</td>\n",
       "      <td>10200.0</td>\n",
       "      <td>10700.0</td>\n",
       "      <td>10200.0</td>\n",
       "      <td>77514.0</td>\n",
       "    </tr>\n",
       "    <tr>\n",
       "      <th>2017.08.28</th>\n",
       "      <td>10500.0</td>\n",
       "      <td>10800.0</td>\n",
       "      <td>10800.0</td>\n",
       "      <td>10450.0</td>\n",
       "      <td>26052.0</td>\n",
       "    </tr>\n",
       "    <tr>\n",
       "      <th>2017.08.29</th>\n",
       "      <td>10300.0</td>\n",
       "      <td>10400.0</td>\n",
       "      <td>10500.0</td>\n",
       "      <td>10150.0</td>\n",
       "      <td>41579.0</td>\n",
       "    </tr>\n",
       "    <tr>\n",
       "      <th>2017.08.30</th>\n",
       "      <td>10400.0</td>\n",
       "      <td>10300.0</td>\n",
       "      <td>10500.0</td>\n",
       "      <td>10200.0</td>\n",
       "      <td>16444.0</td>\n",
       "    </tr>\n",
       "  </tbody>\n",
       "</table>\n",
       "</div>"
      ],
      "text/plain": [
       "                 종가       시가       고가       저가      거래량\n",
       "날짜                                                     \n",
       "2017.08.24  10200.0  10050.0  10200.0  10050.0  17484.0\n",
       "2017.08.25  10600.0  10200.0  10700.0  10200.0  77514.0\n",
       "2017.08.28  10500.0  10800.0  10800.0  10450.0  26052.0\n",
       "2017.08.29  10300.0  10400.0  10500.0  10150.0  41579.0\n",
       "2017.08.30  10400.0  10300.0  10500.0  10200.0  16444.0"
      ]
     },
     "execution_count": 114,
     "metadata": {},
     "output_type": "execute_result"
    }
   ],
   "source": [
    "df.head()"
   ]
  },
  {
   "cell_type": "code",
   "execution_count": 96,
   "metadata": {},
   "outputs": [],
   "source": [
    "df = df.dropna()"
   ]
  },
  {
   "cell_type": "code",
   "execution_count": 97,
   "metadata": {},
   "outputs": [
    {
     "name": "stdout",
     "output_type": "stream",
     "text": [
      "<class 'pandas.core.frame.DataFrame'>\n",
      "Index: 500 entries, 2017.08.24 to 2019.09.10\n",
      "Data columns (total 5 columns):\n",
      "종가     500 non-null float64\n",
      "시가     500 non-null float64\n",
      "고가     500 non-null float64\n",
      "저가     500 non-null float64\n",
      "거래량    500 non-null float64\n",
      "dtypes: float64(5)\n",
      "memory usage: 23.4+ KB\n"
     ]
    }
   ],
   "source": [
    "df.info()"
   ]
  },
  {
   "cell_type": "code",
   "execution_count": 98,
   "metadata": {},
   "outputs": [
    {
     "data": {
      "text/html": [
       "<div>\n",
       "<style scoped>\n",
       "    .dataframe tbody tr th:only-of-type {\n",
       "        vertical-align: middle;\n",
       "    }\n",
       "\n",
       "    .dataframe tbody tr th {\n",
       "        vertical-align: top;\n",
       "    }\n",
       "\n",
       "    .dataframe thead th {\n",
       "        text-align: right;\n",
       "    }\n",
       "</style>\n",
       "<table border=\"1\" class=\"dataframe\">\n",
       "  <thead>\n",
       "    <tr style=\"text-align: right;\">\n",
       "      <th></th>\n",
       "      <th>종가</th>\n",
       "      <th>시가</th>\n",
       "      <th>고가</th>\n",
       "      <th>저가</th>\n",
       "      <th>거래량</th>\n",
       "    </tr>\n",
       "  </thead>\n",
       "  <tbody>\n",
       "    <tr>\n",
       "      <th>종가</th>\n",
       "      <td>1.000000</td>\n",
       "      <td>0.992247</td>\n",
       "      <td>0.992944</td>\n",
       "      <td>0.996090</td>\n",
       "      <td>0.017560</td>\n",
       "    </tr>\n",
       "    <tr>\n",
       "      <th>시가</th>\n",
       "      <td>0.992247</td>\n",
       "      <td>1.000000</td>\n",
       "      <td>0.988646</td>\n",
       "      <td>0.997041</td>\n",
       "      <td>-0.023791</td>\n",
       "    </tr>\n",
       "    <tr>\n",
       "      <th>고가</th>\n",
       "      <td>0.992944</td>\n",
       "      <td>0.988646</td>\n",
       "      <td>1.000000</td>\n",
       "      <td>0.988943</td>\n",
       "      <td>0.056647</td>\n",
       "    </tr>\n",
       "    <tr>\n",
       "      <th>저가</th>\n",
       "      <td>0.996090</td>\n",
       "      <td>0.997041</td>\n",
       "      <td>0.988943</td>\n",
       "      <td>1.000000</td>\n",
       "      <td>-0.028747</td>\n",
       "    </tr>\n",
       "    <tr>\n",
       "      <th>거래량</th>\n",
       "      <td>0.017560</td>\n",
       "      <td>-0.023791</td>\n",
       "      <td>0.056647</td>\n",
       "      <td>-0.028747</td>\n",
       "      <td>1.000000</td>\n",
       "    </tr>\n",
       "  </tbody>\n",
       "</table>\n",
       "</div>"
      ],
      "text/plain": [
       "           종가        시가        고가        저가       거래량\n",
       "종가   1.000000  0.992247  0.992944  0.996090  0.017560\n",
       "시가   0.992247  1.000000  0.988646  0.997041 -0.023791\n",
       "고가   0.992944  0.988646  1.000000  0.988943  0.056647\n",
       "저가   0.996090  0.997041  0.988943  1.000000 -0.028747\n",
       "거래량  0.017560 -0.023791  0.056647 -0.028747  1.000000"
      ]
     },
     "execution_count": 98,
     "metadata": {},
     "output_type": "execute_result"
    }
   ],
   "source": [
    "df.corr()"
   ]
  },
  {
   "cell_type": "code",
   "execution_count": 99,
   "metadata": {},
   "outputs": [
    {
     "data": {
      "text/html": [
       "<div>\n",
       "<style scoped>\n",
       "    .dataframe tbody tr th:only-of-type {\n",
       "        vertical-align: middle;\n",
       "    }\n",
       "\n",
       "    .dataframe tbody tr th {\n",
       "        vertical-align: top;\n",
       "    }\n",
       "\n",
       "    .dataframe thead th {\n",
       "        text-align: right;\n",
       "    }\n",
       "</style>\n",
       "<table border=\"1\" class=\"dataframe\">\n",
       "  <thead>\n",
       "    <tr style=\"text-align: right;\">\n",
       "      <th></th>\n",
       "      <th>종가</th>\n",
       "      <th>시가</th>\n",
       "      <th>고가</th>\n",
       "      <th>저가</th>\n",
       "      <th>거래량</th>\n",
       "    </tr>\n",
       "    <tr>\n",
       "      <th>날짜</th>\n",
       "      <th></th>\n",
       "      <th></th>\n",
       "      <th></th>\n",
       "      <th></th>\n",
       "      <th></th>\n",
       "    </tr>\n",
       "  </thead>\n",
       "  <tbody>\n",
       "    <tr>\n",
       "      <th>2017.08.24</th>\n",
       "      <td>10200.0</td>\n",
       "      <td>10050.0</td>\n",
       "      <td>10200.0</td>\n",
       "      <td>10050.0</td>\n",
       "      <td>17484.0</td>\n",
       "    </tr>\n",
       "    <tr>\n",
       "      <th>2017.08.25</th>\n",
       "      <td>10600.0</td>\n",
       "      <td>10200.0</td>\n",
       "      <td>10700.0</td>\n",
       "      <td>10200.0</td>\n",
       "      <td>77514.0</td>\n",
       "    </tr>\n",
       "    <tr>\n",
       "      <th>2017.08.28</th>\n",
       "      <td>10500.0</td>\n",
       "      <td>10800.0</td>\n",
       "      <td>10800.0</td>\n",
       "      <td>10450.0</td>\n",
       "      <td>26052.0</td>\n",
       "    </tr>\n",
       "    <tr>\n",
       "      <th>2017.08.29</th>\n",
       "      <td>10300.0</td>\n",
       "      <td>10400.0</td>\n",
       "      <td>10500.0</td>\n",
       "      <td>10150.0</td>\n",
       "      <td>41579.0</td>\n",
       "    </tr>\n",
       "    <tr>\n",
       "      <th>2017.08.30</th>\n",
       "      <td>10400.0</td>\n",
       "      <td>10300.0</td>\n",
       "      <td>10500.0</td>\n",
       "      <td>10200.0</td>\n",
       "      <td>16444.0</td>\n",
       "    </tr>\n",
       "  </tbody>\n",
       "</table>\n",
       "</div>"
      ],
      "text/plain": [
       "                 종가       시가       고가       저가      거래량\n",
       "날짜                                                     \n",
       "2017.08.24  10200.0  10050.0  10200.0  10050.0  17484.0\n",
       "2017.08.25  10600.0  10200.0  10700.0  10200.0  77514.0\n",
       "2017.08.28  10500.0  10800.0  10800.0  10450.0  26052.0\n",
       "2017.08.29  10300.0  10400.0  10500.0  10150.0  41579.0\n",
       "2017.08.30  10400.0  10300.0  10500.0  10200.0  16444.0"
      ]
     },
     "execution_count": 99,
     "metadata": {},
     "output_type": "execute_result"
    }
   ],
   "source": [
    "df.head()"
   ]
  },
  {
   "cell_type": "code",
   "execution_count": 100,
   "metadata": {},
   "outputs": [
    {
     "data": {
      "text/plain": [
       "(500, 5)"
      ]
     },
     "execution_count": 100,
     "metadata": {},
     "output_type": "execute_result"
    }
   ],
   "source": [
    "df.shape"
   ]
  },
  {
   "cell_type": "code",
   "execution_count": 101,
   "metadata": {},
   "outputs": [],
   "source": [
    "x = df.iloc[:-1]\n",
    "y = df.iloc[1:]['종가']"
   ]
  },
  {
   "cell_type": "code",
   "execution_count": 102,
   "metadata": {},
   "outputs": [
    {
     "data": {
      "text/plain": [
       "((499, 5), (499, 1), 5470.0, 11000.0)"
      ]
     },
     "execution_count": 102,
     "metadata": {},
     "output_type": "execute_result"
    }
   ],
   "source": [
    "x = np.array(x).astype(np.float32)\n",
    "y = np.array(y).astype(np.float32).reshape([-1, 1])\n",
    "x.shape, y.shape, np.min(y), np.max(y)"
   ]
  },
  {
   "cell_type": "code",
   "execution_count": 103,
   "metadata": {},
   "outputs": [],
   "source": [
    "# sklearn으로 정규화\n",
    "from sklearn.preprocessing import MinMaxScaler\n",
    "from sklearn.metrics import r2_score\n",
    "import matplotlib.pyplot as plt"
   ]
  },
  {
   "cell_type": "code",
   "execution_count": 104,
   "metadata": {},
   "outputs": [
    {
     "data": {
      "text/plain": [
       "(0.0, 1.0000001, 0.0, 1.0)"
      ]
     },
     "execution_count": 104,
     "metadata": {},
     "output_type": "execute_result"
    }
   ],
   "source": [
    "scaler_x = MinMaxScaler().fit(x)\n",
    "scaler_y = MinMaxScaler().fit(y)\n",
    "xn = scaler_x.transform(x)\n",
    "yn = scaler_y.transform(y)\n",
    "np.min(xn), np.max(xn), np.min(yn), np.max(yn)"
   ]
  },
  {
   "cell_type": "code",
   "execution_count": 105,
   "metadata": {},
   "outputs": [],
   "source": [
    "w1 = tf.Variable(tf.random_normal(shape=[5, 2])) ## x > hidden 784=28*28\n",
    "b1 = tf.Variable(tf.random_normal(shape=[2]))\n",
    "w2 = tf.Variable(tf.random_normal(shape=[2, 1])) ## hidden > h \n",
    "b2 = tf.Variable(tf.random_normal(shape=[1])) # 이진분류라서 1이라 했지만, 다중분류이면 k개 설정\n",
    "## xn = x / tf.reduce_max(xn, -1, True)\n",
    "h1 = tf.sigmoid(tf.matmul(xn, w1)+b1)\n",
    "out = tf.matmul(h1, w2)+b2\n",
    "cost = tf.reduce_mean((yn-out)**2)\n",
    "train = tf.train.GradientDescentOptimizer(0.5).minimize(cost)\n",
    "accuracy = tf.reduce_mean(tf.cast(tf.equal(tf.cast(y, tf.int64), tf.arg_max(out, -1)), tf.float32))\n",
    "sess = tf.Session()\n",
    "sess.run(tf.global_variables_initializer())"
   ]
  },
  {
   "cell_type": "code",
   "execution_count": 106,
   "metadata": {},
   "outputs": [
    {
     "name": "stdout",
     "output_type": "stream",
     "text": [
      "0 0.9795624 -8.461770542585464\n",
      "100 0.0029101672 0.9563017401458148\n",
      "200 0.0024367142 0.9633801222430697\n",
      "300 0.0021920672 0.9670374567092042\n",
      "400 0.0020647391 0.968941481273712\n",
      "500 0.001995361 0.9699795845463747\n",
      "600 0.0019545748 0.9705904002499285\n",
      "700 0.001928159 0.9709864231837971\n",
      "800 0.0019091741 0.9712713226361089\n",
      "900 0.0018941766 0.9714965917211476\n"
     ]
    }
   ],
   "source": [
    "for i in range(1000):\n",
    "    _, c, = sess.run([train, cost])\n",
    "    if(i%100)==0: print(i, c, r2_score(yn, sess.run(out)))\n"
   ]
  },
  {
   "cell_type": "code",
   "execution_count": 107,
   "metadata": {},
   "outputs": [
    {
     "data": {
      "text/plain": [
       "<matplotlib.legend.Legend at 0x1c0b7dd8>"
      ]
     },
     "execution_count": 107,
     "metadata": {},
     "output_type": "execute_result"
    },
    {
     "data": {
      "image/png": "[encoded data removed]",
      "text/plain": [
       "<Figure size 1080x360 with 1 Axes>"
      ]
     },
     "metadata": {
      "needs_background": "light"
     },
     "output_type": "display_data"
    }
   ],
   "source": [
    "plt.figure(figsize=(15, 5))\n",
    "plt.plot(yn, label='y')\n",
    "plt.plot(sess.run(out), label='p')\n",
    "plt.legend()"
   ]
  },
  {
   "cell_type": "code",
   "execution_count": 118,
   "metadata": {},
   "outputs": [
    {
     "data": {
      "text/plain": [
       "날짜\n",
       "2017.08.24      NaN\n",
       "2017.08.25    400.0\n",
       "2017.08.28   -300.0\n",
       "2017.08.29   -100.0\n",
       "2017.08.30    100.0\n",
       "dtype: float64"
      ]
     },
     "execution_count": 118,
     "metadata": {},
     "output_type": "execute_result"
    }
   ],
   "source": [
    "# 전일비 칼럼 추가\n",
    "# 전일비 - 증가 - 다음날 시가\n",
    "전일비 = df.iloc[:-1]['종가'] - df.iloc[1:]['시가']\n",
    "전일비.head()"
   ]
  },
  {
   "cell_type": "markdown",
   "metadata": {},
   "source": [
    "이동 평균 넣어보자"
   ]
  },
  {
   "cell_type": "code",
   "execution_count": 109,
   "metadata": {},
   "outputs": [
    {
     "data": {
      "text/html": [
       "<div>\n",
       "<style scoped>\n",
       "    .dataframe tbody tr th:only-of-type {\n",
       "        vertical-align: middle;\n",
       "    }\n",
       "\n",
       "    .dataframe tbody tr th {\n",
       "        vertical-align: top;\n",
       "    }\n",
       "\n",
       "    .dataframe thead th {\n",
       "        text-align: right;\n",
       "    }\n",
       "</style>\n",
       "<table border=\"1\" class=\"dataframe\">\n",
       "  <thead>\n",
       "    <tr style=\"text-align: right;\">\n",
       "      <th></th>\n",
       "      <th>종가</th>\n",
       "      <th>시가</th>\n",
       "      <th>고가</th>\n",
       "      <th>저가</th>\n",
       "      <th>거래량</th>\n",
       "    </tr>\n",
       "    <tr>\n",
       "      <th>날짜</th>\n",
       "      <th></th>\n",
       "      <th></th>\n",
       "      <th></th>\n",
       "      <th></th>\n",
       "      <th></th>\n",
       "    </tr>\n",
       "  </thead>\n",
       "  <tbody>\n",
       "    <tr>\n",
       "      <th>2017.08.24</th>\n",
       "      <td>NaN</td>\n",
       "      <td>NaN</td>\n",
       "      <td>NaN</td>\n",
       "      <td>NaN</td>\n",
       "      <td>NaN</td>\n",
       "    </tr>\n",
       "    <tr>\n",
       "      <th>2017.08.25</th>\n",
       "      <td>NaN</td>\n",
       "      <td>NaN</td>\n",
       "      <td>NaN</td>\n",
       "      <td>NaN</td>\n",
       "      <td>NaN</td>\n",
       "    </tr>\n",
       "    <tr>\n",
       "      <th>2017.08.28</th>\n",
       "      <td>NaN</td>\n",
       "      <td>NaN</td>\n",
       "      <td>NaN</td>\n",
       "      <td>NaN</td>\n",
       "      <td>NaN</td>\n",
       "    </tr>\n",
       "    <tr>\n",
       "      <th>2017.08.29</th>\n",
       "      <td>NaN</td>\n",
       "      <td>NaN</td>\n",
       "      <td>NaN</td>\n",
       "      <td>NaN</td>\n",
       "      <td>NaN</td>\n",
       "    </tr>\n",
       "    <tr>\n",
       "      <th>2017.08.30</th>\n",
       "      <td>10400.0</td>\n",
       "      <td>10350.0</td>\n",
       "      <td>10540.0</td>\n",
       "      <td>10210.0</td>\n",
       "      <td>35814.6</td>\n",
       "    </tr>\n",
       "    <tr>\n",
       "      <th>2017.08.31</th>\n",
       "      <td>10430.0</td>\n",
       "      <td>10390.0</td>\n",
       "      <td>10580.0</td>\n",
       "      <td>10250.0</td>\n",
       "      <td>34072.4</td>\n",
       "    </tr>\n",
       "    <tr>\n",
       "      <th>2017.09.01</th>\n",
       "      <td>10390.0</td>\n",
       "      <td>10410.0</td>\n",
       "      <td>10530.0</td>\n",
       "      <td>10250.0</td>\n",
       "      <td>23138.2</td>\n",
       "    </tr>\n",
       "    <tr>\n",
       "      <th>2017.09.04</th>\n",
       "      <td>10310.0</td>\n",
       "      <td>10280.0</td>\n",
       "      <td>10410.0</td>\n",
       "      <td>10160.0</td>\n",
       "      <td>26523.2</td>\n",
       "    </tr>\n",
       "    <tr>\n",
       "      <th>2017.09.05</th>\n",
       "      <td>10250.0</td>\n",
       "      <td>10210.0</td>\n",
       "      <td>10340.0</td>\n",
       "      <td>10130.0</td>\n",
       "      <td>25916.0</td>\n",
       "    </tr>\n",
       "    <tr>\n",
       "      <th>2017.09.06</th>\n",
       "      <td>10150.0</td>\n",
       "      <td>10132.0</td>\n",
       "      <td>10260.0</td>\n",
       "      <td>10060.0</td>\n",
       "      <td>35397.0</td>\n",
       "    </tr>\n",
       "  </tbody>\n",
       "</table>\n",
       "</div>"
      ],
      "text/plain": [
       "                 종가       시가       고가       저가      거래량\n",
       "날짜                                                     \n",
       "2017.08.24      NaN      NaN      NaN      NaN      NaN\n",
       "2017.08.25      NaN      NaN      NaN      NaN      NaN\n",
       "2017.08.28      NaN      NaN      NaN      NaN      NaN\n",
       "2017.08.29      NaN      NaN      NaN      NaN      NaN\n",
       "2017.08.30  10400.0  10350.0  10540.0  10210.0  35814.6\n",
       "2017.08.31  10430.0  10390.0  10580.0  10250.0  34072.4\n",
       "2017.09.01  10390.0  10410.0  10530.0  10250.0  23138.2\n",
       "2017.09.04  10310.0  10280.0  10410.0  10160.0  26523.2\n",
       "2017.09.05  10250.0  10210.0  10340.0  10130.0  25916.0\n",
       "2017.09.06  10150.0  10132.0  10260.0  10060.0  35397.0"
      ]
     },
     "execution_count": 109,
     "metadata": {},
     "output_type": "execute_result"
    }
   ],
   "source": [
    "df_roll = df.rolling(window=5).mean()\n",
    "df_roll.head(10)"
   ]
  },
  {
   "cell_type": "code",
   "execution_count": 110,
   "metadata": {},
   "outputs": [],
   "source": [
    "df_roll.columns = ['종가r', '시가r', '고가r', '저가r', '거래량r']"
   ]
  },
  {
   "cell_type": "code",
   "execution_count": 111,
   "metadata": {},
   "outputs": [
    {
     "data": {
      "text/html": [
       "<div>\n",
       "<style scoped>\n",
       "    .dataframe tbody tr th:only-of-type {\n",
       "        vertical-align: middle;\n",
       "    }\n",
       "\n",
       "    .dataframe tbody tr th {\n",
       "        vertical-align: top;\n",
       "    }\n",
       "\n",
       "    .dataframe thead th {\n",
       "        text-align: right;\n",
       "    }\n",
       "</style>\n",
       "<table border=\"1\" class=\"dataframe\">\n",
       "  <thead>\n",
       "    <tr style=\"text-align: right;\">\n",
       "      <th></th>\n",
       "      <th>종가</th>\n",
       "      <th>시가</th>\n",
       "      <th>고가</th>\n",
       "      <th>저가</th>\n",
       "      <th>거래량</th>\n",
       "      <th>종가r</th>\n",
       "      <th>시가r</th>\n",
       "      <th>고가r</th>\n",
       "      <th>저가r</th>\n",
       "      <th>거래량r</th>\n",
       "    </tr>\n",
       "    <tr>\n",
       "      <th>날짜</th>\n",
       "      <th></th>\n",
       "      <th></th>\n",
       "      <th></th>\n",
       "      <th></th>\n",
       "      <th></th>\n",
       "      <th></th>\n",
       "      <th></th>\n",
       "      <th></th>\n",
       "      <th></th>\n",
       "      <th></th>\n",
       "    </tr>\n",
       "  </thead>\n",
       "  <tbody>\n",
       "    <tr>\n",
       "      <th>2017.08.30</th>\n",
       "      <td>10400.0</td>\n",
       "      <td>10300.0</td>\n",
       "      <td>10500.0</td>\n",
       "      <td>10200.0</td>\n",
       "      <td>16444.0</td>\n",
       "      <td>10400.0</td>\n",
       "      <td>10350.0</td>\n",
       "      <td>10540.0</td>\n",
       "      <td>10210.0</td>\n",
       "      <td>35814.6</td>\n",
       "    </tr>\n",
       "    <tr>\n",
       "      <th>2017.08.31</th>\n",
       "      <td>10350.0</td>\n",
       "      <td>10250.0</td>\n",
       "      <td>10400.0</td>\n",
       "      <td>10250.0</td>\n",
       "      <td>8773.0</td>\n",
       "      <td>10430.0</td>\n",
       "      <td>10390.0</td>\n",
       "      <td>10580.0</td>\n",
       "      <td>10250.0</td>\n",
       "      <td>34072.4</td>\n",
       "    </tr>\n",
       "    <tr>\n",
       "      <th>2017.09.01</th>\n",
       "      <td>10400.0</td>\n",
       "      <td>10300.0</td>\n",
       "      <td>10450.0</td>\n",
       "      <td>10200.0</td>\n",
       "      <td>22843.0</td>\n",
       "      <td>10390.0</td>\n",
       "      <td>10410.0</td>\n",
       "      <td>10530.0</td>\n",
       "      <td>10250.0</td>\n",
       "      <td>23138.2</td>\n",
       "    </tr>\n",
       "    <tr>\n",
       "      <th>2017.09.04</th>\n",
       "      <td>10100.0</td>\n",
       "      <td>10150.0</td>\n",
       "      <td>10200.0</td>\n",
       "      <td>10000.0</td>\n",
       "      <td>42977.0</td>\n",
       "      <td>10310.0</td>\n",
       "      <td>10280.0</td>\n",
       "      <td>10410.0</td>\n",
       "      <td>10160.0</td>\n",
       "      <td>26523.2</td>\n",
       "    </tr>\n",
       "    <tr>\n",
       "      <th>2017.09.05</th>\n",
       "      <td>10000.0</td>\n",
       "      <td>10050.0</td>\n",
       "      <td>10150.0</td>\n",
       "      <td>10000.0</td>\n",
       "      <td>38543.0</td>\n",
       "      <td>10250.0</td>\n",
       "      <td>10210.0</td>\n",
       "      <td>10340.0</td>\n",
       "      <td>10130.0</td>\n",
       "      <td>25916.0</td>\n",
       "    </tr>\n",
       "  </tbody>\n",
       "</table>\n",
       "</div>"
      ],
      "text/plain": [
       "                 종가       시가       고가       저가      거래량      종가r      시가r  \\\n",
       "날짜                                                                          \n",
       "2017.08.30  10400.0  10300.0  10500.0  10200.0  16444.0  10400.0  10350.0   \n",
       "2017.08.31  10350.0  10250.0  10400.0  10250.0   8773.0  10430.0  10390.0   \n",
       "2017.09.01  10400.0  10300.0  10450.0  10200.0  22843.0  10390.0  10410.0   \n",
       "2017.09.04  10100.0  10150.0  10200.0  10000.0  42977.0  10310.0  10280.0   \n",
       "2017.09.05  10000.0  10050.0  10150.0  10000.0  38543.0  10250.0  10210.0   \n",
       "\n",
       "                고가r      저가r     거래량r  \n",
       "날짜                                     \n",
       "2017.08.30  10540.0  10210.0  35814.6  \n",
       "2017.08.31  10580.0  10250.0  34072.4  \n",
       "2017.09.01  10530.0  10250.0  23138.2  \n",
       "2017.09.04  10410.0  10160.0  26523.2  \n",
       "2017.09.05  10340.0  10130.0  25916.0  "
      ]
     },
     "execution_count": 111,
     "metadata": {},
     "output_type": "execute_result"
    }
   ],
   "source": [
    "df_con = pd.concat((df, df_roll), axis=1 ).dropna()\n",
    "df_con.head()"
   ]
  },
  {
   "cell_type": "code",
   "execution_count": 112,
   "metadata": {},
   "outputs": [],
   "source": [
    "x = df_con.iloc[:-1]\n",
    "y = df_con.iloc[1:]['종가']"
   ]
  },
  {
   "cell_type": "code",
   "execution_count": 113,
   "metadata": {},
   "outputs": [
    {
     "data": {
      "text/plain": [
       "0.9849365058981521"
      ]
     },
     "execution_count": 113,
     "metadata": {},
     "output_type": "execute_result"
    }
   ],
   "source": [
    "from sklearn.linear_model import LinearRegression\n",
    "model = LinearRegression().fit(x, y)\n",
    "model.score(x, y)"
   ]
  },
  {
   "cell_type": "code",
   "execution_count": 116,
   "metadata": {},
   "outputs": [
    {
     "data": {
      "text/plain": [
       "<matplotlib.legend.Legend at 0x1dea2a20>"
      ]
     },
     "execution_count": 116,
     "metadata": {},
     "output_type": "execute_result"
    },
    {
     "data": {
      "image/png": "[encoded data removed]",
      "text/plain": [
       "<Figure size 1080x360 with 1 Axes>"
      ]
     },
     "metadata": {
      "needs_background": "light"
     },
     "output_type": "display_data"
    }
   ],
   "source": [
    "plt.figure(figsize=(15, 5))\n",
    "plt.plot(y, label='y')\n",
    "plt.plot(model.predict(x), label='p')\n",
    "                    plt.legend()"
   ]
  },
  {
   "cell_type": "code",
   "execution_count": 117,
   "metadata": {},
   "outputs": [
    {
     "data": {
      "text/html": [
       "<div>\n",
       "<style scoped>\n",
       "    .dataframe tbody tr th:only-of-type {\n",
       "        vertical-align: middle;\n",
       "    }\n",
       "\n",
       "    .dataframe tbody tr th {\n",
       "        vertical-align: top;\n",
       "    }\n",
       "\n",
       "    .dataframe thead th {\n",
       "        text-align: right;\n",
       "    }\n",
       "</style>\n",
       "<table border=\"1\" class=\"dataframe\">\n",
       "  <thead>\n",
       "    <tr style=\"text-align: right;\">\n",
       "      <th></th>\n",
       "      <th>종가</th>\n",
       "      <th>시가</th>\n",
       "      <th>고가</th>\n",
       "      <th>저가</th>\n",
       "      <th>거래량</th>\n",
       "    </tr>\n",
       "    <tr>\n",
       "      <th>날짜</th>\n",
       "      <th></th>\n",
       "      <th></th>\n",
       "      <th></th>\n",
       "      <th></th>\n",
       "      <th></th>\n",
       "    </tr>\n",
       "  </thead>\n",
       "  <tbody>\n",
       "    <tr>\n",
       "      <th>2017.08.24</th>\n",
       "      <td>10200.0</td>\n",
       "      <td>10050.0</td>\n",
       "      <td>10200.0</td>\n",
       "      <td>10050.0</td>\n",
       "      <td>17484.0</td>\n",
       "    </tr>\n",
       "    <tr>\n",
       "      <th>2017.08.25</th>\n",
       "      <td>10600.0</td>\n",
       "      <td>10200.0</td>\n",
       "      <td>10700.0</td>\n",
       "      <td>10200.0</td>\n",
       "      <td>77514.0</td>\n",
       "    </tr>\n",
       "    <tr>\n",
       "      <th>2017.08.28</th>\n",
       "      <td>10500.0</td>\n",
       "      <td>10800.0</td>\n",
       "      <td>10800.0</td>\n",
       "      <td>10450.0</td>\n",
       "      <td>26052.0</td>\n",
       "    </tr>\n",
       "    <tr>\n",
       "      <th>2017.08.29</th>\n",
       "      <td>10300.0</td>\n",
       "      <td>10400.0</td>\n",
       "      <td>10500.0</td>\n",
       "      <td>10150.0</td>\n",
       "      <td>41579.0</td>\n",
       "    </tr>\n",
       "    <tr>\n",
       "      <th>2017.08.30</th>\n",
       "      <td>10400.0</td>\n",
       "      <td>10300.0</td>\n",
       "      <td>10500.0</td>\n",
       "      <td>10200.0</td>\n",
       "      <td>16444.0</td>\n",
       "    </tr>\n",
       "  </tbody>\n",
       "</table>\n",
       "</div>"
      ],
      "text/plain": [
       "                 종가       시가       고가       저가      거래량\n",
       "날짜                                                     \n",
       "2017.08.24  10200.0  10050.0  10200.0  10050.0  17484.0\n",
       "2017.08.25  10600.0  10200.0  10700.0  10200.0  77514.0\n",
       "2017.08.28  10500.0  10800.0  10800.0  10450.0  26052.0\n",
       "2017.08.29  10300.0  10400.0  10500.0  10150.0  41579.0\n",
       "2017.08.30  10400.0  10300.0  10500.0  10200.0  16444.0"
      ]
     },
     "execution_count": 117,
     "metadata": {},
     "output_type": "execute_result"
    }
   ],
   "source": [
    "df.head()"
   ]
  },
  {
   "cell_type": "code",
   "execution_count": null,
   "metadata": {},
   "outputs": [],
   "source": []
  },
  {
   "cell_type": "markdown",
   "metadata": {},
   "source": [
    "# RNN\n",
    "\n",
    "- 입력 X : x1, x2, x3, x4, x5, x6 (종가, 시가, 고가, 저가, 거래량, 전일비)\n",
    "- 5일치 X(t=5) : X_t : X_1, X_2, X_3, X_4, X_5\n",
    "                 X_1 (x1, x2, x3, x4, x5, x6 )\n",
    "                 X_2 (x1, x2, x3, x4, x5, x6 )\n",
    "                 ...\n",
    "  => 5, 6 : 5 시간, 6 특성               "
   ]
  },
  {
   "cell_type": "markdown",
   "metadata": {},
   "source": [
    "x :  5일치 데이터\n",
    "y :  다음에 올 하루치 데이터\n",
    "=> (100 row시) x, y 95set"
   ]
  },
  {
   "cell_type": "code",
   "execution_count": 130,
   "metadata": {},
   "outputs": [
    {
     "data": {
      "text/html": [
       "<div>\n",
       "<style scoped>\n",
       "    .dataframe tbody tr th:only-of-type {\n",
       "        vertical-align: middle;\n",
       "    }\n",
       "\n",
       "    .dataframe tbody tr th {\n",
       "        vertical-align: top;\n",
       "    }\n",
       "\n",
       "    .dataframe thead th {\n",
       "        text-align: right;\n",
       "    }\n",
       "</style>\n",
       "<table border=\"1\" class=\"dataframe\">\n",
       "  <thead>\n",
       "    <tr style=\"text-align: right;\">\n",
       "      <th></th>\n",
       "      <th>종가</th>\n",
       "      <th>시가</th>\n",
       "      <th>고가</th>\n",
       "      <th>저가</th>\n",
       "      <th>거래량</th>\n",
       "      <th>종가r</th>\n",
       "      <th>시가r</th>\n",
       "      <th>고가r</th>\n",
       "      <th>저가r</th>\n",
       "      <th>거래량r</th>\n",
       "    </tr>\n",
       "    <tr>\n",
       "      <th>날짜</th>\n",
       "      <th></th>\n",
       "      <th></th>\n",
       "      <th></th>\n",
       "      <th></th>\n",
       "      <th></th>\n",
       "      <th></th>\n",
       "      <th></th>\n",
       "      <th></th>\n",
       "      <th></th>\n",
       "      <th></th>\n",
       "    </tr>\n",
       "  </thead>\n",
       "  <tbody>\n",
       "    <tr>\n",
       "      <th>2017.08.30</th>\n",
       "      <td>10400.0</td>\n",
       "      <td>10300.0</td>\n",
       "      <td>10500.0</td>\n",
       "      <td>10200.0</td>\n",
       "      <td>16444.0</td>\n",
       "      <td>10400.0</td>\n",
       "      <td>10350.0</td>\n",
       "      <td>10540.0</td>\n",
       "      <td>10210.0</td>\n",
       "      <td>35814.6</td>\n",
       "    </tr>\n",
       "    <tr>\n",
       "      <th>2017.08.31</th>\n",
       "      <td>10350.0</td>\n",
       "      <td>10250.0</td>\n",
       "      <td>10400.0</td>\n",
       "      <td>10250.0</td>\n",
       "      <td>8773.0</td>\n",
       "      <td>10430.0</td>\n",
       "      <td>10390.0</td>\n",
       "      <td>10580.0</td>\n",
       "      <td>10250.0</td>\n",
       "      <td>34072.4</td>\n",
       "    </tr>\n",
       "    <tr>\n",
       "      <th>2017.09.01</th>\n",
       "      <td>10400.0</td>\n",
       "      <td>10300.0</td>\n",
       "      <td>10450.0</td>\n",
       "      <td>10200.0</td>\n",
       "      <td>22843.0</td>\n",
       "      <td>10390.0</td>\n",
       "      <td>10410.0</td>\n",
       "      <td>10530.0</td>\n",
       "      <td>10250.0</td>\n",
       "      <td>23138.2</td>\n",
       "    </tr>\n",
       "    <tr>\n",
       "      <th>2017.09.04</th>\n",
       "      <td>10100.0</td>\n",
       "      <td>10150.0</td>\n",
       "      <td>10200.0</td>\n",
       "      <td>10000.0</td>\n",
       "      <td>42977.0</td>\n",
       "      <td>10310.0</td>\n",
       "      <td>10280.0</td>\n",
       "      <td>10410.0</td>\n",
       "      <td>10160.0</td>\n",
       "      <td>26523.2</td>\n",
       "    </tr>\n",
       "    <tr>\n",
       "      <th>2017.09.05</th>\n",
       "      <td>10000.0</td>\n",
       "      <td>10050.0</td>\n",
       "      <td>10150.0</td>\n",
       "      <td>10000.0</td>\n",
       "      <td>38543.0</td>\n",
       "      <td>10250.0</td>\n",
       "      <td>10210.0</td>\n",
       "      <td>10340.0</td>\n",
       "      <td>10130.0</td>\n",
       "      <td>25916.0</td>\n",
       "    </tr>\n",
       "  </tbody>\n",
       "</table>\n",
       "</div>"
      ],
      "text/plain": [
       "                 종가       시가       고가       저가      거래량      종가r      시가r  \\\n",
       "날짜                                                                          \n",
       "2017.08.30  10400.0  10300.0  10500.0  10200.0  16444.0  10400.0  10350.0   \n",
       "2017.08.31  10350.0  10250.0  10400.0  10250.0   8773.0  10430.0  10390.0   \n",
       "2017.09.01  10400.0  10300.0  10450.0  10200.0  22843.0  10390.0  10410.0   \n",
       "2017.09.04  10100.0  10150.0  10200.0  10000.0  42977.0  10310.0  10280.0   \n",
       "2017.09.05  10000.0  10050.0  10150.0  10000.0  38543.0  10250.0  10210.0   \n",
       "\n",
       "                고가r      저가r     거래량r  \n",
       "날짜                                     \n",
       "2017.08.30  10540.0  10210.0  35814.6  \n",
       "2017.08.31  10580.0  10250.0  34072.4  \n",
       "2017.09.01  10530.0  10250.0  23138.2  \n",
       "2017.09.04  10410.0  10160.0  26523.2  \n",
       "2017.09.05  10340.0  10130.0  25916.0  "
      ]
     },
     "execution_count": 130,
     "metadata": {},
     "output_type": "execute_result"
    }
   ],
   "source": [
    "df_con.head()"
   ]
  },
  {
   "cell_type": "code",
   "execution_count": null,
   "metadata": {},
   "outputs": [],
   "source": []
  },
  {
   "cell_type": "code",
   "execution_count": 126,
   "metadata": {},
   "outputs": [
    {
     "data": {
      "text/html": [
       "<div>\n",
       "<style scoped>\n",
       "    .dataframe tbody tr th:only-of-type {\n",
       "        vertical-align: middle;\n",
       "    }\n",
       "\n",
       "    .dataframe tbody tr th {\n",
       "        vertical-align: top;\n",
       "    }\n",
       "\n",
       "    .dataframe thead th {\n",
       "        text-align: right;\n",
       "    }\n",
       "</style>\n",
       "<table border=\"1\" class=\"dataframe\">\n",
       "  <thead>\n",
       "    <tr style=\"text-align: right;\">\n",
       "      <th></th>\n",
       "      <th>종가</th>\n",
       "      <th>시가</th>\n",
       "      <th>고가</th>\n",
       "      <th>저가</th>\n",
       "      <th>거래량</th>\n",
       "      <th>종가r</th>\n",
       "      <th>시가r</th>\n",
       "      <th>고가r</th>\n",
       "      <th>저가r</th>\n",
       "      <th>거래량r</th>\n",
       "    </tr>\n",
       "    <tr>\n",
       "      <th>날짜</th>\n",
       "      <th></th>\n",
       "      <th></th>\n",
       "      <th></th>\n",
       "      <th></th>\n",
       "      <th></th>\n",
       "      <th></th>\n",
       "      <th></th>\n",
       "      <th></th>\n",
       "      <th></th>\n",
       "      <th></th>\n",
       "    </tr>\n",
       "  </thead>\n",
       "  <tbody>\n",
       "    <tr>\n",
       "      <th>2019.09.04</th>\n",
       "      <td>6030.0</td>\n",
       "      <td>5970.0</td>\n",
       "      <td>6070.0</td>\n",
       "      <td>5900.0</td>\n",
       "      <td>43156.0</td>\n",
       "      <td>5886.0</td>\n",
       "      <td>5858.0</td>\n",
       "      <td>5958.0</td>\n",
       "      <td>5804.0</td>\n",
       "      <td>41344.0</td>\n",
       "    </tr>\n",
       "    <tr>\n",
       "      <th>2019.09.05</th>\n",
       "      <td>6030.0</td>\n",
       "      <td>6030.0</td>\n",
       "      <td>6100.0</td>\n",
       "      <td>5990.0</td>\n",
       "      <td>30228.0</td>\n",
       "      <td>5950.0</td>\n",
       "      <td>5896.0</td>\n",
       "      <td>6010.0</td>\n",
       "      <td>5860.0</td>\n",
       "      <td>41823.6</td>\n",
       "    </tr>\n",
       "    <tr>\n",
       "      <th>2019.09.06</th>\n",
       "      <td>6000.0</td>\n",
       "      <td>6090.0</td>\n",
       "      <td>6090.0</td>\n",
       "      <td>5990.0</td>\n",
       "      <td>22472.0</td>\n",
       "      <td>5984.0</td>\n",
       "      <td>5964.0</td>\n",
       "      <td>6056.0</td>\n",
       "      <td>5910.0</td>\n",
       "      <td>38094.0</td>\n",
       "    </tr>\n",
       "    <tr>\n",
       "      <th>2019.09.09</th>\n",
       "      <td>5960.0</td>\n",
       "      <td>6000.0</td>\n",
       "      <td>6130.0</td>\n",
       "      <td>5960.0</td>\n",
       "      <td>22724.0</td>\n",
       "      <td>5994.0</td>\n",
       "      <td>5998.0</td>\n",
       "      <td>6078.0</td>\n",
       "      <td>5938.0</td>\n",
       "      <td>31115.4</td>\n",
       "    </tr>\n",
       "    <tr>\n",
       "      <th>2019.09.10</th>\n",
       "      <td>5960.0</td>\n",
       "      <td>6060.0</td>\n",
       "      <td>6060.0</td>\n",
       "      <td>5860.0</td>\n",
       "      <td>16381.0</td>\n",
       "      <td>5996.0</td>\n",
       "      <td>6030.0</td>\n",
       "      <td>6090.0</td>\n",
       "      <td>5940.0</td>\n",
       "      <td>26992.2</td>\n",
       "    </tr>\n",
       "  </tbody>\n",
       "</table>\n",
       "</div>"
      ],
      "text/plain": [
       "                종가      시가      고가      저가      거래량     종가r     시가r     고가r  \\\n",
       "날짜                                                                            \n",
       "2019.09.04  6030.0  5970.0  6070.0  5900.0  43156.0  5886.0  5858.0  5958.0   \n",
       "2019.09.05  6030.0  6030.0  6100.0  5990.0  30228.0  5950.0  5896.0  6010.0   \n",
       "2019.09.06  6000.0  6090.0  6090.0  5990.0  22472.0  5984.0  5964.0  6056.0   \n",
       "2019.09.09  5960.0  6000.0  6130.0  5960.0  22724.0  5994.0  5998.0  6078.0   \n",
       "2019.09.10  5960.0  6060.0  6060.0  5860.0  16381.0  5996.0  6030.0  6090.0   \n",
       "\n",
       "               저가r     거래량r  \n",
       "날짜                           \n",
       "2019.09.04  5804.0  41344.0  \n",
       "2019.09.05  5860.0  41823.6  \n",
       "2019.09.06  5910.0  38094.0  \n",
       "2019.09.09  5938.0  31115.4  \n",
       "2019.09.10  5940.0  26992.2  "
      ]
     },
     "execution_count": 126,
     "metadata": {},
     "output_type": "execute_result"
    }
   ],
   "source": [
    "df_con.tail()"
   ]
  },
  {
   "cell_type": "code",
   "execution_count": null,
   "metadata": {},
   "outputs": [],
   "source": []
  },
  {
   "cell_type": "code",
   "execution_count": 120,
   "metadata": {},
   "outputs": [
    {
     "data": {
      "text/plain": [
       "(496, 10)"
      ]
     },
     "execution_count": 120,
     "metadata": {},
     "output_type": "execute_result"
    }
   ],
   "source": [
    "df_con.shape"
   ]
  },
  {
   "cell_type": "code",
   "execution_count": 121,
   "metadata": {},
   "outputs": [
    {
     "data": {
      "text/plain": [
       "종가      0\n",
       "시가      0\n",
       "고가      0\n",
       "저가      0\n",
       "거래량     0\n",
       "종가r     0\n",
       "시가r     0\n",
       "고가r     0\n",
       "저가r     0\n",
       "거래량r    0\n",
       "dtype: int64"
      ]
     },
     "execution_count": 121,
     "metadata": {},
     "output_type": "execute_result"
    }
   ],
   "source": [
    "df_con.isna().sum()"
   ]
  },
  {
   "cell_type": "code",
   "execution_count": 129,
   "metadata": {},
   "outputs": [
    {
     "data": {
      "text/plain": [
       "(491, 491)"
      ]
     },
     "execution_count": 129,
     "metadata": {},
     "output_type": "execute_result"
    }
   ],
   "source": [
    "x_list=[]\n",
    "y_list=[]\n",
    "for i in range(len(df_con) - 5):\n",
    "    x = df_con.iloc[i: i+5] # 5는 포함을 안한다\n",
    "    y = df_con.iloc[i+5]['종가']\n",
    "    x_list.append(x)\n",
    "    y_list.append(y)\n",
    "len(x_list), len(y_list)"
   ]
  },
  {
   "cell_type": "code",
   "execution_count": 148,
   "metadata": {},
   "outputs": [
    {
     "data": {
      "text/plain": [
       "(numpy.ndarray, (491, 5, 10), (491, 1), dtype('float32'), dtype('float32'))"
      ]
     },
     "execution_count": 148,
     "metadata": {},
     "output_type": "execute_result"
    }
   ],
   "source": [
    "X = np.stack(x_list, 0).astype(np.float32)\n",
    "y = np.stack(y_list, 0).astype(np.float32).reshape([-1, 1])\n",
    "type(X), X.shape, y.shape, X.dtype, y.dtype"
   ]
  },
  {
   "cell_type": "code",
   "execution_count": 149,
   "metadata": {},
   "outputs": [
    {
     "data": {
      "text/plain": [
       "(6932094.0, 11000.0)"
      ]
     },
     "execution_count": 149,
     "metadata": {},
     "output_type": "execute_result"
    }
   ],
   "source": [
    "np.max(X), np.max(y)"
   ]
  },
  {
   "cell_type": "code",
   "execution_count": 159,
   "metadata": {},
   "outputs": [
    {
     "data": {
      "text/plain": [
       "((491, 5, 10), 0.0, 1.0000001, 0.0, 1.0)"
      ]
     },
     "execution_count": 159,
     "metadata": {},
     "output_type": "execute_result"
    }
   ],
   "source": [
    "# 정규화 (3d -> 2d -> 3d)\n",
    "X_2d = X.reshape([-1, 10])\n",
    "scaler_x = MinMaxScaler().fit(X_2d)\n",
    "scaler_y = MinMaxScaler().fit(y)\n",
    "xn = scaler_x.transform(X_2d)\n",
    "yn = scaler_y.transform(y)\n",
    "xn = xn.reshape([491, 5, -11])\n",
    "xn.shape, np.min(xn), np.max(xn), np.min(yn), np.max(yn)\n"
   ]
  },
  {
   "cell_type": "code",
   "execution_count": 161,
   "metadata": {},
   "outputs": [],
   "source": [
    "tf.reset_default_graph()\n",
    "cell = tf.nn.rnn_cell.BasicRNNCell(10)"
   ]
  },
  {
   "cell_type": "code",
   "execution_count": 187,
   "metadata": {},
   "outputs": [
    {
     "data": {
      "text/plain": [
       "(<tf.Tensor 'rnn_1/transpose_1:0' shape=(491, 5, 100) dtype=float32>,\n",
       " LSTMStateTuple(c=<tf.Tensor 'rnn_1/while/Exit_3:0' shape=(491, 100) dtype=float32>, h=<tf.Tensor 'rnn_1/while/Exit_4:0' shape=(491, 100) dtype=float32>))"
      ]
     },
     "execution_count": 187,
     "metadata": {},
     "output_type": "execute_result"
    }
   ],
   "source": [
    "#tf.nn.dynamic_rnn(cell, X, dtype=tf.float32)\n",
    "tf.nn.dynamic_rnn(cell, xn, dtype=tf.float32)"
   ]
  },
  {
   "cell_type": "code",
   "execution_count": 188,
   "metadata": {},
   "outputs": [],
   "source": [
    "import tensorflow.contrib.slim as slim\n",
    "tf.reset_default_graph()\n",
    "\n",
    "cell = tf.nn.rnn_cell.BasicRNNCell(100)\n",
    "# cell = tf.nn.rnn_cell.BasicGRUCell(100) # LSTM보다 약간 빠르고 약간 성능은 떨어짐\n",
    "#cell = tf.nn.rnn_cell. #(100) # 장기 단기 텀 메모리 : 가장 복잡하고 성능이 좋음\n",
    "\n",
    "outputs, last_state = tf.nn.dynamic_rnn(cell, xn, dtype=tf.float32)\n",
    "# last_state = last_state[1] #BasicLSTMCell\n",
    "\n",
    "h = slim.fully_connected(last_state, 1) # W와 b가 자동으로 생성되서 행렬곱셈합니다.\n",
    "cost = tf.reduce_mean((yn-h)**2)\n",
    "train = tf.train.GradientDescentOptimizer(0.01).minimize(cost)\n",
    "sess = tf.Session()\n",
    "sess.run(tf.global_variables_initializer())"
   ]
  },
  {
   "cell_type": "code",
   "execution_count": null,
   "metadata": {},
   "outputs": [
    {
     "name": "stdout",
     "output_type": "stream",
     "text": [
      "0 0.21930918 -2.4402429075224834\n",
      "1000 0.21930918 -2.4402429075224834\n",
      "2000 0.21930918 -2.4402429075224834\n",
      "3000 0.21930918 -2.4402429075224834\n",
      "4000 0.21930918 -2.4402429075224834\n",
      "5000 0.21930918 -2.4402429075224834\n",
      "6000 0.21930918 -2.4402429075224834\n",
      "7000 0.21930918 -2.4402429075224834\n",
      "8000 0.21930918 -2.4402429075224834\n",
      "9000 0.21930918 -2.4402429075224834\n",
      "10000 0.21930918 -2.4402429075224834\n",
      "11000 0.21930918 -2.4402429075224834\n",
      "12000 0.21930918 -2.4402429075224834\n",
      "13000 0.21930918 -2.4402429075224834\n",
      "14000 0.21930918 -2.4402429075224834\n",
      "15000 0.21930918 -2.4402429075224834\n",
      "16000 0.21930918 -2.4402429075224834\n",
      "17000 0.21930918 -2.4402429075224834\n",
      "18000 0.21930918 -2.4402429075224834\n",
      "19000 0.21930918 -2.4402429075224834\n",
      "20000 0.21930918 -2.4402429075224834\n",
      "21000 0.21930918 -2.4402429075224834\n",
      "22000 0.21930918 -2.4402429075224834\n",
      "23000 0.21930918 -2.4402429075224834\n",
      "24000 0.21930918 -2.4402429075224834\n",
      "25000 0.21930918 -2.4402429075224834\n",
      "26000 0.21930918 -2.4402429075224834\n",
      "27000 0.21930918 -2.4402429075224834\n",
      "28000 0.21930918 -2.4402429075224834\n",
      "29000 0.21930918 -2.4402429075224834\n",
      "30000 0.21930918 -2.4402429075224834\n",
      "31000 0.21930918 -2.4402429075224834\n",
      "32000 0.21930918 -2.4402429075224834\n",
      "33000 0.21930918 -2.4402429075224834\n",
      "34000 0.21930918 -2.4402429075224834\n",
      "35000 0.21930918 -2.4402429075224834\n",
      "36000 0.21930918 -2.4402429075224834\n",
      "37000 0.21930918 -2.4402429075224834\n",
      "38000 0.21930918 -2.4402429075224834\n",
      "39000 0.21930918 -2.4402429075224834\n",
      "40000 0.21930918 -2.4402429075224834\n"
     ]
    }
   ],
   "source": [
    "for i in range(100000):\n",
    "    _, c, = sess.run([train, cost])\n",
    "    if(i%1000)==0: print(i, c, r2_score(yn, sess.run(h)))\n",
    "print(i, c, r2_score(yn, sess.run(h)))"
   ]
  },
  {
   "cell_type": "code",
   "execution_count": null,
   "metadata": {},
   "outputs": [],
   "source": [
    "plt.figure(figsize=(15, 5))\n",
    "plt.plot(scaler_y.inverse_transform(yn), label='y')\n",
    "plt.plot(scaler_y.inverse_transform(sess.run(h)), label='p')\n",
    "plt.legend()"
   ]
  },
  {
   "cell_type": "code",
   "execution_count": null,
   "metadata": {},
   "outputs": [],
   "source": []
  },
  {
   "cell_type": "code",
   "execution_count": null,
   "metadata": {},
   "outputs": [],
   "source": []
  },
  {
   "cell_type": "code",
   "execution_count": null,
   "metadata": {},
   "outputs": [],
   "source": []
  },
  {
   "cell_type": "code",
   "execution_count": null,
   "metadata": {},
   "outputs": [],
   "source": []
  },
  {
   "cell_type": "code",
   "execution_count": null,
   "metadata": {},
   "outputs": [],
   "source": []
  },
  {
   "cell_type": "code",
   "execution_count": null,
   "metadata": {},
   "outputs": [],
   "source": []
  },
  {
   "cell_type": "code",
   "execution_count": null,
   "metadata": {},
   "outputs": [],
   "source": []
  },
  {
   "cell_type": "code",
   "execution_count": null,
   "metadata": {},
   "outputs": [],
   "source": []
  },
  {
   "cell_type": "code",
   "execution_count": null,
   "metadata": {},
   "outputs": [],
   "source": []
  },
  {
   "cell_type": "code",
   "execution_count": null,
   "metadata": {},
   "outputs": [],
   "source": []
  },
  {
   "cell_type": "code",
   "execution_count": null,
   "metadata": {},
   "outputs": [],
   "source": []
  },
  {
   "cell_type": "code",
   "execution_count": null,
   "metadata": {},
   "outputs": [],
   "source": []
  },
  {
   "cell_type": "code",
   "execution_count": null,
   "metadata": {},
   "outputs": [],
   "source": []
  },
  {
   "cell_type": "code",
   "execution_count": null,
   "metadata": {},
   "outputs": [],
   "source": []
  },
  {
   "cell_type": "code",
   "execution_count": null,
   "metadata": {},
   "outputs": [],
   "source": []
  },
  {
   "cell_type": "code",
   "execution_count": null,
   "metadata": {},
   "outputs": [],
   "source": []
  },
  {
   "cell_type": "code",
   "execution_count": null,
   "metadata": {},
   "outputs": [],
   "source": []
  },
  {
   "cell_type": "code",
   "execution_count": null,
   "metadata": {},
   "outputs": [],
   "source": []
  },
  {
   "cell_type": "code",
   "execution_count": null,
   "metadata": {},
   "outputs": [],
   "source": []
  },
  {
   "cell_type": "code",
   "execution_count": null,
   "metadata": {},
   "outputs": [],
   "source": []
  },
  {
   "cell_type": "code",
   "execution_count": null,
   "metadata": {},
   "outputs": [],
   "source": []
  },
  {
   "cell_type": "code",
   "execution_count": null,
   "metadata": {},
   "outputs": [],
   "source": []
  }
 ],
 "metadata": {
  "kernelspec": {
   "display_name": "Python 3",
   "language": "python",
   "name": "python3"
  },
  "language_info": {
   "codemirror_mode": {
    "name": "ipython",
    "version": 3
   },
   "file_extension": ".py",
   "mimetype": "text/x-python",
   "name": "python",
   "nbconvert_exporter": "python",
   "pygments_lexer": "ipython3",
   "version": "3.7.3"
  }
 },
 "nbformat": 4,
 "nbformat_minor": 2
}
