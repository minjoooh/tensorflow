{
 "cells": [
  {
   "cell_type": "markdown",
   "metadata": {},
   "source": [
    "# 텐서플로우 사용하기"
   ]
  },
  {
   "cell_type": "code",
   "execution_count": 21,
   "metadata": {},
   "outputs": [],
   "source": [
    "import tensorflow as tf"
   ]
  },
  {
   "cell_type": "code",
   "execution_count": 22,
   "metadata": {},
   "outputs": [
    {
     "data": {
      "text/plain": [
       "'1.14.0'"
      ]
     },
     "execution_count": 22,
     "metadata": {},
     "output_type": "execute_result"
    }
   ],
   "source": [
    "tf.VERSION"
   ]
  },
  {
   "cell_type": "code",
   "execution_count": 48,
   "metadata": {},
   "outputs": [],
   "source": [
    "# 변수 : 학습되는 파라미터 (weight, bias)\n",
    "w1 = tf.Variable(3.0)\n",
    "w2 = tf.Variable(5.0, name = 'w2')\n",
    "w3 = tf.Variable(3.0, name = 'w3')\n",
    "f = w1 + w2 + w3"
   ]
  },
  {
   "cell_type": "code",
   "execution_count": 26,
   "metadata": {},
   "outputs": [],
   "source": [
    "sess = tf.Session() #그래프가 정의되는 공간"
   ]
  },
  {
   "cell_type": "code",
   "execution_count": 27,
   "metadata": {},
   "outputs": [],
   "source": [
    "sess.run(w1.initializer)\n",
    "sess.run(w2.initializer)"
   ]
  },
  {
   "cell_type": "code",
   "execution_count": 28,
   "metadata": {},
   "outputs": [],
   "source": [
    "sess.run(w1.initializer) # malloc"
   ]
  },
  {
   "cell_type": "code",
   "execution_count": 52,
   "metadata": {},
   "outputs": [
    {
     "name": "stdout",
     "output_type": "stream",
     "text": [
      "3.0\n",
      "5.0\n",
      "3.0\n",
      "11.0\n"
     ]
    }
   ],
   "source": [
    "# 1. session 정의\n",
    "sess = tf.Session() #그래프가 정의되는 공간\n",
    "init = tf.global_variables_initializer() # 전부다 초기화\n",
    "sess.run(init)\n",
    "# print(w1.eval()) # session 단독으로 시용해서, eval 함수를 사용 할 수 없다\n",
    "print(sess.run(w1))\n",
    "print(sess.run(w2))\n",
    "print(sess.run(w3))\n",
    "print(sess.run(f))"
   ]
  },
  {
   "cell_type": "code",
   "execution_count": 55,
   "metadata": {},
   "outputs": [
    {
     "name": "stdout",
     "output_type": "stream",
     "text": [
      "3.0\n",
      "5.0\n",
      "3.0\n",
      "11.0\n"
     ]
    }
   ],
   "source": [
    "# 2. with 사용 \n",
    "with tf.Session() as sess: \n",
    "    sess.run(init)\n",
    "    w1.initializer.run()\n",
    "    w2.initializer.run()\n",
    "    print(w1.eval()) # with 시용해서, eval 함수를 사용 할 수 있음 -> 평가하다, 값을 가져오는 용도로 사용\n",
    "    print(w2.eval()) \n",
    "    print(w3.eval()) \n",
    "    print(f.eval()) "
   ]
  },
  {
   "cell_type": "code",
   "execution_count": 46,
   "metadata": {},
   "outputs": [
    {
     "name": "stdout",
     "output_type": "stream",
     "text": [
      "3\n",
      "5\n"
     ]
    }
   ],
   "source": [
    "# 3. with으로 만드는 세션과 동일\n",
    "sess = tf.InteractiveSession()\n",
    "sess.run(init)\n",
    "w2.initializer.run()\n",
    "print(w1.eval())\n",
    "print(w2.eval())"
   ]
  },
  {
   "cell_type": "code",
   "execution_count": 56,
   "metadata": {},
   "outputs": [
    {
     "data": {
      "text/plain": [
       "True"
      ]
     },
     "execution_count": 56,
     "metadata": {},
     "output_type": "execute_result"
    }
   ],
   "source": [
    "w1.graph is tf.get_default_graph()"
   ]
  },
  {
   "cell_type": "code",
   "execution_count": 60,
   "metadata": {},
   "outputs": [
    {
     "data": {
      "text/plain": [
       "True"
      ]
     },
     "execution_count": 60,
     "metadata": {},
     "output_type": "execute_result"
    }
   ],
   "source": [
    "graph = tf.Graph()\n",
    "with graph.as_default():\n",
    "    w5 = tf.Variable(10.0)\n",
    "    \n",
    "w5.graph is graph"
   ]
  },
  {
   "cell_type": "code",
   "execution_count": 61,
   "metadata": {},
   "outputs": [
    {
     "data": {
      "text/plain": [
       "False"
      ]
     },
     "execution_count": 61,
     "metadata": {},
     "output_type": "execute_result"
    }
   ],
   "source": [
    "w1.graph is graph"
   ]
  },
  {
   "cell_type": "code",
   "execution_count": 62,
   "metadata": {},
   "outputs": [
    {
     "data": {
      "text/plain": [
       "<tf.Variable 'Variable_5:0' shape=() dtype=float32_ref>"
      ]
     },
     "execution_count": 62,
     "metadata": {},
     "output_type": "execute_result"
    }
   ],
   "source": [
    "w5 = tf.Variable(10.0)\n",
    "w5"
   ]
  },
  {
   "cell_type": "code",
   "execution_count": 63,
   "metadata": {},
   "outputs": [],
   "source": [
    "tf.reset_default_graph()"
   ]
  },
  {
   "cell_type": "code",
   "execution_count": 64,
   "metadata": {},
   "outputs": [],
   "source": [
    "a = tf.Variable(10.0)\n",
    "b = tf.Variable(1.0)"
   ]
  },
  {
   "cell_type": "code",
   "execution_count": 67,
   "metadata": {},
   "outputs": [
    {
     "name": "stdout",
     "output_type": "stream",
     "text": [
      "10.0\n",
      "1.0\n",
      "[10.0, 1.0]\n"
     ]
    }
   ],
   "source": [
    "with tf.Session() as sess:\n",
    "    sess.run(tf.global_variables_initializer())\n",
    "    print(a.eval())\n",
    "    print(b.eval())\n",
    "    print(sess.run([a, b]))"
   ]
  },
  {
   "cell_type": "markdown",
   "metadata": {},
   "source": [
    "# 선형 회귀"
   ]
  },
  {
   "cell_type": "code",
   "execution_count": 106,
   "metadata": {},
   "outputs": [],
   "source": [
    "from sklearn.datasets import california_housing\n",
    "import numpy as np"
   ]
  },
  {
   "cell_type": "code",
   "execution_count": 107,
   "metadata": {},
   "outputs": [],
   "source": [
    "data = california_housing"
   ]
  },
  {
   "cell_type": "code",
   "execution_count": 108,
   "metadata": {},
   "outputs": [],
   "source": [
    "data.fetch_california_housing?"
   ]
  },
  {
   "cell_type": "code",
   "execution_count": 109,
   "metadata": {},
   "outputs": [
    {
     "data": {
      "text/plain": [
       "((20640, 9),\n",
       " (20640,),\n",
       " array([ 3.87067100e+00,  2.86394864e+01,  5.42899974e+00,  1.09667515e+00,\n",
       "         1.42547674e+03,  3.07065516e+00,  3.56318614e+01, -1.19569704e+02,\n",
       "         1.00000000e+00]))"
      ]
     },
     "execution_count": 109,
     "metadata": {},
     "output_type": "execute_result"
    }
   ],
   "source": [
    "house_x, house_y = california_housing.fetch_california_housing(return_X_y=True)\n",
    "house_x = np.concatenate((house_x, np.ones_like(house_x[:, :1])), -1)\n",
    "house_x.shape, house_y.shape, house_x.mean(axis=0)"
   ]
  },
  {
   "cell_type": "code",
   "execution_count": 110,
   "metadata": {},
   "outputs": [],
   "source": [
    "x = tf.constant(house_x, dtype=tf.float32, name='x') #상수화\n",
    "y = tf.constant(house_y.reshape([-1, 1]), dtype=tf.float32, name = 'y')"
   ]
  },
  {
   "cell_type": "code",
   "execution_count": 111,
   "metadata": {},
   "outputs": [
    {
     "data": {
      "text/plain": [
       "<tf.Tensor 'transpose_3:0' shape=(9, 20640) dtype=float32>"
      ]
     },
     "execution_count": 111,
     "metadata": {},
     "output_type": "execute_result"
    }
   ],
   "source": [
    "xt = tf.transpose(x)\n",
    "xt"
   ]
  },
  {
   "cell_type": "code",
   "execution_count": 112,
   "metadata": {},
   "outputs": [
    {
     "data": {
      "text/plain": [
       "<tf.Tensor 'MatMul_12:0' shape=(9, 1) dtype=float32>"
      ]
     },
     "execution_count": 112,
     "metadata": {},
     "output_type": "execute_result"
    }
   ],
   "source": [
    "# theta\n",
    "theta = tf.matmul(tf.matmul(tf.matrix_inverse(tf.matmul(xt, x)), xt), y)\n",
    "theta"
   ]
  },
  {
   "cell_type": "code",
   "execution_count": 113,
   "metadata": {},
   "outputs": [
    {
     "data": {
      "text/plain": [
       "array([[ 4.3646225e-01],\n",
       "       [ 9.3629127e-03],\n",
       "       [-1.1130223e-01],\n",
       "       [ 6.6694891e-01],\n",
       "       [-4.3296104e-06],\n",
       "       [-3.7828966e-03],\n",
       "       [-4.2364365e-01],\n",
       "       [-4.3689999e-01],\n",
       "       [-3.7147003e+01]], dtype=float32)"
      ]
     },
     "execution_count": 113,
     "metadata": {},
     "output_type": "execute_result"
    }
   ],
   "source": [
    "sess = tf.Session()\n",
    "sess.run(theta)"
   ]
  },
  {
   "cell_type": "markdown",
   "metadata": {},
   "source": [
    "# 그라디언트 자동 계산"
   ]
  },
  {
   "cell_type": "code",
   "execution_count": 132,
   "metadata": {},
   "outputs": [
    {
     "data": {
      "text/plain": [
       "<tf.Tensor 'gradients_9/MatMul_27_grad/MatMul_1:0' shape=(9, 1) dtype=float32>"
      ]
     },
     "execution_count": 132,
     "metadata": {},
     "output_type": "execute_result"
    }
   ],
   "source": [
    "x = house_x.astype(np.float32)\n",
    "y = tf.constant(house_y.reshape([-1, 1]), dtype=tf.float32, name='y')\n",
    "theta = tf.Variable(tf.random_normal(shape=[x.shape[-1],1]))\n",
    "h = tf.matmul(x, theta)\n",
    "cost = tf.reduce_mean((h-y)**2)\n",
    "grad = tf.\n",
    "(ys=cost, xs=theta)[0]\n",
    "grad"
   ]
  },
  {
   "cell_type": "code",
   "execution_count": 1080,
   "metadata": {},
   "outputs": [],
   "source": [
    "# theta = theta - learning_rate * grad\n",
    "learning_rate = 0.0000001\n",
    "train_op = tf.assign(theta,  theta - learning_rate*grad)\n",
    "sess.run(tf.global_variables_initializer())"
   ]
  },
  {
   "cell_type": "code",
   "execution_count": 1967,
   "metadata": {},
   "outputs": [
    {
     "data": {
      "text/plain": [
       "[176.79208, array([[   2.3915138],\n",
       "        [ 388.8872   ],\n",
       "        [   8.824268 ],\n",
       "        [   3.0036256],\n",
       "        [ -25.78993  ],\n",
       "        [ 124.42716  ],\n",
       "        [ 112.93222  ],\n",
       "        [-379.70163  ],\n",
       "        [   3.1422892]], dtype=float32)]"
      ]
     },
     "execution_count": 1967,
     "metadata": {},
     "output_type": "execute_result"
    }
   ],
   "source": [
    "sess.run(train_op)\n",
    "sess.run([cost, grad])"
   ]
  },
  {
   "cell_type": "markdown",
   "metadata": {},
   "source": [
    "파라미터 경사 = tf.gradients(코스트, 파라미터)"
   ]
  },
  {
   "cell_type": "code",
   "execution_count": 1991,
   "metadata": {},
   "outputs": [
    {
     "data": {
      "text/plain": [
       "[array([-18.], dtype=float32)]"
      ]
     },
     "execution_count": 1991,
     "metadata": {},
     "output_type": "execute_result"
    }
   ],
   "source": [
    "y = [10.0]\n",
    "x = [1.0]\n",
    "w = tf.constant([1.]) # 1->10 w = w - learning_rate * gradient\n",
    "h = w * x\n",
    "cost = (h - y) ** 2\n",
    "g = tf.gradients(cost, [w]) # 파라미터 경사 = tf.gradients(코스트, 파라미터)\n",
    "sess.run(g)"
   ]
  },
  {
   "cell_type": "code",
   "execution_count": null,
   "metadata": {},
   "outputs": [],
   "source": []
  }
 ],
 "metadata": {
  "kernelspec": {
   "display_name": "Python 3",
   "language": "python",
   "name": "python3"
  },
  "language_info": {
   "codemirror_mode": {
    "name": "ipython",
    "version": 3
   },
   "file_extension": ".py",
   "mimetype": "text/x-python",
   "name": "python",
   "nbconvert_exporter": "python",
   "pygments_lexer": "ipython3",
   "version": "3.7.3"
  }
 },
 "nbformat": 4,
 "nbformat_minor": 2
}
