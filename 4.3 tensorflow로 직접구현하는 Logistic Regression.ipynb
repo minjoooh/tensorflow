{
 "cells": [
  {
   "cell_type": "markdown",
   "metadata": {},
   "source": [
    "4.3 tensorflow로 직접구현하는 Logistic Regression\n",
    "- Linear   Regression : Y=wX+b           #선형 방정식\n",
    "- Logistic Regression : Y=sigmoid(wX+b)  #선형+비선형 방정식  "
   ]
  },
  {
   "cell_type": "code",
   "execution_count": 119,
   "metadata": {},
   "outputs": [],
   "source": [
    "import pandas as pd\n",
    "import numpy as np\n",
    "import tensorflow as tf\n",
    "import matplotlib.pyplot as plt"
   ]
  },
  {
   "cell_type": "code",
   "execution_count": 120,
   "metadata": {},
   "outputs": [],
   "source": [
    "x = [[150, 50], [155, 55], [155, 80], [160, 55], [145, 55]]\n",
    "y = [[0], [0], [1], [0], [1]]\n",
    "x_test = [[130,35], [150, 45], [160, 50], [170, 57], [180, 70]]"
   ]
  },
  {
   "cell_type": "code",
   "execution_count": 121,
   "metadata": {},
   "outputs": [],
   "source": [
    "from sklearn.preprocessing import MinMaxScaler\n",
    "scalar = MinMaxScaler().fit(x) # x의 최대 최소값을 계산해두고\n",
    "x = scalar.transform(x) # 정규화한다.\n",
    "x_test = scalar.transform(x_test)"
   ]
  },
  {
   "cell_type": "code",
   "execution_count": 122,
   "metadata": {},
   "outputs": [],
   "source": [
    "W = tf.Variable(tf.random_normal(shape=[2]))\n",
    "b = tf.Variable(tf.random_normal(shape=[1]))\n",
    "z = tf.reduce_sum(W*x, axis=1, keepdims=True) +b\n",
    "hypothesis = 1/(1+tf.exp(-z))\n",
    "cost = tf.reduce_mean(tf.square(hypothesis - y))\n",
    "train = tf.train.GradientDescentOptimizer(0.01).minimize(cost)\n",
    "\n",
    "sess = tf.Session()\n",
    "sess.run(tf.global_variables_initializer()) # 최초에 한번씩 꼭 해줘야 한다."
   ]
  },
  {
   "cell_type": "code",
   "execution_count": 127,
   "metadata": {},
   "outputs": [],
   "source": [
    "z_test = tf.reduce_sum(W*x, axis=1, keepdims=True) +b\n",
    "hypothesis_test = 1/(1+tf.exp(-z_test))"
   ]
  },
  {
   "cell_type": "code",
   "execution_count": 128,
   "metadata": {},
   "outputs": [
    {
     "name": "stdout",
     "output_type": "stream",
     "text": [
      "[0.3908865, array([-0.26671204, -1.0083485 ], dtype=float32)]\n",
      "[0.38895094, array([-0.27509674, -1.0056121 ], dtype=float32)]\n",
      "[0.3870102, array([-0.2834959, -1.0028391], dtype=float32)]\n",
      "[0.38506475, array([-0.2919079, -1.0000293], dtype=float32)]\n",
      "[0.38311547, array([-0.30033118, -0.9971827 ], dtype=float32)]\n",
      "[0.38116306, array([-0.30876416, -0.99429935], dtype=float32)]\n",
      "[0.3792082, array([-0.31720513, -0.9913791 ], dtype=float32)]\n",
      "[0.37725157, array([-0.32565245, -0.9884221 ], dtype=float32)]\n",
      "[0.37529406, array([-0.3341044 , -0.98542845], dtype=float32)]\n",
      "[0.37333632, array([-0.3425593, -0.9823982], dtype=float32)]\n"
     ]
    }
   ],
   "source": [
    "#w와 b가 update됩니다.\n",
    "for i in range(100):\n",
    "    sess.run(train)\n",
    "    if i%10==0 :\n",
    "        print(sess.run([cost, W]))"
   ]
  },
  {
   "cell_type": "code",
   "execution_count": 129,
   "metadata": {},
   "outputs": [
    {
     "data": {
      "text/plain": [
       "array([[0.7673965 ],\n",
       "       [0.71375096],\n",
       "       [0.5243072 ],\n",
       "       [0.68932134],\n",
       "       [0.75898415]], dtype=float32)"
      ]
     },
     "execution_count": 129,
     "metadata": {},
     "output_type": "execute_result"
    }
   ],
   "source": [
    "sess.run(hypothesis)"
   ]
  },
  {
   "cell_type": "code",
   "execution_count": 130,
   "metadata": {},
   "outputs": [
    {
     "data": {
      "text/plain": [
       "array([[0.7673965 ],\n",
       "       [0.71375096],\n",
       "       [0.5243072 ],\n",
       "       [0.68932134],\n",
       "       [0.75898415]], dtype=float32)"
      ]
     },
     "execution_count": 130,
     "metadata": {},
     "output_type": "execute_result"
    }
   ],
   "source": [
    "sess.run(hypothesis_test)"
   ]
  },
  {
   "cell_type": "code",
   "execution_count": 131,
   "metadata": {},
   "outputs": [
    {
     "data": {
      "text/plain": [
       "<matplotlib.collections.PathCollection at 0x18865630>"
      ]
     },
     "execution_count": 131,
     "metadata": {},
     "output_type": "execute_result"
    },
    {
     "data": {
      "image/png": "[encoded data removed]",
      "text/plain": [
       "<Figure size 432x288 with 1 Axes>"
      ]
     },
     "metadata": {
      "needs_background": "light"
     },
     "output_type": "display_data"
    }
   ],
   "source": [
    "x = np.arange(-100, 100, 0.001)\n",
    "plt.scatter(x, 1/(1+np.exp(-x)))"
   ]
  },
  {
   "cell_type": "code",
   "execution_count": null,
   "metadata": {},
   "outputs": [],
   "source": []
  }
 ],
 "metadata": {
  "kernelspec": {
   "display_name": "Python 3",
   "language": "python",
   "name": "python3"
  },
  "language_info": {
   "codemirror_mode": {
    "name": "ipython",
    "version": 3
   },
   "file_extension": ".py",
   "mimetype": "text/x-python",
   "name": "python",
   "nbconvert_exporter": "python",
   "pygments_lexer": "ipython3",
   "version": "3.7.3"
  }
 },
 "nbformat": 4,
 "nbformat_minor": 2
}
