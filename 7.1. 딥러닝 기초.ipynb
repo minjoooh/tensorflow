{
 "cells": [
  {
   "cell_type": "markdown",
   "metadata": {},
   "source": [
    "머신러닝 종류 : 교사, 비교사, 강화\n",
    "\n",
    "모델\n",
    "- 딥러닝   : 선형회구, 논리회구\n",
    "- 선형회귀 : Y = WX + b, X(x1, x2, xn) : 실수예측\n",
    "- 논리회귀 : Y = sigmoid(WX+b) = [0, 1] 확률 : 2진 분류\n",
    "- 다중논리회귀 : Y = softmax(W_k * X + b_k) : k개 분류\n",
    "    ex) 날씨 k =3(맑음/흐림/비), Y(0, 1, 2)\n",
    "        X(온도, 습도, 바람) = (x1, x2, x3)\n",
    "        맑을 가능성 = W_k1 * X + b_k1 = W_맑음 * X + b_맑음\n",
    "        습할 가능성 = W_k2 * X + b_k2 = W_습도 * X + b_습도\n",
    "        비올 가능성 = W_k3 * X + b_k3 = W_비 * X + b_비\n",
    "        \n",
    "        가능성(score, logit) = (맑을 가능성, 습할 가능성, 비올 가능성) = (10, 80, 40)\n",
    "        softmax(10, 80, 40) = (0.02, 0.9, 0.08) -- 확률로 변경\n",
    "        \n",
    "        Y 원핫 인코딩 Y=1 => (0, 1, 0)\n",
    "        \n",
    "파라미터       : W와 b 같이 모델이 fit하는 값\n",
    "하이퍼파라미터 : 학습률과 정규화 같이 사람이 결정하는 값\n",
    "\n",
    "머신러닝 라이브러리 : sklearn(하이퍼파라미터 자동설정) <-> tenserflow(우리가 직접 셋팅)"
   ]
  },
  {
   "cell_type": "markdown",
   "metadata": {},
   "source": [
    "# 멀티 클래스 분류"
   ]
  },
  {
   "cell_type": "code",
   "execution_count": 1,
   "metadata": {},
   "outputs": [],
   "source": [
    "import pandas as pd\n",
    "import numpy as np\n",
    "import matplotlib.pyplot as plt\n",
    "import tensorflow as tf"
   ]
  },
  {
   "cell_type": "code",
   "execution_count": 2,
   "metadata": {},
   "outputs": [],
   "source": [
    "from sklearn.datasets import load_iris"
   ]
  },
  {
   "cell_type": "code",
   "execution_count": 5,
   "metadata": {},
   "outputs": [
    {
     "data": {
      "text/plain": [
       "((150, 4), (150,), 0, 2)"
      ]
     },
     "execution_count": 5,
     "metadata": {},
     "output_type": "execute_result"
    }
   ],
   "source": [
    "# 3종류 붓꽃 분류\n",
    "# X : 꽃의 길이 너비, 꽃받침의 길이 너미 4개\n",
    "X, y = load_iris(return_X_y=True)\n",
    "X.shape, y.shape, min(y), max(y)"
   ]
  },
  {
   "cell_type": "code",
   "execution_count": 6,
   "metadata": {},
   "outputs": [],
   "source": [
    "from sklearn.linear_model import LogisticRegression"
   ]
  },
  {
   "cell_type": "code",
   "execution_count": 11,
   "metadata": {},
   "outputs": [
    {
     "name": "stdout",
     "output_type": "stream",
     "text": [
      "accuray 0.96\n",
      "w [[ 0.41021713  1.46416217 -2.26003266 -1.02103509]\n",
      " [ 0.4275087  -1.61211605  0.5758173  -1.40617325]\n",
      " [-1.70751526 -1.53427768  2.47096755  2.55537041]] b [ 0.26421853  1.09392467 -1.21470917]\n"
     ]
    },
    {
     "name": "stderr",
     "output_type": "stream",
     "text": [
      "C:\\ProgramData\\Anaconda3\\lib\\site-packages\\sklearn\\linear_model\\logistic.py:432: FutureWarning: Default solver will be changed to 'lbfgs' in 0.22. Specify a solver to silence this warning.\n",
      "  FutureWarning)\n",
      "C:\\ProgramData\\Anaconda3\\lib\\site-packages\\sklearn\\linear_model\\logistic.py:469: FutureWarning: Default multi_class will be changed to 'auto' in 0.22. Specify the multi_class option to silence this warning.\n",
      "  \"this warning.\", FutureWarning)\n"
     ]
    }
   ],
   "source": [
    "model = LogisticRegression().fit(X, y)\n",
    "print('accuray', model.score(X, y))\n",
    "print('w', model.coef_, 'b', model.intercept_)\n",
    "# Y = W_k * X _ b_k\n",
    "# W : (3, 4), b:(3) => 클래스 종류가 3개이고, 4개의 특성이 있다."
   ]
  },
  {
   "cell_type": "code",
   "execution_count": 15,
   "metadata": {},
   "outputs": [
    {
     "data": {
      "text/plain": [
       "(numpy.ndarray, numpy.ndarray, 7.9, 0.1, (150, 4), (150,))"
      ]
     },
     "execution_count": 15,
     "metadata": {},
     "output_type": "execute_result"
    }
   ],
   "source": [
    "type(X), type(y), np.max(X), np.min(X), X.shape, y.shape"
   ]
  },
  {
   "cell_type": "code",
   "execution_count": 16,
   "metadata": {},
   "outputs": [],
   "source": [
    "from sklearn.preprocessing import OneHotEncoder"
   ]
  },
  {
   "cell_type": "code",
   "execution_count": 22,
   "metadata": {},
   "outputs": [
    {
     "name": "stderr",
     "output_type": "stream",
     "text": [
      "C:\\ProgramData\\Anaconda3\\lib\\site-packages\\sklearn\\preprocessing\\_encoders.py:415: FutureWarning: The handling of integer data will change in version 0.22. Currently, the categories are determined based on the range [0, max(values)], while in the future they will be determined based on the unique values.\n",
      "If you want the future behaviour and silence this warning, you can specify \"categories='auto'\".\n",
      "In case you used a LabelEncoder before this OneHotEncoder to convert the categories to integers, then you can now use the OneHotEncoder directly.\n",
      "  warnings.warn(msg, FutureWarning)\n"
     ]
    },
    {
     "data": {
      "text/plain": [
       "((150, 4), (150, 3))"
      ]
     },
     "execution_count": 22,
     "metadata": {},
     "output_type": "execute_result"
    }
   ],
   "source": [
    "y_2d = y.reshape([-1, 1])\n",
    "y_hot = OneHotEncoder().fit_transform(y_2d)\n",
    "y_hot = y_hot.toarray()\n",
    "x = X.astype(np.float32)\n",
    "x.shape, y_hot.shape"
   ]
  },
  {
   "cell_type": "code",
   "execution_count": 18,
   "metadata": {},
   "outputs": [
    {
     "name": "stderr",
     "output_type": "stream",
     "text": [
      "WARNING: Logging before flag parsing goes to stderr.\n",
      "W0909 09:52:57.951887  7416 deprecation.py:323] From C:\\ProgramData\\Anaconda3\\lib\\site-packages\\tensorflow\\python\\ops\\math_grad.py:1250: add_dispatch_support.<locals>.wrapper (from tensorflow.python.ops.array_ops) is deprecated and will be removed in a future version.\n",
      "Instructions for updating:\n",
      "Use tf.where in 2.0, which has the same broadcast rule as np.where\n"
     ]
    }
   ],
   "source": [
    "w = tf.Variable(tf.random_normal(shape=[4, 3]))\n",
    "b = tf.Variable(tf.random_normal(shape=[3]))\n",
    "xn = x / tf.reduce_max(x)\n",
    "z = tf.matmul(xn, w) + b\n",
    "h = tf.nn.softmax(z)\n",
    "h = tf.clip_by_value(h, 1e-8, 1- 1e-8) # log(0)이 되지 않도록 안전장치\n",
    "cost = -tf.reduce_mean(y_hot * tf.log(h) + (1-y_hot) * tf.log(1-h))\n",
    "predict_class = tf.math.argmax(h, axis=1, output_type=tf.int32) # [0, 2]\n",
    "accuracy = tf.reduce_mean(tf.cast(tf.equal(predict_class, y), tf.float32))\n",
    "train = tf.train.GradientDescentOptimizer(0.5).minimize(cost)\n",
    "sess = tf.Session()\n",
    "sess.run(tf.global_variables_initializer())"
   ]
  },
  {
   "cell_type": "code",
   "execution_count": 20,
   "metadata": {},
   "outputs": [
    {
     "name": "stdout",
     "output_type": "stream",
     "text": [
      "0 0.25077334 0.9533333\n",
      "100 0.24228756 0.96\n",
      "200 0.23459691 0.96\n",
      "300 0.22757462 0.96666664\n",
      "400 0.22112331 0.96666664\n",
      "500 0.21516612 0.96666664\n",
      "600 0.2096412 0.96666664\n",
      "700 0.20449778 0.96666664\n",
      "800 0.19969349 0.96666664\n",
      "900 0.19519275 0.96666664\n"
     ]
    }
   ],
   "source": [
    "for i in range(1000):\n",
    "    _, c, a = sess.run([train, cost, accuracy])\n",
    "    if i%100==0:\n",
    "        print(i, c, a)"
   ]
  },
  {
   "cell_type": "code",
   "execution_count": null,
   "metadata": {},
   "outputs": [],
   "source": []
  }
 ],
 "metadata": {
  "kernelspec": {
   "display_name": "Python 3",
   "language": "python",
   "name": "python3"
  },
  "language_info": {
   "codemirror_mode": {
    "name": "ipython",
    "version": 3
   },
   "file_extension": ".py",
   "mimetype": "text/x-python",
   "name": "python",
   "nbconvert_exporter": "python",
   "pygments_lexer": "ipython3",
   "version": "3.7.3"
  }
 },
 "nbformat": 4,
 "nbformat_minor": 2
}
