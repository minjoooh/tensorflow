{
 "cells": [
  {
   "cell_type": "markdown",
   "metadata": {},
   "source": [
    "## neural transalte 번역"
   ]
  },
  {
   "cell_type": "markdown",
   "metadata": {},
   "source": [
    "- 문장 > 단어들(토큰)     : 토큰나이징\n",
    "- 단어 > 벡터(1차원 배열) : 워드 임베딩"
   ]
  },
  {
   "cell_type": "code",
   "execution_count": 96,
   "metadata": {},
   "outputs": [],
   "source": [
    "import numpy as np\n",
    "import tensorflow as tf\n",
    "import matplotlib.pyplot as plt"
   ]
  },
  {
   "cell_type": "markdown",
   "metadata": {},
   "source": [
    "나는 남자 다\n",
    "나는 소년 다\n",
    "나는 소녀 다\n",
    "너는 남자 ?\n",
    "너는 여자 ?"
   ]
  },
  {
   "cell_type": "markdown",
   "metadata": {},
   "source": [
    "나는 : 0\n",
    "다 : 1\n",
    "? : 2\n",
    "남자 : 3\n",
    "여자 : 4\n",
    "소년 : 5\n",
    "소녀 : 6"
   ]
  },
  {
   "cell_type": "markdown",
   "metadata": {},
   "source": [
    "i : 0 am : 1 a : 2 ? : 3 man : 4 woman : 5 boy : 6 girl : 7 are : 8 you : 9"
   ]
  },
  {
   "cell_type": "code",
   "execution_count": 97,
   "metadata": {},
   "outputs": [
    {
     "data": {
      "text/plain": [
       "(5, 5)"
      ]
     },
     "execution_count": 97,
     "metadata": {},
     "output_type": "execute_result"
    }
   ],
   "source": [
    "x = [[0, 3, 1], [0, 5, 1], [0, 6, 1], [7, 3, 2], [7, 4, 2]]\n",
    "y = [[0, 1, 2, 4], [0, 1, 2, 6], [0, 1, 2, 7], [8, 9, 4, 3], [8, 9, 5, 3]]\n",
    "len(x), len(y)"
   ]
  },
  {
   "cell_type": "code",
   "execution_count": 98,
   "metadata": {},
   "outputs": [
    {
     "data": {
      "text/plain": [
       "((5, 3), (5, 4), dtype('int32'), dtype('int32'))"
      ]
     },
     "execution_count": 98,
     "metadata": {},
     "output_type": "execute_result"
    }
   ],
   "source": [
    "x = np.array(x)\n",
    "y = np.array(y)\n",
    "x.shape, y.shape, x.dtype, y.dtype"
   ]
  },
  {
   "cell_type": "code",
   "execution_count": 99,
   "metadata": {},
   "outputs": [
    {
     "data": {
      "text/plain": [
       "(10, 8, 8)"
      ]
     },
     "execution_count": 99,
     "metadata": {},
     "output_type": "execute_result"
    }
   ],
   "source": [
    "embedding_size = 10 # 한 단어는 사이즈 10 백터로 변환\n",
    "vocabulary_size = np.max(x) + 1 # 전체 단어 수\n",
    "vocabulary_size_target = np.max(x) + 1 # 전체 단어 수\n",
    "embedding_size, vocabulary_size, vocabulary_size_target"
   ]
  },
  {
   "cell_type": "code",
   "execution_count": 103,
   "metadata": {},
   "outputs": [],
   "source": [
    "import tensorflow.contrib.slim as slim\n",
    "tf.reset_default_graph()\n",
    "word_embeddings = tf.get_variable('embed', shape=[vocabulary_size, embedding_size])\n",
    "embedded = tf.nn.embedding_lookup(word_embeddings, x) #5, 3 > 5, 3, 5\n",
    "cell_encoder = tf.nn.rnn_cell.GRUCell(100, name='enc') # 출력 100개\n",
    "cell_encoder = tf.nn.rnn_cell.DropoutWrapper(cell_encoder, output_keep_prob=0.9)\n",
    "outputs, last_state = tf.nn.dynamic_rnn(cell_encoder, embedded, dtype=tf.float32)\n",
    "cell_decoder = tf.nn.rnn_cell.GRUCell(100, name='dec') # 출력 100개\n",
    "# 5:다섯개의 문장, 4:문장의 단어수 단어를 ?개의 배열로 변환해라\n",
    "zero_matrix = tf.zeros([5, 4, embedding_size])\n",
    "outputs, last_state = tf.nn.dynamic_rnn(cell_decoder, zero_matrix, initial_state=last_state)\n",
    "out = slim.fully_connected(outputs, 10) #영어 단어 총 10개\n",
    "cost = tf.compat.v1.nn.sparse_softmax_cross_entropy_with_logits(logits=out, labels=y)\n",
    "cost = tf.reduce_mean(cost)\n",
    "train = tf.train.GradientDescentOptimizer(0.5).minimize(cost)\n"
   ]
  },
  {
   "cell_type": "code",
   "execution_count": 104,
   "metadata": {},
   "outputs": [
    {
     "name": "stdout",
     "output_type": "stream",
     "text": [
      "0 2.306279\n",
      "10 2.2513955\n",
      "20 2.2010555\n",
      "30 2.1364312\n",
      "40 2.0718522\n",
      "50 1.9667625\n",
      "60 1.8508165\n",
      "70 1.7715724\n",
      "80 1.7170804\n",
      "90 1.6695442\n"
     ]
    }
   ],
   "source": [
    "sess = tf.Session()\n",
    "sess.run(tf.global_variables_initializer())\n",
    "for i in range(100):\n",
    "    _, c = sess.run([train, cost])\n",
    "    if i%10==0 : print(i, c)"
   ]
  },
  {
   "cell_type": "code",
   "execution_count": 105,
   "metadata": {},
   "outputs": [
    {
     "name": "stdout",
     "output_type": "stream",
     "text": [
      "[[[0.   0.   0.15 0.   0.   0.   0.   0.   0.03 0.  ]\n",
      "  [0.   0.   0.83 0.   0.66 0.   0.   0.   0.   0.  ]\n",
      "  [0.   0.   1.35 0.19 1.23 0.   0.   0.   0.   0.  ]\n",
      "  [0.   0.   1.77 0.55 1.72 0.   0.   0.   0.   0.  ]]\n",
      "\n",
      " [[0.   0.   0.52 0.   0.   0.   0.   0.   0.   0.  ]\n",
      "  [0.   0.   1.13 0.   0.   0.   0.   0.   0.   0.  ]\n",
      "  [0.   0.   1.59 0.   0.   0.   0.   0.   0.   0.  ]\n",
      "  [0.   0.   1.93 0.   0.35 0.   0.   0.   0.   0.  ]]\n",
      "\n",
      " [[0.   0.   0.31 0.   0.   0.   0.   0.   0.   0.  ]\n",
      "  [0.   0.   0.95 0.   0.   0.   0.   0.   0.   0.  ]\n",
      "  [0.   0.   1.45 0.   0.15 0.   0.   0.   0.   0.  ]\n",
      "  [0.   0.   1.82 0.   0.57 0.   0.   0.   0.   0.  ]]\n",
      "\n",
      " [[0.   0.   0.   0.   0.91 0.   0.   0.   5.28 4.06]\n",
      "  [0.   0.   0.   1.4  2.   0.   0.   0.   2.55 3.51]\n",
      "  [0.   0.   0.   3.05 2.84 0.   0.   0.   0.   2.45]\n",
      "  [0.   0.   0.46 4.33 3.45 0.   0.   0.   0.   1.21]]\n",
      "\n",
      " [[0.   0.   0.   0.   0.17 0.   0.   0.   5.06 3.82]\n",
      "  [0.   0.   0.   1.03 1.15 0.   0.   0.   2.53 3.31]\n",
      "  [0.   0.   0.   2.54 1.96 0.   0.   0.   0.03 2.34]\n",
      "  [0.   0.   0.42 3.74 2.59 0.   0.   0.   0.   1.18]]]\n"
     ]
    }
   ],
   "source": [
    "np.set_printoptions(precision=2, suppress=True)\n",
    "print(sess.run(out))"
   ]
  },
  {
   "cell_type": "code",
   "execution_count": null,
   "metadata": {},
   "outputs": [],
   "source": []
  },
  {
   "cell_type": "code",
   "execution_count": null,
   "metadata": {},
   "outputs": [],
   "source": []
  },
  {
   "cell_type": "code",
   "execution_count": null,
   "metadata": {},
   "outputs": [],
   "source": []
  },
  {
   "cell_type": "code",
   "execution_count": null,
   "metadata": {},
   "outputs": [],
   "source": []
  },
  {
   "cell_type": "code",
   "execution_count": null,
   "metadata": {},
   "outputs": [],
   "source": []
  },
  {
   "cell_type": "code",
   "execution_count": null,
   "metadata": {},
   "outputs": [],
   "source": []
  },
  {
   "cell_type": "code",
   "execution_count": null,
   "metadata": {},
   "outputs": [],
   "source": []
  },
  {
   "cell_type": "code",
   "execution_count": null,
   "metadata": {},
   "outputs": [],
   "source": []
  },
  {
   "cell_type": "code",
   "execution_count": null,
   "metadata": {},
   "outputs": [],
   "source": []
  }
 ],
 "metadata": {
  "kernelspec": {
   "display_name": "Python 3",
   "language": "python",
   "name": "python3"
  },
  "language_info": {
   "codemirror_mode": {
    "name": "ipython",
    "version": 3
   },
   "file_extension": ".py",
   "mimetype": "text/x-python",
   "name": "python",
   "nbconvert_exporter": "python",
   "pygments_lexer": "ipython3",
   "version": "3.7.3"
  }
 },
 "nbformat": 4,
 "nbformat_minor": 2
}
